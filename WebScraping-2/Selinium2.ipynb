{
 "cells": [
  {
   "cell_type": "markdown",
   "metadata": {},
   "source": [
    "WAIT: https://selenium-python.readthedocs.io/waits.html#implicit-waits\n",
    "\n",
    "* These days most of the web apps are using AJAX techniques. When a page is loaded by the browser, the elements within that page may load at different time intervals. This makes locating elements difficult: if an element is not yet present in the DOM, a locate function will raise an ElementNotVisibleException exception. Using waits, we can solve this issue. Waiting provides some slack between actions performed - mostly locating an element or any other operation with the element.\n",
    "\n",
    "* Selenium Webdriver provides two types of waits - implicit & explicit. An explicit wait makes WebDriver wait for a certain condition to occur before proceeding further with execution. An implicit wait makes WebDriver poll the DOM for a certain amount of time when trying to locate an element.\n",
    "\n",
    "EXAMPLE:\n",
    "Flight from Delhi to mumbai on 25th May:\n",
    "\n",
    "    * 1> visit Paytm.com\n",
    "    * 2> click btn \"flights\"\n",
    "    * 3> Enter details->\n",
    "        Delhi->Mumbai on 25th May\n",
    "    * 4> Serch btn\n",
    "    * 5> Extract all the data\n",
    "    \n",
    "    \n",
    "#class selenium.webdriver.support.wait.WebDriverWait(driver, timeout, poll_frequency=0.5, ignored_exceptions=None)[source]\n",
    "    Constructor, takes a WebDriver instance and timeout in seconds.\n",
    "\n",
    "Args :\t\n",
    "   * driver - Instance of WebDriver (Ie, Firefox, Chrome or Remote)\n",
    "   * timeout - Number of seconds before timing out\n",
    "   * poll_frequency - sleep interval between calls By default, it is 0.5 second.\n",
    "   * ignored_exceptions - iterable structure of exception classes ignored during calls. By default, it contains NoSuchElementException only.\n",
    "\n",
    "Example:\n",
    "    from selenium.webdriver.support.ui import WebDriverWait\n",
    "\n",
    "    element = WebDriverWait(driver, 10).until(lambda x: x.find_element_by_id(“someId”))\n",
    "\n",
    "    is_disappeared = WebDriverWait(driver, 30, 1, (ElementNotVisibleException)).\n",
    "\n",
    "    until_not(lambda x: x.find_element_by_id(“someId”).is_displayed())\n",
    "* until(method, message='')[source]\n",
    "     Calls the method provided with the driver as an argument until the return value is not False.\n",
    "\n",
    "* until_not(method, message='')[source]\n",
    "    Calls the method provided with the driver as an argument until the return value is False."
   ]
  },
  {
   "cell_type": "markdown",
   "metadata": {},
   "source": [
    "# Implicit_Wait\n",
    "* it is applied globally\n",
    "* it will remain active untill the driver obj(driver) is not destroyed\n",
    "* for locating each element the driver obj will wait for 10 second\n",
    "\n",
    "* An implicit wait tells WebDriver to poll the DOM for a certain amount of time when trying to find any element (or elements) not immediately available. The default setting is 0. Once set, the implicit wait is set for the life of the WebDriver object.\n",
    "\n",
    "from selenium import webdriver\n",
    "\n",
    "driver = webdriver.Firefox()\n",
    "driver.implicitly_wait(10) # seconds\n",
    "driver.get(\"http://somedomain/url_that_delays_loading\")\n",
    "myDynamicElement = driver.find_element_by_id(\"myDynamicElement\")"
   ]
  },
  {
   "cell_type": "code",
   "execution_count": 13,
   "metadata": {},
   "outputs": [],
   "source": [
    "from selenium import webdriver"
   ]
  },
  {
   "cell_type": "code",
   "execution_count": 14,
   "metadata": {},
   "outputs": [
    {
     "data": {
      "text/plain": [
       "<selenium.webdriver.chrome.webdriver.WebDriver (session=\"21fa67b231366fc4480cffd2cf585885\")>"
      ]
     },
     "execution_count": 14,
     "metadata": {},
     "output_type": "execute_result"
    }
   ],
   "source": [
    "driver = webdriver.Chrome(executable_path = r'C:\\Users\\Manish\\DriverChrome\\chromedriver') #creating a driver sesion\n",
    "driver"
   ]
  },
  {
   "cell_type": "code",
   "execution_count": 15,
   "metadata": {},
   "outputs": [],
   "source": [
    "#visit the required site\n",
    "driver.get('https://www.dell.com/en-in')"
   ]
  },
  {
   "cell_type": "code",
   "execution_count": 11,
   "metadata": {},
   "outputs": [],
   "source": [
    "#Locating the serch element(serch box) from the page by inspecting here i.e 'serch_input' and store in a variable(text_box)\n",
    "#send the required data using .send_keys()\n",
    "#as serch btn on page is of type submit then use submit method\n",
    "#(//div[contains(@class,\"gridbox\")]/div/a) is use to locate the first laptop on page\n",
    "#then click()"
   ]
  },
  {
   "cell_type": "code",
   "execution_count": 35,
   "metadata": {},
   "outputs": [
    {
     "data": {
      "text/plain": [
       "<selenium.webdriver.remote.webelement.WebElement (session=\"21fa67b231366fc4480cffd2cf585885\", element=\"4dcc7c26-fd34-4634-af47-5e62e861f857\")>"
      ]
     },
     "execution_count": 35,
     "metadata": {},
     "output_type": "execute_result"
    }
   ],
   "source": [
    "text_box = driver.find_element_by_class_name('mh-search-input')\n",
    "text_box.send_keys('Gaming Laptops')\n",
    "#text_box.submit()\n",
    "serch_btn = driver.find_element_by_class_name('mh-search-button-label')\n",
    "serch_btn.click()\n",
    "driver.implicitly_wait(10) #10 means wait for 10 sec befor locating obj\n",
    "lap1 = driver.find_element_by_xpath('//div[contains(@class,\"gridbox\")]/div/a')\n",
    "lap1"
   ]
  },
  {
   "cell_type": "code",
   "execution_count": 36,
   "metadata": {},
   "outputs": [],
   "source": [
    "lap1.click()"
   ]
  },
  {
   "cell_type": "markdown",
   "metadata": {},
   "source": [
    "# Explicit_Wait\n",
    "* An explicit wait is a code you define to wait for a certain condition to occur before proceeding further in the code. The extreme case of this is time.sleep(), which sets the condition to an exact time period to wait.\n",
    "* There are some convenience methods provided that help you write code that will wait only as long as required. WebDriverWait in combination with ExpectedCondition is one way this can be accomplished.\n",
    "Example:\n",
    "\n",
    "from selenium import webdriver\n",
    "from selenium.webdriver.common.by import By\n",
    "from selenium.webdriver.support.ui import WebDriverWait\n",
    "from selenium.webdriver.support import expected_conditions as EC\n",
    "\n",
    "driver = webdriver.Firefox()\n",
    "driver.get(\"http://somedomain/url_that_delays_loading\")\n",
    "try:\n",
    "    element = WebDriverWait(driver, 10).until(\n",
    "        EC.presence_of_element_located((By.ID, \"myDynamicElement\"))\n",
    "    )\n",
    "finally:\n",
    "    driver.quit()\n",
    "    \n",
    "* This waits up to 10 seconds before throwing a TimeoutException unless it finds the element to return within 10 seconds. WebDriverWait by default calls the ExpectedCondition every 500 milliseconds until it returns successfully. A successful return is for ExpectedCondition type is Boolean return true or not null return value for all other ExpectedCondition types.\n",
    "\n",
    "# Expected Conditions\n",
    "\n",
    "* There are some common conditions that are frequently of use when automating web browsers. Listed below are the names of each. Selenium Python binding provides some convenience methods so you don’t have to code an expected_condition class yourself or create your own utility package for them.\n",
    "* title_is\n",
    "* title_contains\n",
    "* presence_of_element_located\n",
    "* visibility_of_element_located\n",
    "* visibility_of\n",
    "* presence_of_all_elements_located\n",
    "* text_to_be_present_in_element\n",
    "* text_to_be_present_in_element_value\n",
    "* frame_to_be_available_and_switch_to_it\n",
    "* invisibility_of_element_located\n",
    "* element_to_be_clickable\n",
    "* staleness_of\n",
    "* element_to_be_selected\n",
    "* element_located_to_be_selected\n",
    "* element_selection_state_to_be\n",
    "* element_located_selection_state_to_be\n",
    "* alert_is_present"
   ]
  },
  {
   "cell_type": "code",
   "execution_count": 38,
   "metadata": {},
   "outputs": [],
   "source": [
    "from selenium.webdriver.support.ui import WebDriverWait\n",
    "from selenium.webdriver.support import expected_conditions as EC\n",
    "from selenium.webdriver.common.by import By\n",
    "\n",
    "text_box = driver.find_element_by_class_name('mh-search-input')\n",
    "text_box.send_keys('Gaming Laptops')\n",
    "#text_box.submit()\n",
    "serch_btn = driver.find_element_by_class_name('mh-search-button-label')\n",
    "serch_btn.click()\n",
    "\n",
    "##Explicit_Wait\n",
    "wait = WebDriverWait(driver, 10)  #create obj of class WebDriverWait and pass name of driver and upper_limit of wait\n",
    "\n",
    "lap1 = wait.until(EC.presence_of_element_located((By.XPATH,'//div[contains(@class,\"gridbox\")]/div/a')))# we call method untill which\n",
    "#say to wait till presence_of_element_located() on my web page, to locate we'r using xpath\n",
    "#if element is loded in just 5 second then after 5sec next line is excuted.\n",
    "#if element is not loded in 10 second then driver will throw exception no such element is found.\n",
    "\n",
    "lap1.click()"
   ]
  },
  {
   "cell_type": "code",
   "execution_count": null,
   "metadata": {},
   "outputs": [],
   "source": []
  }
 ],
 "metadata": {
  "kernelspec": {
   "display_name": "Python 3",
   "language": "python",
   "name": "python3"
  },
  "language_info": {
   "codemirror_mode": {
    "name": "ipython",
    "version": 3
   },
   "file_extension": ".py",
   "mimetype": "text/x-python",
   "name": "python",
   "nbconvert_exporter": "python",
   "pygments_lexer": "ipython3",
   "version": "3.7.1"
  }
 },
 "nbformat": 4,
 "nbformat_minor": 2
}
