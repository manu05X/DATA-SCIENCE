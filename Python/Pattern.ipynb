{
 "cells": [
  {
   "cell_type": "markdown",
   "metadata": {},
   "source": [
    "Q>\n",
    "Code : Square Pattern\n",
    "\n",
    "Print the following pattern for the given N number of rows.\n",
    "\n",
    "Pattern for N = 4\n",
    "\n",
    "    4444\n",
    "    4444\n",
    "    4444\n",
    "    4444\n",
    "\n",
    "Input format :\n",
    "\n",
    "    Integer N (Total no. of rows)\n",
    "\n",
    "Output format :\n",
    "    Pattern in N lines\n",
    "\n",
    "Sample Input :\n",
    "    7\n",
    "Sample Output :\n",
    "    \n",
    "    7777777\n",
    "    \n",
    "    7777777\n",
    "    \n",
    "    7777777\n",
    "    \n",
    "    7777777\n",
    "    \n",
    "    7777777\n",
    "    \n",
    "    7777777\n",
    "    \n",
    "    7777777"
   ]
  },
  {
   "cell_type": "code",
   "execution_count": 1,
   "metadata": {},
   "outputs": [
    {
     "name": "stdout",
     "output_type": "stream",
     "text": [
      "5\n",
      "55555\n",
      "55555\n",
      "55555\n",
      "55555\n",
      "55555\n"
     ]
    }
   ],
   "source": [
    "## Read input as specified in the question\n",
    "## Print the required output in given format\n",
    "n = int(input())\n",
    "i = 1\n",
    "while i <= n:\n",
    "    j= 1\n",
    "    while j <= n:\n",
    "        print(n, end='')\n",
    "        j=j+1\n",
    "    print()\n",
    "    i = i+1\n",
    "    \n"
   ]
  },
  {
   "cell_type": "code",
   "execution_count": 2,
   "metadata": {},
   "outputs": [
    {
     "name": "stdout",
     "output_type": "stream",
     "text": [
      "6\n",
      "*\n",
      "**\n",
      "***\n",
      "****\n",
      "*****\n",
      "******\n"
     ]
    }
   ],
   "source": [
    "#Q>Triangular Star Pattern\n",
    "## Read input as specified in the question\n",
    "## Print the required output in given format\n",
    "n = int(input())\n",
    "i =1\n",
    "while i<=n:\n",
    "    j= 1\n",
    "    while j <= i:\n",
    "        print('*',end ='')\n",
    "        j = j + 1\n",
    "    print()    \n",
    "    i= i+1"
   ]
  },
  {
   "cell_type": "code",
   "execution_count": 3,
   "metadata": {},
   "outputs": [
    {
     "name": "stdout",
     "output_type": "stream",
     "text": [
      "4\n",
      "1\n",
      "22\n",
      "333\n",
      "4444\n"
     ]
    }
   ],
   "source": [
    "#Q>Code : Triangle Number Pattern\n",
    "## Read input as specified in the question\n",
    "## Print the required output in given format\n",
    "n = int(input())\n",
    "i =1\n",
    "while i<=n:\n",
    "    j= 1\n",
    "    while j <= i:\n",
    "        print(i,end ='')\n",
    "        j = j + 1\n",
    "    print()    \n",
    "    i= i+1"
   ]
  },
  {
   "cell_type": "code",
   "execution_count": 4,
   "metadata": {},
   "outputs": [
    {
     "name": "stdout",
     "output_type": "stream",
     "text": [
      "4\n",
      "1\n",
      "21\n",
      "321\n",
      "4321\n"
     ]
    }
   ],
   "source": [
    "#Q>Code : Reverse Number Pattern\n",
    "## Read input as specified in the question\n",
    "## Print the required output in given format\n",
    "n = int(input())\n",
    "for i in range(1, n + 1):\n",
    "    for j in range(i, 0, -1):\n",
    "        print(j, end =''),\n",
    "    print(\"\")"
   ]
  },
  {
   "cell_type": "code",
   "execution_count": 5,
   "metadata": {},
   "outputs": [
    {
     "name": "stdout",
     "output_type": "stream",
     "text": [
      "7\n",
      "A\n",
      "BB\n",
      "CCC\n",
      "DDDD\n",
      "EEEEE\n",
      "FFFFFF\n",
      "GGGGGGG\n"
     ]
    }
   ],
   "source": [
    "#Q>Code : Alpha Pattern\n",
    "#Print the following pattern for the given N number of rows.\n",
    "## Read input as specified in the question\n",
    "## Print the required output in given format\n",
    "n = int(input())\n",
    "i =1\n",
    "while i<=n:\n",
    "    j= 1\n",
    "    start_char = chr(ord('A')+ i- 1)\n",
    "    while j <= i:\n",
    "        charP = chr(ord(start_char))\n",
    "        print(charP,end ='')\n",
    "        j = j + 1\n",
    "    print()    \n",
    "    i= i+1"
   ]
  },
  {
   "cell_type": "code",
   "execution_count": 6,
   "metadata": {},
   "outputs": [
    {
     "name": "stdout",
     "output_type": "stream",
     "text": [
      "6\n",
      "A\n",
      "BC\n",
      "CDE\n",
      "DEFG\n",
      "EFGHI\n",
      "FGHIJK\n"
     ]
    }
   ],
   "source": [
    "#Q>Code : Character Pattern\n",
    "## Read input as specified in the question\n",
    "## Print the required output in given format\n",
    "n = int(input())\n",
    "i =1\n",
    "while i<=n:\n",
    "    j= 1\n",
    "    start_char = chr(ord('A')+ i- 1)\n",
    "    while j <= i:\n",
    "        charP = chr(ord(start_char)+ j -1)\n",
    "        print(charP,end ='')\n",
    "        j = j + 1\n",
    "    print()    \n",
    "    i= i+1"
   ]
  },
  {
   "cell_type": "code",
   "execution_count": 7,
   "metadata": {},
   "outputs": [
    {
     "name": "stdout",
     "output_type": "stream",
     "text": [
      "7\n",
      "G\n",
      "FG\n",
      "EFG\n",
      "DEFG\n",
      "CDEFG\n",
      "BCDEFG\n",
      "ABCDEFG\n"
     ]
    }
   ],
   "source": [
    "#Q>Code : Interesting Alphabets\n",
    "n = int(input()) \n",
    "for i in range(n, 0, -1):\n",
    "    for j in range(i, n + 1, 1):\n",
    "        print(chr(ord('A')+j-1),end='') \n",
    "    print(); "
   ]
  },
  {
   "cell_type": "code",
   "execution_count": 8,
   "metadata": {},
   "outputs": [
    {
     "name": "stdout",
     "output_type": "stream",
     "text": [
      "7\n",
      "7777777\n",
      "666666\n",
      "55555\n",
      "4444\n",
      "333\n",
      "22\n",
      "1\n"
     ]
    }
   ],
   "source": [
    "#Q>Code : Inverted Number Pattern\n",
    "## Read input as specified in the question\n",
    "## Print the required output in given format\n",
    "n = int(input())\n",
    "i = 1\n",
    "while i <= n:\n",
    "    j= 1\n",
    "    while j <= n-i+1:\n",
    "        x =n-i+1\n",
    "        print(x,end =\"\")\n",
    "        j= j+1\n",
    "    print()\n",
    "    i = i + 1"
   ]
  },
  {
   "cell_type": "code",
   "execution_count": 9,
   "metadata": {},
   "outputs": [
    {
     "name": "stdout",
     "output_type": "stream",
     "text": [
      "7\n",
      "      1\n",
      "     12\n",
      "    123\n",
      "   1234\n",
      "  12345\n",
      " 123456\n",
      "1234567\n"
     ]
    }
   ],
   "source": [
    "#Q>Code : Mirror Number Pattern\n",
    "## Read input as specified in the question\n",
    "## Print the required output in given format\n",
    "n=int(input())\n",
    "i=1\n",
    "while i<=n:\n",
    "    space=1\n",
    "    while space<=n-i:\n",
    "        print(' ',end=\"\")\n",
    "        space=space+1\n",
    "    n0=1\n",
    "    while n0<=i:\n",
    "        print(n0,end=\"\")\n",
    "        n0=n0+1\n",
    "    print()\n",
    "    i=i+1"
   ]
  },
  {
   "cell_type": "markdown",
   "metadata": {},
   "source": [
    "Code : Star Pattern\n",
    "\n",
    "Print the following pattern\n",
    "\n",
    "Input Format :\n",
    "    \n",
    "    N (Total no. of rows)\n",
    "\n",
    "Output Format :\n",
    "    \n",
    "    Pattern in N lines"
   ]
  },
  {
   "cell_type": "code",
   "execution_count": 10,
   "metadata": {},
   "outputs": [
    {
     "name": "stdout",
     "output_type": "stream",
     "text": [
      "5\n",
      "    *\n",
      "   ***\n",
      "  *****\n",
      " *******\n",
      "*********\n"
     ]
    }
   ],
   "source": [
    "#Pattern for N = 4\n",
    " #    *\n",
    " #   *** \n",
    " #  *****\n",
    " # *******\n",
    "\n",
    "\n",
    "## Read input as specified in the question.\n",
    "## Print output as specified in the question.\n",
    "n=int(input())\n",
    "i=1\n",
    "\n",
    "while i<=n:\n",
    "    #space\n",
    "    space=1\n",
    "  \n",
    "    while space<=n-i:\n",
    "        print(\" \",end=\"\")\n",
    "        space=space+1\n",
    "       \n",
    "    inc_tri=1\n",
    "    while inc_tri<=i:\n",
    "        print(\"*\",end=\"\")\n",
    "        inc_tri=inc_tri+1\n",
    "    \n",
    "    dec_tri=1\n",
    "    while dec_tri<=i-1:\n",
    "        print(\"*\",end=\"\")\n",
    "        dec_tri=dec_tri+1\n",
    "    print()\n",
    "    i=i+1"
   ]
  },
  {
   "cell_type": "code",
   "execution_count": 11,
   "metadata": {},
   "outputs": [
    {
     "name": "stdout",
     "output_type": "stream",
     "text": [
      "5\n",
      "    1\n",
      "   232\n",
      "  34543\n",
      " 4567654\n",
      "567898765\n"
     ]
    }
   ],
   "source": [
    "#Code : Triangle of Numbers\n",
    "## Read input as specified in the question.\n",
    "## Print output as specified in the question.\n",
    "n=int(input())\n",
    "i=1\n",
    "\n",
    "while i<=n:\n",
    "    #space\n",
    "    space=1\n",
    "  \n",
    "    while space<=n-i:\n",
    "        print(\" \",end=\"\")\n",
    "        space=space+1\n",
    "       \n",
    "    inc_tri=1\n",
    "    p=i\n",
    "    while inc_tri<=i:\n",
    "        print(p,end=\"\")\n",
    "        p=p+1\n",
    "        inc_tri=inc_tri+1\n",
    "        \n",
    "        \n",
    "    j=p-2\n",
    "    dec_tri=1\n",
    "    while dec_tri<=i-1:\n",
    "        print(j,end=\"\")\n",
    "        j=j-1\n",
    "        dec_tri=dec_tri+1\n",
    "    print()\n",
    "    i=i+1"
   ]
  },
  {
   "cell_type": "code",
   "execution_count": 13,
   "metadata": {},
   "outputs": [
    {
     "name": "stdout",
     "output_type": "stream",
     "text": [
      "8\n",
      "   *\n",
      "  ***\n",
      " *****\n",
      "*******\n",
      " *******\n",
      "  *****\n",
      "   ***\n",
      "    *\n"
     ]
    }
   ],
   "source": [
    "# Q>Code : Diamond of stars\n",
    "# Send Feedback\n",
    "# Print the following pattern for the given number of rows.\n",
    "# Assume, N is always odd.\n",
    "\n",
    "## Read input as specified in the question.\n",
    "## Print output as specified in the question.\n",
    "n=int(input())\n",
    "i=1\n",
    "\n",
    "while i<=(n+1)//2:\n",
    "    limit=(n+1)//2\n",
    "    #space\n",
    "    space=1\n",
    "    while space<=limit-i:\n",
    "        print(\" \",end=\"\")\n",
    "        space=space+1\n",
    "       \n",
    "    inc_tri=1\n",
    "    while inc_tri<=i:\n",
    "        print(\"*\",end=\"\")\n",
    "        inc_tri=inc_tri+1\n",
    "        \n",
    "    dec_tri=1\n",
    "    while dec_tri<=i-1:\n",
    "        print(\"*\",end=\"\")\n",
    "        dec_tri=dec_tri+1\n",
    "    print()\n",
    "    i=i+1\n",
    "j=1\n",
    "p=1\n",
    "while  j<=n//2:\n",
    "     #space\n",
    "    space=1\n",
    "    while space<=p:\n",
    "        print(\" \",end=\"\")\n",
    "        space=space+1\n",
    "        \n",
    "    inc_tri=1\n",
    "    while inc_tri<=n-i+1:\n",
    "        print(\"*\",end=\"\")\n",
    "        inc_tri=inc_tri+1\n",
    "        \n",
    "    dec_tri=1\n",
    "    while dec_tri<=n-i:\n",
    "        print(\"*\",end=\"\")\n",
    "        dec_tri=dec_tri+1\n",
    "    print()\n",
    "    p=p+1\n",
    "    i=i+1\n",
    "    j=j+1   \n",
    "        "
   ]
  },
  {
   "cell_type": "code",
   "execution_count": null,
   "metadata": {},
   "outputs": [],
   "source": []
  }
 ],
 "metadata": {
  "kernelspec": {
   "display_name": "Python 3",
   "language": "python",
   "name": "python3"
  },
  "language_info": {
   "codemirror_mode": {
    "name": "ipython",
    "version": 3
   },
   "file_extension": ".py",
   "mimetype": "text/x-python",
   "name": "python",
   "nbconvert_exporter": "python",
   "pygments_lexer": "ipython3",
   "version": "3.7.1"
  }
 },
 "nbformat": 4,
 "nbformat_minor": 2
}
