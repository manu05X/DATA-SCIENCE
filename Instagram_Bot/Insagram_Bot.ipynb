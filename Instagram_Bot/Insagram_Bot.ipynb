{
 "cells": [
  {
   "cell_type": "code",
   "execution_count": 1,
   "metadata": {},
   "outputs": [],
   "source": [
    "import requests\n",
    "from requests.auth import HTTPBasicAuth\n",
    "\n",
    "from selenium import webdriver\n",
    "import time\n",
    "from selenium.common.exceptions import NoSuchElementException\n",
    "from selenium.webdriver.common.by import By\n",
    "from selenium.webdriver.support.ui import WebDriverWait\n",
    "from selenium.webdriver.support import expected_conditions as EC\n",
    "from selenium.webdriver.common.action_chains import ActionChains\n",
    "from selenium.common.exceptions import TimeoutException\n"
   ]
  },
  {
   "cell_type": "code",
   "execution_count": 8,
   "metadata": {},
   "outputs": [
    {
     "ename": "TimeoutException",
     "evalue": "Message: \n",
     "output_type": "error",
     "traceback": [
      "\u001b[1;31m---------------------------------------------------------------------------\u001b[0m",
      "\u001b[1;31mTimeoutException\u001b[0m                          Traceback (most recent call last)",
      "\u001b[1;32m<ipython-input-8-a06079aa83b6>\u001b[0m in \u001b[0;36m<module>\u001b[1;34m\u001b[0m\n\u001b[0;32m      3\u001b[0m \u001b[0mwait\u001b[0m \u001b[1;33m=\u001b[0m \u001b[0mWebDriverWait\u001b[0m\u001b[1;33m(\u001b[0m\u001b[0mdriver\u001b[0m\u001b[1;33m,\u001b[0m \u001b[1;36m20\u001b[0m\u001b[1;33m)\u001b[0m\u001b[1;33m\u001b[0m\u001b[1;33m\u001b[0m\u001b[0m\n\u001b[0;32m      4\u001b[0m \u001b[0minsta\u001b[0m\u001b[1;33m=\u001b[0m\u001b[0mdriver\u001b[0m\u001b[1;33m.\u001b[0m\u001b[0mget\u001b[0m\u001b[1;33m(\u001b[0m\u001b[1;34m\"https://www.instagram.com/\"\u001b[0m\u001b[1;33m)\u001b[0m\u001b[1;33m\u001b[0m\u001b[1;33m\u001b[0m\u001b[0m\n\u001b[1;32m----> 5\u001b[1;33m \u001b[0mlog\u001b[0m\u001b[1;33m=\u001b[0m\u001b[0mwait\u001b[0m\u001b[1;33m.\u001b[0m\u001b[0muntil\u001b[0m\u001b[1;33m(\u001b[0m\u001b[0mEC\u001b[0m\u001b[1;33m.\u001b[0m\u001b[0melement_to_be_clickable\u001b[0m\u001b[1;33m(\u001b[0m\u001b[1;33m(\u001b[0m\u001b[0mBy\u001b[0m\u001b[1;33m.\u001b[0m\u001b[0mLINK_TEXT\u001b[0m\u001b[1;33m,\u001b[0m \u001b[1;34m'Log In'\u001b[0m\u001b[1;33m)\u001b[0m\u001b[1;33m)\u001b[0m\u001b[1;33m)\u001b[0m\u001b[1;33m\u001b[0m\u001b[1;33m\u001b[0m\u001b[0m\n\u001b[0m\u001b[0;32m      6\u001b[0m \u001b[0mlog\u001b[0m\u001b[1;33m.\u001b[0m\u001b[0mclick\u001b[0m\u001b[1;33m(\u001b[0m\u001b[1;33m)\u001b[0m\u001b[1;33m\u001b[0m\u001b[1;33m\u001b[0m\u001b[0m\n\u001b[0;32m      7\u001b[0m \u001b[1;33m\u001b[0m\u001b[0m\n",
      "\u001b[1;32m~\\AppData\\Roaming\\Python\\Python37\\site-packages\\selenium\\webdriver\\support\\wait.py\u001b[0m in \u001b[0;36muntil\u001b[1;34m(self, method, message)\u001b[0m\n\u001b[0;32m     78\u001b[0m             \u001b[1;32mif\u001b[0m \u001b[0mtime\u001b[0m\u001b[1;33m.\u001b[0m\u001b[0mtime\u001b[0m\u001b[1;33m(\u001b[0m\u001b[1;33m)\u001b[0m \u001b[1;33m>\u001b[0m \u001b[0mend_time\u001b[0m\u001b[1;33m:\u001b[0m\u001b[1;33m\u001b[0m\u001b[1;33m\u001b[0m\u001b[0m\n\u001b[0;32m     79\u001b[0m                 \u001b[1;32mbreak\u001b[0m\u001b[1;33m\u001b[0m\u001b[1;33m\u001b[0m\u001b[0m\n\u001b[1;32m---> 80\u001b[1;33m         \u001b[1;32mraise\u001b[0m \u001b[0mTimeoutException\u001b[0m\u001b[1;33m(\u001b[0m\u001b[0mmessage\u001b[0m\u001b[1;33m,\u001b[0m \u001b[0mscreen\u001b[0m\u001b[1;33m,\u001b[0m \u001b[0mstacktrace\u001b[0m\u001b[1;33m)\u001b[0m\u001b[1;33m\u001b[0m\u001b[1;33m\u001b[0m\u001b[0m\n\u001b[0m\u001b[0;32m     81\u001b[0m \u001b[1;33m\u001b[0m\u001b[0m\n\u001b[0;32m     82\u001b[0m     \u001b[1;32mdef\u001b[0m \u001b[0muntil_not\u001b[0m\u001b[1;33m(\u001b[0m\u001b[0mself\u001b[0m\u001b[1;33m,\u001b[0m \u001b[0mmethod\u001b[0m\u001b[1;33m,\u001b[0m \u001b[0mmessage\u001b[0m\u001b[1;33m=\u001b[0m\u001b[1;34m''\u001b[0m\u001b[1;33m)\u001b[0m\u001b[1;33m:\u001b[0m\u001b[1;33m\u001b[0m\u001b[1;33m\u001b[0m\u001b[0m\n",
      "\u001b[1;31mTimeoutException\u001b[0m: Message: \n"
     ]
    }
   ],
   "source": [
    "#driver=webdriver.Chrome(executable_path = \"E:\\Setup\\chromedriver_win32\\chromedriver\")\n",
    "driver=webdriver.Chrome(executable_path = \"C:\\webDriver\\chromedriver\")\n",
    "wait = WebDriverWait(driver, 20)\n",
    "insta=driver.get(\"https://www.instagram.com/\")\n",
    "log=wait.until(EC.element_to_be_clickable((By.LINK_TEXT, 'Log In')))\n",
    "log.click()\n",
    "\n",
    "driver.maximize_window()                           "
   ]
  },
  {
   "cell_type": "code",
   "execution_count": null,
   "metadata": {},
   "outputs": [],
   "source": [
    "username=wait.until(EC.presence_of_element_located((By.NAME, 'username')))\n",
    "username.send_keys('USERNAME')\n",
    "password=driver.find_element_by_name(\"password\")\n",
    "password.send_keys('PASSWORD')\n",
    "password.submit()\n",
    "driver.implicitly_wait(20)\n",
    "driver.find_element_by_xpath('//button[contains(@class,\"aOOlW   HoLwm \")]').click()"
   ]
  },
  {
   "cell_type": "code",
   "execution_count": null,
   "metadata": {},
   "outputs": [],
   "source": [
    "def open_profile(username):\n",
    "    search_box = driver.find_element_by_xpath('//input[contains(@class,\"XTCLo x3qfX \")]')\n",
    "    search_box.clear()\n",
    "    search_box.send_keys(username)\n",
    "    element=wait.until(EC.element_to_be_clickable((By.XPATH, '//a[contains(@class,\"yCE8d\")]')))\n",
    "    element.click()\n",
    "    wait.until(EC.presence_of_element_located((By.XPATH, '//section[contains(@class,\"zwlfE\")]')))\n",
    "    "
   ]
  },
  {
   "cell_type": "code",
   "execution_count": null,
   "metadata": {},
   "outputs": [],
   "source": [
    "def search_profiles(username):\n",
    "    search_box = driver.find_element_by_xpath('//input[contains(@class,\"XTCLo x3qfX \")]')\n",
    "    search_box.clear()\n",
    "    search_box.send_keys(username)\n",
    "    all_names = driver.find_elements_by_class_name('Ap253')\n",
    "    handles = []\n",
    "    for i in all_names :\n",
    "        if i.text[0] != '#' :\n",
    "            handles.append(i.text)\n",
    "    driver.back()\n",
    "    return handles\n",
    "    "
   ]
  },
  {
   "cell_type": "code",
   "execution_count": null,
   "metadata": {},
   "outputs": [],
   "source": [
    "def follow(username):\n",
    "    open_profile(username)\n",
    "    try:\n",
    "        follow=driver.find_element_by_xpath('//button[contains(@class,\"jIbKX\")]')\n",
    "        follow.click()\n",
    "    except NoSuchElementException:\n",
    "        print(\"Aleardy Followed\")\n",
    "\n"
   ]
  },
  {
   "cell_type": "code",
   "execution_count": null,
   "metadata": {},
   "outputs": [],
   "source": [
    "def unfollow(username):\n",
    "    open_profile(username)\n",
    "    try:\n",
    "        follow=driver.find_element_by_xpath('//button[contains(@class,\"jIbKX\")]')\n",
    "        follow.click()\n",
    "    except NoSuchElementException:\n",
    "        print(\"Aleardy Followed\")\n"
   ]
  },
  {
   "cell_type": "code",
   "execution_count": null,
   "metadata": {},
   "outputs": [],
   "source": [
    "#in this we first collecting all the elements, than we are iterating over list\n",
    "def liking_post_1(k):\n",
    "    for i in range(1):\n",
    "        driver.execute_script(\"window.scrollTo(0, document.body.scrollHeight);\")\n",
    "        time.sleep(3)\n",
    "    posts = driver.find_element_by_class_name('_9AhH0')[0:k]\n",
    "    for p in posts:\n",
    "        p.click()\n",
    "        time.sleep(1)\n",
    "        print(p)\n",
    "        check_like = wait.until(EC.presence_of_element_located((By.XPATH, '//span[contains(@class,\"fr66n\")]//span')))\n",
    "        like=check_like.get_attribute('aria-label')\n",
    "        if like == 'Like':\n",
    "            element=wait.until(EC.element_to_be_clickable((By.XPATH, '//span[contains(@class,\"fr66n\")]')))\n",
    "            element.click()\n",
    "        else :\n",
    "            print('Already liked')\n",
    "    close=wait.until(EC.element_to_be_clickable((By.XPATH, '//div[contains(@class,\"_2dDPU vCf6V\")]//button[contains(@class,\"ckWGn\")]')))\n",
    "    close.click()\n"
   ]
  },
  {
   "cell_type": "code",
   "execution_count": null,
   "metadata": {},
   "outputs": [],
   "source": [
    "#here we first like the first post than use the next button to move to next\n",
    "def liking_post_2(k):\n",
    "    element=wait.until(EC.element_to_be_clickable((By.XPATH, '//div[contains(@class,\"_9AhH0\")]')))\n",
    "    element.click()\n",
    "    for i in range(30):\n",
    "        print(i)\n",
    "        check_like = wait.until(EC.presence_of_element_located((By.XPATH, '//span[contains(@class,\"fr66n\")]//span')))\n",
    "        like=check_like.get_attribute('aria-label')\n",
    "        if like == 'Like':\n",
    "            element=wait.until(EC.element_to_be_clickable((By.XPATH, '//span[contains(@class,\"fr66n\")]')))\n",
    "            element.click()\n",
    "        else :\n",
    "            print('Already liked')\n",
    "        next_im=wait.until(EC.element_to_be_clickable((By.XPATH, '//a[contains(@class,\"HBoOv coreSpriteRightPaginationArrow\")]')))\n",
    "        next_im.click()\n",
    "    \n",
    "    close=wait.until(EC.element_to_be_clickable((By.XPATH, '//div[contains(@class,\"_2dDPU vCf6V\")]//button[contains(@class,\"ckWGn\")]')))\n",
    "    close.click()\n",
    "    \n",
    "    "
   ]
  },
  {
   "cell_type": "code",
   "execution_count": null,
   "metadata": {},
   "outputs": [],
   "source": [
    "#k is the number of followers we want to see\n",
    "def followers(k):\n",
    "    element=wait.until(EC.element_to_be_clickable((By.PARTIAL_LINK_TEXT, 'follower')))\n",
    "    max_followers=element.text\n",
    "    max_followers=max_followers.split(' ')[0]\n",
    "    if(k>int(max_followers)):\n",
    "        k=int(max_followers)\n",
    "    element.click()\n",
    "    followers=[]\n",
    "    #/html/body/div[4]/div/div[2]/ul/div/li[8]/div/div[1]/div[2]/div[1]/a\n",
    "    s1='/html/body/div[4]/div/div[2]/ul/div/li['\n",
    "    s2=']/div/div[1]/div[2]/div[1]/a'\n",
    "    for i in range (k):\n",
    "        s=s1+str(i+1)+s2\n",
    "        #print(s)\n",
    "        \n",
    "        try:\n",
    "            element=wait.until(EC.presence_of_element_located((By.XPATH, s)))\n",
    "        except TimeoutException:\n",
    "            close=wait.until(EC.element_to_be_clickable((By.XPATH, '//div[contains(@class,\"WaOAr\")]//button[contains(@class,\"wpO6b\")]')))\n",
    "            close.click()\n",
    "            return followers\n",
    "        \n",
    "        followers.append(element.text)\n",
    "        driver.execute_script(\"arguments[0].scrollIntoView(true);\", element);\n",
    "    close=wait.until(EC.element_to_be_clickable((By.XPATH, '//div[contains(@class,\"WaOAr\")]//button[contains(@class,\"wpO6b\")]')))\n",
    "    close.click()\n",
    "    return followers\n",
    "    "
   ]
  },
  {
   "cell_type": "code",
   "execution_count": null,
   "metadata": {},
   "outputs": [],
   "source": [
    "#k is the number of following we want to see\n",
    "def following(k):\n",
    "    element=wait.until(EC.element_to_be_clickable((By.PARTIAL_LINK_TEXT, 'following')))\n",
    "    max_following=element.text\n",
    "   \n",
    "    \n",
    "    max_following=max_following.split(' ')[0]\n",
    "    if(k>int(max_following)):\n",
    "        k=int(max_following)\n",
    "    element.click()\n",
    "    following=[]\n",
    "    s1='/html/body/div[4]/div/div[2]/ul/div/li['\n",
    "    s2=']/div/div[1]/div[2]/div[1]/a'\n",
    "    \n",
    "    for i in range (k):\n",
    "        s=s1+str(i+1)+s2\n",
    "        #print(s)\n",
    "        try:\n",
    "            element=wait.until(EC.presence_of_element_located((By.XPATH, s)))\n",
    "        except TimeoutException:\n",
    "            close=wait.until(EC.element_to_be_clickable((By.XPATH, '//div[contains(@class,\"WaOAr\")]//button[contains(@class,\"wpO6b\")]')))\n",
    "            close.click()\n",
    "            return following\n",
    "        following.append(element.text)\n",
    "        driver.execute_script(\"arguments[0].scrollIntoView(true);\", element);\n",
    "    close=wait.until(EC.element_to_be_clickable((By.XPATH, '//div[contains(@class,\"WaOAr\")]//button[contains(@class,\"wpO6b\")]')))\n",
    "    close.click()\n",
    "    return following\n",
    "    \n",
    "    "
   ]
  },
  {
   "cell_type": "code",
   "execution_count": null,
   "metadata": {},
   "outputs": [],
   "source": [
    "def check_Story(username) :\n",
    "    open_profile(username)\n",
    "    time.sleep(4)\n",
    "    height = driver.find_element_by_tag_name(\"canvas\").get_attribute('height')\n",
    "    if int(height) == 166 :\n",
    "        print('You have already checked the story of' , username)\n",
    "    else :\n",
    "        story_viewed = driver.find_elements_by_xpath('//div[contains(@class,\"h5uC0\")]')\n",
    "        if len(story_viewed) == 0 :\n",
    "            print('No story exists')\n",
    "        else :\n",
    "            driver.find_element_by_class_name('_6q-tv').click()\n",
    "    driver.back()"
   ]
  },
  {
   "cell_type": "code",
   "execution_count": null,
   "metadata": {},
   "outputs": [],
   "source": [
    "def not_follow_backs():\n",
    "    fwer=followers(100)\n",
    "    flling=following(100)\n",
    "    finalList = list(set(flling)-set(fwer))\n",
    "    for i in finalList :\n",
    "        print(i)\n",
    "    \n",
    "    "
   ]
  },
  {
   "cell_type": "code",
   "execution_count": null,
   "metadata": {},
   "outputs": [],
   "source": [
    "open_profile('')\n",
    "not_follow_backs()\n"
   ]
  }
 ],
 "metadata": {
  "kernelspec": {
   "display_name": "Python 3",
   "language": "python",
   "name": "python3"
  },
  "language_info": {
   "codemirror_mode": {
    "name": "ipython",
    "version": 3
   },
   "file_extension": ".py",
   "mimetype": "text/x-python",
   "name": "python",
   "nbconvert_exporter": "python",
   "pygments_lexer": "ipython3",
   "version": "3.7.1"
  }
 },
 "nbformat": 4,
 "nbformat_minor": 2
}
