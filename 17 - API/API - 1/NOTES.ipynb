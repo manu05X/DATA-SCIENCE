{
 "cells": [
  {
   "cell_type": "markdown",
   "metadata": {},
   "source": [
    "### APIs\n",
    "Q>\n",
    "Using APIs(if available) is a good option when data is -\n",
    "* Options\n",
    "        \n",
    "        Dynamic \n",
    "        \n",
    "        Static\n",
    "\n",
    "Correct Answer: 1"
   ]
  },
  {
   "cell_type": "markdown",
   "metadata": {},
   "source": [
    "### APIs\n",
    "Q>\n",
    "Using APIs(if available) is a good option when data is -\n",
    "* Options\n",
    "        \n",
    "        Requesting Data from the Database \n",
    "        \n",
    "        Getting a response back from Application\n",
    "        \n",
    "        Changing the functions of the Application\n",
    "        \n",
    "        None\n",
    "\n",
    "Correct Answer: 1,2"
   ]
  },
  {
   "cell_type": "markdown",
   "metadata": {},
   "source": [
    "### HTTP stands for - Hypertext Transfer Protocol"
   ]
  },
  {
   "cell_type": "markdown",
   "metadata": {},
   "source": [
    "### Protocol\n",
    "Q>\n",
    "A network protocol defines rules and conventions for communication between network devices\n",
    "\n",
    "* Options\n",
    "        \n",
    "        True \n",
    "        \n",
    "        False\n",
    "\n",
    "Correct Answer: 1"
   ]
  },
  {
   "cell_type": "markdown",
   "metadata": {},
   "source": [
    "### HTTP Libraries\n",
    "Q>\n",
    "HTTP libraries for making API calls are -\n",
    "* Options\n",
    "        \n",
    "        httplib \n",
    "        \n",
    "        urllib \n",
    "        \n",
    "        requests \n",
    "        \n",
    "        readlib\n",
    "\n",
    "Correct Answer: 1,2,3"
   ]
  },
  {
   "cell_type": "markdown",
   "metadata": {},
   "source": [
    "### Header Keys\n",
    "Q>\n",
    "Header keys in JSON response after API call, are case sensitive :\n",
    "* Options\n",
    "        \n",
    "        True\n",
    "        \n",
    "        False \n",
    "\n",
    "Correct Answer:2"
   ]
  },
  {
   "cell_type": "markdown",
   "metadata": {},
   "source": [
    "### API call\n",
    "Q>\n",
    "Make an API call to http://api.open-notify.org/iss-pass.\n",
    "\n",
    "Status code is -\n",
    "\n",
    "ANS: 404"
   ]
  },
  {
   "cell_type": "markdown",
   "metadata": {},
   "source": [
    "### API call\n",
    "Q>\n",
    "Make an API call to http://api.open-notify.org/iss-now.json\n",
    "\n",
    "Status code is -\n",
    "\n",
    "ANS: 200"
   ]
  },
  {
   "cell_type": "markdown",
   "metadata": {},
   "source": [
    "### Content type\n",
    "Q>\n",
    "Print the content-type received after making a get request to url = \n",
    "\n",
    "https://codingninjas.in/api/v3/events\n",
    "\n",
    "Note : content-type can be found in header information of response object."
   ]
  },
  {
   "cell_type": "code",
   "execution_count": 1,
   "metadata": {},
   "outputs": [
    {
     "name": "stdout",
     "output_type": "stream",
     "text": [
      "text/html\n"
     ]
    }
   ],
   "source": [
    "##sol\n",
    "## Print the required output in given format\n",
    "import requests\n",
    "respons = requests.get(\"https://codingninjas.in/api/v3/events\")\n",
    "#print(respons.headers)\n",
    "header_info= respons.headers\n",
    "print(header_info['Content-type'])"
   ]
  },
  {
   "cell_type": "markdown",
   "metadata": {},
   "source": [
    "### Array in JSON\n",
    "Q>\n",
    "Array in JSON is converted to _______ in python\n",
    "* Options\n",
    "        \n",
    "        List \n",
    "        \n",
    "        Tuple \n",
    "        \n",
    "        String\n",
    "        \n",
    "        Int\n",
    "\n",
    "Correct Answer: 1,2"
   ]
  },
  {
   "cell_type": "markdown",
   "metadata": {},
   "source": [
    "### None Type\n",
    "Q>\n",
    "is a result of _______ JSON datatype to python :\n",
    "* Options\n",
    "        \n",
    "        Numbers\n",
    "        \n",
    "        Object\n",
    "        \n",
    "        NULL \n",
    "        \n",
    "        Array\n",
    "\n",
    "Correct Answer:3"
   ]
  },
  {
   "cell_type": "markdown",
   "metadata": {},
   "source": [
    "### Object in JSON\n",
    "Q>\n",
    "Object in JSON is converted to _________ in Python\n",
    "* Options\n",
    "        \n",
    "        Dictionary \n",
    "        \n",
    "        Dictionary of Dictionaries\n",
    "        \n",
    "        NULL\n",
    "        \n",
    "        Array\n",
    "\n",
    "Correct Answer:1"
   ]
  },
  {
   "cell_type": "markdown",
   "metadata": {},
   "source": [
    "### JSON to Python\n",
    "Q>\n",
    "Function to convert JSON data to python -\n",
    "* Options\n",
    "        \n",
    "        json.loadit()\n",
    "        \n",
    "        json.loads() \n",
    "        \n",
    "        json.store()\n",
    "        \n",
    "        None\n",
    "\n",
    "Correct Answer:2"
   ]
  },
  {
   "cell_type": "markdown",
   "metadata": {},
   "source": [
    "### Hound sub-breeds\n",
    "Q>\n",
    "\n",
    "Print all sub-breeds of hound by making a get request to given URL.\n",
    "\n",
    "URL : https://dog.ceo/api/breeds/list/all\n",
    "\n",
    "Print name of sub-breeds in different lines."
   ]
  },
  {
   "cell_type": "code",
   "execution_count": 2,
   "metadata": {},
   "outputs": [
    {
     "name": "stdout",
     "output_type": "stream",
     "text": [
      "afghan\n",
      "basset\n",
      "blood\n",
      "english\n",
      "ibizan\n",
      "plott\n",
      "walker\n"
     ]
    }
   ],
   "source": [
    "## Print the required output in given format\n",
    "import requests\n",
    "import json\n",
    "\n",
    "respons = requests.get(\" https://dog.ceo/api/breeds/list/all\")\n",
    "data = json.loads(respons.text)\n",
    "all_breed = data['message']\n",
    "hound = all_breed['hound']\n",
    "\n",
    "for dog in hound:\n",
    "    print(dog)"
   ]
  },
  {
   "cell_type": "markdown",
   "metadata": {},
   "source": [
    "### Poodle sub breeds count\n",
    "Q>\n",
    "\n",
    "Print the count of total sub-breeds of poodle from this URL : \n",
    "\n",
    "https://dog.ceo/api/breeds/list/all/."
   ]
  },
  {
   "cell_type": "code",
   "execution_count": 3,
   "metadata": {},
   "outputs": [
    {
     "name": "stdout",
     "output_type": "stream",
     "text": [
      "3\n"
     ]
    }
   ],
   "source": [
    "import requests\n",
    "hounds = requests.get(\"https://dog.ceo/api/breeds/list/all/\")\n",
    "p = hounds.json()\n",
    "print(len(p['message']['poodle']))"
   ]
  },
  {
   "cell_type": "markdown",
   "metadata": {},
   "source": [
    "### CN Online Courses\n",
    "Q>\n",
    "Print name of all online courses offered by Coding Ninjas. You can fetch the data using their open API :\n",
    "\n",
    "https://api.codingninjas.com/api/v3/courses .\n",
    "\n"
   ]
  },
  {
   "cell_type": "code",
   "execution_count": 4,
   "metadata": {},
   "outputs": [
    {
     "name": "stdout",
     "output_type": "stream",
     "text": [
      "Machine Learning Course\n",
      "Advanced  Front-End Web Development with React\n",
      "C++ Foundation with Data Structures\n",
      "Ninja Competitive Programmer Track\n",
      "Ninja Android Developer Career Track \n",
      "JAVA Foundation with Data Structures\n",
      "Full Stack Web Development\n",
      "Data Science & Machine Learning Complete\n",
      "Ninja  Web Developer Career Track - NodeJS & ReactJs\n",
      "Interview Preparation Course\n",
      "Competitive Programming Course\n",
      "Ninja  Web Developer Career Track - NodeJS\n",
      "Ninja Data Scientist Career Track\n",
      "Python Foundation with Data Structures\n",
      "Android Development with Kotlin\n",
      "Ninja Machine Learning Engineer Career Track\n",
      "Aptitude Preparation Course\n"
     ]
    }
   ],
   "source": [
    "## Print the required output in given format\n",
    "\n",
    "import requests\n",
    "import json\n",
    "\n",
    "response = requests.get(\"https://api.codingninjas.com/api/v3/courses\")\n",
    "data = json.loads(response.text)\n",
    "\n",
    "all_data = data['data']\n",
    "all_courses = all_data['courses']\n",
    "\n",
    "for i in all_courses:\n",
    "    if i['available_online'] == True:\n",
    "        print(i['name'])\n",
    "        "
   ]
  },
  {
   "cell_type": "markdown",
   "metadata": {},
   "source": [
    "### Workshop Events\n",
    "Q>\n",
    "Print name of all the Coding Ninjas events (given in past registered events) which have word “Workshop” in their name.\n",
    "\n",
    "Data can be fetched from this URL : \n",
    "\n",
    "https://api.codingninjas.in/api/v3/events"
   ]
  },
  {
   "cell_type": "code",
   "execution_count": 13,
   "metadata": {},
   "outputs": [
    {
     "ename": "KeyError",
     "evalue": "'data'",
     "output_type": "error",
     "traceback": [
      "\u001b[1;31m---------------------------------------------------------------------------\u001b[0m",
      "\u001b[1;31mKeyError\u001b[0m                                  Traceback (most recent call last)",
      "\u001b[1;32m<ipython-input-13-b4b080b40e55>\u001b[0m in \u001b[0;36m<module>\u001b[1;34m\u001b[0m\n\u001b[0;32m      6\u001b[0m \u001b[0mpy_data\u001b[0m \u001b[1;33m=\u001b[0m \u001b[0mjson\u001b[0m\u001b[1;33m.\u001b[0m\u001b[0mloads\u001b[0m\u001b[1;33m(\u001b[0m\u001b[0mresponse\u001b[0m\u001b[1;33m.\u001b[0m\u001b[0mtext\u001b[0m\u001b[1;33m)\u001b[0m\u001b[1;33m\u001b[0m\u001b[1;33m\u001b[0m\u001b[0m\n\u001b[0;32m      7\u001b[0m \u001b[1;33m\u001b[0m\u001b[0m\n\u001b[1;32m----> 8\u001b[1;33m \u001b[0mall_events\u001b[0m \u001b[1;33m=\u001b[0m \u001b[0mpy_data\u001b[0m\u001b[1;33m[\u001b[0m\u001b[1;34m'data'\u001b[0m\u001b[1;33m]\u001b[0m\u001b[1;33m[\u001b[0m\u001b[1;34m'past_registered_events'\u001b[0m\u001b[1;33m]\u001b[0m\u001b[1;33m\u001b[0m\u001b[1;33m\u001b[0m\u001b[0m\n\u001b[0m\u001b[0;32m      9\u001b[0m \u001b[1;33m\u001b[0m\u001b[0m\n\u001b[0;32m     10\u001b[0m \u001b[1;32mfor\u001b[0m \u001b[0mi\u001b[0m \u001b[1;32min\u001b[0m \u001b[0mall_events\u001b[0m \u001b[1;33m:\u001b[0m\u001b[1;33m\u001b[0m\u001b[1;33m\u001b[0m\u001b[0m\n",
      "\u001b[1;31mKeyError\u001b[0m: 'data'"
     ]
    }
   ],
   "source": [
    "## Print the required output in given format\n",
    "import json\n",
    "import requests\n",
    "\n",
    "response = requests.get(\"https://api.codingninjas.in/api/v3/events\")\n",
    "py_data = json.loads(response.text)\n",
    "\n",
    "all_events = py_data['data']['past_registered_events']\n",
    "\n",
    "for i in all_events :\n",
    "    if \"Workshop\" in i['name']:\n",
    "        print(i['name'])"
   ]
  },
  {
   "cell_type": "markdown",
   "metadata": {},
   "source": [
    "### Title of course\n",
    "Q>\n",
    "Print the title of course with id=19.\n",
    "\n",
    "URL : http://api.codingninjas.com/api/v3/courses"
   ]
  },
  {
   "cell_type": "code",
   "execution_count": 6,
   "metadata": {},
   "outputs": [
    {
     "name": "stdout",
     "output_type": "stream",
     "text": [
      "Programming Foundation DS & Algo + Machine Learning\n"
     ]
    }
   ],
   "source": [
    "import requests\n",
    "\n",
    "response = requests.get(\"https://api.codingninjas.com/api/v3/courses\")\n",
    "py_data = response.json()\n",
    "\n",
    "all_events = py_data['data']['courses']\n",
    "\n",
    "for i in all_events :\n",
    "    if i['id']==19:\n",
    "        print(i['title'])"
   ]
  },
  {
   "cell_type": "markdown",
   "metadata": {},
   "source": [
    "### Total number of cities\n",
    "Q>\n",
    "Count the total number of cities of country AU from this URL : \n",
    "\n",
    "https://api.openaq.org/v1/cities/\n"
   ]
  },
  {
   "cell_type": "code",
   "execution_count": 7,
   "metadata": {},
   "outputs": [
    {
     "name": "stdout",
     "output_type": "stream",
     "text": [
      "97\n"
     ]
    }
   ],
   "source": [
    "import requests\n",
    "import json\n",
    "\n",
    "response = requests.get(\"https://api.openaq.org/v1/cities/\")\n",
    "py_data = response.json()\n",
    "\n",
    "all_cities = py_data['results']\n",
    "a = []\n",
    "for i in all_cities :\n",
    "    a.append(i['city'])\n",
    "print(len(set(a)))"
   ]
  },
  {
   "cell_type": "markdown",
   "metadata": {},
   "source": [
    "### Cities from BE\n",
    "Q>\n",
    "Print first 5 cities from country “BE”. Fetch the result from given URL.\n",
    "\n",
    "Order the results by city.\n",
    "\n",
    "URL - https://api.openaq.org/v1/cities\n",
    "\n",
    "Documentation - https://docs.openaq.org/"
   ]
  },
  {
   "cell_type": "code",
   "execution_count": 8,
   "metadata": {},
   "outputs": [
    {
     "name": "stdout",
     "output_type": "stream",
     "text": [
      "Antwerpen\n",
      "Brabant wallon\n",
      "Brussels\n",
      "Brussels-Capital Region\n",
      "Flanders\n"
     ]
    }
   ],
   "source": [
    "import requests\n",
    "import json\n",
    "\n",
    "response = requests.get(\"https://api.openaq.org/v1/cities/\", params = {'country': 'BE', 'limit' : 5, 'order_by' : 'city'})\n",
    "py_data = response.json()\n",
    "\n",
    "all_cities = py_data['results']\n",
    "\n",
    "for i in all_cities :\n",
    "   print(i['city'])"
   ]
  },
  {
   "cell_type": "markdown",
   "metadata": {},
   "source": [
    "### USA WOEID\n",
    "Q>\n",
    "Make an API call to -\n",
    "\n",
    "https://www.metaweather.com/api/location/search/\n",
    "\n",
    "Search for \"USA\" and print its woeid.\n",
    "\n",
    "Documentation :  https://www.metaweather.com/api/"
   ]
  },
  {
   "cell_type": "code",
   "execution_count": 9,
   "metadata": {},
   "outputs": [
    {
     "name": "stdout",
     "output_type": "stream",
     "text": [
      "1132447\n"
     ]
    }
   ],
   "source": [
    "import requests\n",
    "import json\n",
    "\n",
    "response = requests.get(\"https://www.metaweather.com/api/location/search/\", params = {'query' : 'USA'})\n",
    "py_data = response.json()\n",
    "ans = py_data[0]['woeid']\n",
    "print(ans)"
   ]
  },
  {
   "cell_type": "markdown",
   "metadata": {},
   "source": [
    "### Holiday\n",
    "Q>\n",
    "\n",
    "Find name of holiday on 2nd October 2019 in country India.\n",
    "\n",
    "You can read the documentation here : https://holidayapi.com/"
   ]
  },
  {
   "cell_type": "code",
   "execution_count": 12,
   "metadata": {},
   "outputs": [
    {
     "name": "stdout",
     "output_type": "stream",
     "text": [
      "Mahatma Gandhi Jayanti\n"
     ]
    }
   ],
   "source": [
    "import json\n",
    "import requests\n",
    "\n",
    "response = requests.get(\" https://holidayapi.com/v1/holidays\", params = {'key' : \"07be74d2-3393-4d27-a20c-ae981da5094a\",'country':'IN','year':'2019',\"date\":\"2019-10-02\"})\n",
    "data = json.loads(response.text)\n",
    "data = data['holidays']\n",
    "for i in data:\n",
    "    if(i['date']==\"2019-10-02\"):\n",
    "        print(i['name'])"
   ]
  },
  {
   "cell_type": "code",
   "execution_count": null,
   "metadata": {},
   "outputs": [],
   "source": []
  }
 ],
 "metadata": {
  "kernelspec": {
   "display_name": "Python 3",
   "language": "python",
   "name": "python3"
  },
  "language_info": {
   "codemirror_mode": {
    "name": "ipython",
    "version": 3
   },
   "file_extension": ".py",
   "mimetype": "text/x-python",
   "name": "python",
   "nbconvert_exporter": "python",
   "pygments_lexer": "ipython3",
   "version": "3.7.1"
  }
 },
 "nbformat": 4,
 "nbformat_minor": 2
}
