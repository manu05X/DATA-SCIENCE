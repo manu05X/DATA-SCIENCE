{
 "cells": [
  {
   "cell_type": "markdown",
   "metadata": {},
   "source": [
    "# Dropdown\n",
    "https://www.toolsqa.com/selenium-webdriver/dropdown-multiple-select-operations/\n",
    "PROCESS:\n",
    "    * Locate the Dropdown element\n",
    "    * locate the desired option for selection\n",
    "    * Make Selection\n",
    "* Just like CheckBox & Radio Buttons, DropDown & Multiple Select Operations also works together and almost the same way. To perform any action, the first task is to identify the element group. I am saying it a group, as DropDown /Multiple Select is not a single element. They always have a single name but and they contain one or more than one element in them. I should rather say more than one option in DropDown and Multiple Select. The only difference between these two is deselecting statements & multiple selections are not allowed on DropDown    \n",
    "    \n",
    "# Select Class in Selenium\n",
    "* Models a SELECT tag, providing helper methods to select and deselect options. Select is a class that is provided by Selenium to perform multiple operations on DropDown object and Multiple Select objects\n",
    "\n",
    "\n",
    "# Methods\n",
    "\n",
    "* options\n",
    "* first_selection_option\n",
    "   \n",
    "* to select one possible options[ \n",
    "    * select_by_index(index)\n",
    "    * select_by_value(value)\n",
    "    * select_by_visible_text(text)]\n",
    "\n",
    "* all_selected_options\n",
    "* deselect_all()\n",
    "* deselect_by_index(index)\n",
    "* deselect_by_value(value)\n",
    "* deselect_by_visible_text(text)"
   ]
  },
  {
   "cell_type": "code",
   "execution_count": 32,
   "metadata": {},
   "outputs": [],
   "source": [
    "from selenium import webdriver"
   ]
  },
  {
   "cell_type": "code",
   "execution_count": 33,
   "metadata": {},
   "outputs": [],
   "source": [
    "driver = webdriver.Chrome(executable_path = r'C:\\Users\\Manish\\DriverChrome\\chromedriver')\n",
    "driver.get('https://www.toolsqa.com/automation-practice-form/')"
   ]
  },
  {
   "cell_type": "code",
   "execution_count": 34,
   "metadata": {},
   "outputs": [
    {
     "data": {
      "text/plain": [
       "<selenium.webdriver.remote.webelement.WebElement (session=\"1703051df4245ac6bb9a63dcbbc00898\", element=\"8e59fe17-20c8-41de-be49-65803e4b6773\")>"
      ]
     },
     "execution_count": 34,
     "metadata": {},
     "output_type": "execute_result"
    }
   ],
   "source": [
    "# var              method           element's ID     passed\n",
    "drp_dwn = driver.find_element_by_id('continents')\n",
    "drp_dwn"
   ]
  },
  {
   "cell_type": "code",
   "execution_count": 35,
   "metadata": {},
   "outputs": [],
   "source": [
    "# import the select class\n",
    "from selenium.webdriver.support.select import Select\n",
    "#    obj is created by calling its constructer inside it we pass element for which we make selection i.e drp_dwn\n",
    "s = Select(drp_dwn)"
   ]
  },
  {
   "cell_type": "code",
   "execution_count": 6,
   "metadata": {},
   "outputs": [
    {
     "data": {
      "text/plain": [
       "[<selenium.webdriver.remote.webelement.WebElement (session=\"c9fd3cd213b3f71e1364a2891d8706f0\", element=\"9c907e00-cc09-4c31-a7da-4d9c30af2a2a\")>,\n",
       " <selenium.webdriver.remote.webelement.WebElement (session=\"c9fd3cd213b3f71e1364a2891d8706f0\", element=\"6bffec7f-e23e-4efd-a9af-e28f31ed1fbc\")>,\n",
       " <selenium.webdriver.remote.webelement.WebElement (session=\"c9fd3cd213b3f71e1364a2891d8706f0\", element=\"5d80aca7-c9b8-4ef2-bdc4-1f15c1675aa5\")>,\n",
       " <selenium.webdriver.remote.webelement.WebElement (session=\"c9fd3cd213b3f71e1364a2891d8706f0\", element=\"9fbe6413-78d3-465a-8a31-31101966cc14\")>,\n",
       " <selenium.webdriver.remote.webelement.WebElement (session=\"c9fd3cd213b3f71e1364a2891d8706f0\", element=\"6ddf05fb-01b5-4ca8-9f07-79c57a4591ad\")>,\n",
       " <selenium.webdriver.remote.webelement.WebElement (session=\"c9fd3cd213b3f71e1364a2891d8706f0\", element=\"59023f71-e792-4f36-9e03-e7208ce2ed62\")>,\n",
       " <selenium.webdriver.remote.webelement.WebElement (session=\"c9fd3cd213b3f71e1364a2891d8706f0\", element=\"6dbb01f0-850a-427a-a149-b946e5557782\")>]"
      ]
     },
     "execution_count": 6,
     "metadata": {},
     "output_type": "execute_result"
    }
   ],
   "source": [
    "s.options"
   ]
  },
  {
   "cell_type": "code",
   "execution_count": 26,
   "metadata": {},
   "outputs": [
    {
     "data": {
      "text/plain": [
       "'<option value=\"AS\">Asia</option>'"
      ]
     },
     "execution_count": 26,
     "metadata": {},
     "output_type": "execute_result"
    }
   ],
   "source": [
    "s.first_selected_option\n",
    "s.first_selected_option.get_attribute('outerHTML')"
   ]
  },
  {
   "cell_type": "code",
   "execution_count": 37,
   "metadata": {},
   "outputs": [
    {
     "data": {
      "text/plain": [
       "[<selenium.webdriver.remote.webelement.WebElement (session=\"1703051df4245ac6bb9a63dcbbc00898\", element=\"1c2c1fdf-9406-4caf-b9b2-2253c4ecdd45\")>]"
      ]
     },
     "execution_count": 37,
     "metadata": {},
     "output_type": "execute_result"
    }
   ],
   "source": [
    "s.all_selected_options"
   ]
  },
  {
   "cell_type": "code",
   "execution_count": 38,
   "metadata": {},
   "outputs": [],
   "source": [
    "s.select_by_index(1)"
   ]
  },
  {
   "cell_type": "code",
   "execution_count": 39,
   "metadata": {},
   "outputs": [
    {
     "ename": "NoSuchElementException",
     "evalue": "Message: Cannot locate option with value: Australia\n",
     "output_type": "error",
     "traceback": [
      "\u001b[1;31m---------------------------------------------------------------------------\u001b[0m",
      "\u001b[1;31mNoSuchElementException\u001b[0m                    Traceback (most recent call last)",
      "\u001b[1;32m<ipython-input-39-0532f3c521c4>\u001b[0m in \u001b[0;36m<module>\u001b[1;34m\u001b[0m\n\u001b[1;32m----> 1\u001b[1;33m \u001b[0ms\u001b[0m\u001b[1;33m.\u001b[0m\u001b[0mselect_by_value\u001b[0m\u001b[1;33m(\u001b[0m\u001b[1;34m'Australia'\u001b[0m\u001b[1;33m)\u001b[0m \u001b[1;31m#exception as value attribute is not present\u001b[0m\u001b[1;33m\u001b[0m\u001b[1;33m\u001b[0m\u001b[0m\n\u001b[0m",
      "\u001b[1;32m~\\AppData\\Roaming\\Python\\Python37\\site-packages\\selenium\\webdriver\\support\\select.py\u001b[0m in \u001b[0;36mselect_by_value\u001b[1;34m(self, value)\u001b[0m\n\u001b[0;32m     85\u001b[0m             \u001b[0mmatched\u001b[0m \u001b[1;33m=\u001b[0m \u001b[1;32mTrue\u001b[0m\u001b[1;33m\u001b[0m\u001b[1;33m\u001b[0m\u001b[0m\n\u001b[0;32m     86\u001b[0m         \u001b[1;32mif\u001b[0m \u001b[1;32mnot\u001b[0m \u001b[0mmatched\u001b[0m\u001b[1;33m:\u001b[0m\u001b[1;33m\u001b[0m\u001b[1;33m\u001b[0m\u001b[0m\n\u001b[1;32m---> 87\u001b[1;33m             \u001b[1;32mraise\u001b[0m \u001b[0mNoSuchElementException\u001b[0m\u001b[1;33m(\u001b[0m\u001b[1;34m\"Cannot locate option with value: %s\"\u001b[0m \u001b[1;33m%\u001b[0m \u001b[0mvalue\u001b[0m\u001b[1;33m)\u001b[0m\u001b[1;33m\u001b[0m\u001b[1;33m\u001b[0m\u001b[0m\n\u001b[0m\u001b[0;32m     88\u001b[0m \u001b[1;33m\u001b[0m\u001b[0m\n\u001b[0;32m     89\u001b[0m     \u001b[1;32mdef\u001b[0m \u001b[0mselect_by_index\u001b[0m\u001b[1;33m(\u001b[0m\u001b[0mself\u001b[0m\u001b[1;33m,\u001b[0m \u001b[0mindex\u001b[0m\u001b[1;33m)\u001b[0m\u001b[1;33m:\u001b[0m\u001b[1;33m\u001b[0m\u001b[1;33m\u001b[0m\u001b[0m\n",
      "\u001b[1;31mNoSuchElementException\u001b[0m: Message: Cannot locate option with value: Australia\n"
     ]
    }
   ],
   "source": [
    "s.select_by_value('Australia') #exception as value attribute is not present"
   ]
  },
  {
   "cell_type": "code",
   "execution_count": 40,
   "metadata": {},
   "outputs": [],
   "source": [
    "s.select_by_index('2') #index can be of char"
   ]
  },
  {
   "cell_type": "code",
   "execution_count": 41,
   "metadata": {},
   "outputs": [],
   "source": [
    "s.select_by_visible_text('Australia')"
   ]
  },
  {
   "cell_type": "code",
   "execution_count": 42,
   "metadata": {},
   "outputs": [
    {
     "data": {
      "text/plain": [
       "<selenium.webdriver.support.select.Select at 0x230bab629e8>"
      ]
     },
     "execution_count": 42,
     "metadata": {},
     "output_type": "execute_result"
    }
   ],
   "source": [
    "# Multiple select values\n",
    "drp_dwn2 = driver.find_element_by_id('selenium_commands')\n",
    "s1 = Select(drp_dwn2)\n",
    "s1"
   ]
  },
  {
   "cell_type": "code",
   "execution_count": 43,
   "metadata": {},
   "outputs": [
    {
     "data": {
      "text/plain": [
       "[<selenium.webdriver.remote.webelement.WebElement (session=\"1703051df4245ac6bb9a63dcbbc00898\", element=\"7473ba07-7398-474f-870c-20f08e340dc9\")>,\n",
       " <selenium.webdriver.remote.webelement.WebElement (session=\"1703051df4245ac6bb9a63dcbbc00898\", element=\"e0b25fd7-aace-4893-9079-43ccff3e0079\")>,\n",
       " <selenium.webdriver.remote.webelement.WebElement (session=\"1703051df4245ac6bb9a63dcbbc00898\", element=\"a771389c-450d-4208-b51d-bac17fc69d83\")>,\n",
       " <selenium.webdriver.remote.webelement.WebElement (session=\"1703051df4245ac6bb9a63dcbbc00898\", element=\"743da76a-ed54-4cd6-b92a-6ff43fb4029d\")>,\n",
       " <selenium.webdriver.remote.webelement.WebElement (session=\"1703051df4245ac6bb9a63dcbbc00898\", element=\"44a2ff9c-aa9f-4488-88d5-d4dc47507937\")>]"
      ]
     },
     "execution_count": 43,
     "metadata": {},
     "output_type": "execute_result"
    }
   ],
   "source": [
    "s1.options"
   ]
  },
  {
   "cell_type": "code",
   "execution_count": 44,
   "metadata": {},
   "outputs": [],
   "source": [
    "s1.select_by_visible_text('Navigation Commands')\n",
    "s1.select_by_visible_text('Switch Commands')"
   ]
  },
  {
   "cell_type": "code",
   "execution_count": 45,
   "metadata": {},
   "outputs": [
    {
     "data": {
      "text/plain": [
       "[<selenium.webdriver.remote.webelement.WebElement (session=\"1703051df4245ac6bb9a63dcbbc00898\", element=\"e0b25fd7-aace-4893-9079-43ccff3e0079\")>,\n",
       " <selenium.webdriver.remote.webelement.WebElement (session=\"1703051df4245ac6bb9a63dcbbc00898\", element=\"a771389c-450d-4208-b51d-bac17fc69d83\")>]"
      ]
     },
     "execution_count": 45,
     "metadata": {},
     "output_type": "execute_result"
    }
   ],
   "source": [
    "s1.all_selected_options"
   ]
  },
  {
   "cell_type": "code",
   "execution_count": 44,
   "metadata": {
    "collapsed": true
   },
   "outputs": [],
   "source": [
    "s1.deselect_all()"
   ]
  },
  {
   "cell_type": "markdown",
   "metadata": {
    "collapsed": true
   },
   "source": [
    "Q> Deselect an option\n",
    " Given HTML for dropdown List :\n",
    "\n",
    "\n",
    "<select name=\"colors\" multiple>\n",
    "<option value=\"yellow\">Yellow</option>\n",
    "<option value=\"red\">Red</option>\n",
    "<option value=\"green\">Green</option>\n",
    "<option value=\"blue\">Blue</option>\n",
    "</select>\n",
    "\n",
    "select = Select(driver.findelementby_xpath(\"//select[@name=colors]\"))\n",
    "The following can be used to deselect an option in the dropdown?\n",
    "AnS>\n",
    "   * select.deselect_by_value(”red”) \n",
    "   * select.deselect_by_visible_text(“Green”) \n",
    "   * select.deselect_all() \n",
    "   \n",
    "   \n",
    "Q>\n",
    "Given HTML for dropdown List :\n",
    "    <select name=\"colors\" multiple>\n",
    "    <option value=\"yellow\">Yellow</option>\n",
    "    <option value=\"red\">Red</option>\n",
    "    <option value=\"green\">Green</option>\n",
    "    <option value=\"blue\">Blue</option>\n",
    "    </select>\n",
    "Answer the question using the given information :\n",
    "select = Select(driver.findelementby_xpath(\"//select[@name=colors]\"))\n",
    "The following is used to get list of all the selected options:\n",
    "Ans>\n",
    "   * Select.all_selected_options \n",
    "   \n",
    "Q>\n",
    "Consider this(https://www.quackit.com/preview/html_editor_result.cfm?contentFile=/html_5/tags/_inc/inc_html_select_tag.cfm) for a dropdown list and the given code. Answer the question that follow.\n",
    "Code:\n",
    "element = driver.findelementbycssselector('body > select');\n",
    "sel = Select(element)\n",
    "\n",
    "Which of the following can be used to select ‘Melbourne’ :\n",
    "ANS>\n",
    "   * sel.select_by_index('0') \n",
    "   * sel.select_by_value(‘melbourne’) \n",
    "   * sel.select_by_index(0) \n",
    "   * sel.select_by_visible_text(‘Melbourne’) "
   ]
  },
  {
   "cell_type": "code",
   "execution_count": null,
   "metadata": {},
   "outputs": [],
   "source": []
  }
 ],
 "metadata": {
  "kernelspec": {
   "display_name": "Python 3",
   "language": "python",
   "name": "python3"
  },
  "language_info": {
   "codemirror_mode": {
    "name": "ipython",
    "version": 3
   },
   "file_extension": ".py",
   "mimetype": "text/x-python",
   "name": "python",
   "nbconvert_exporter": "python",
   "pygments_lexer": "ipython3",
   "version": "3.7.1"
  }
 },
 "nbformat": 4,
 "nbformat_minor": 2
}
