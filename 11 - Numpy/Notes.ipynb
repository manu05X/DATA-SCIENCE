{
 "cells": [
  {
   "cell_type": "markdown",
   "metadata": {},
   "source": [
    "###### What is Numpy\n",
    "Q>\n",
    "\n",
    "What is NumPy library ?\n",
    "\n",
    "* Options\n",
    "    \n",
    "    * A library for the Python programming language, adding support for large, multi-dimensional arrays and matrices, along with a large collection of high-level mathematical functions to operate on these arrays. \n",
    "    \n",
    "    * is a library written for the Python programming language for data analysis.\n",
    "\n",
    "Correct Answer: 1"
   ]
  },
  {
   "cell_type": "markdown",
   "metadata": {},
   "source": [
    "###### What will be output\n",
    "\n",
    "a = np.empty(4, dtype = int)\n",
    "print(a)\n",
    "\n",
    "* Options\n",
    "    \n",
    "    * Error\n",
    "    \n",
    "    * Integer array of size 4 with all 0s\n",
    "    \n",
    "    * Integer array of size 4 with all random integers \n",
    "    \n",
    "    * Integer array of size 4 with all 4s\n",
    "    \n",
    "    * None of the above\n",
    "\n",
    "Correct Answer: 3"
   ]
  },
  {
   "cell_type": "markdown",
   "metadata": {},
   "source": [
    "##### NumPy 2D array\n",
    "Q>\n",
    "###### Problem Statement:\n",
    "\n",
    "GIven a 2D list, create a numpy 2D array using it.\n",
    "\n",
    "Note: Given 2D list is [[1, 2, 3], [4, 5, 6], [7, 8, 9]]\n",
    "\n",
    "Print the Numpy array.\n",
    "\n",
    "##### Output Format :\n",
    "\n",
    "        numpyArray"
   ]
  },
  {
   "cell_type": "code",
   "execution_count": 1,
   "metadata": {},
   "outputs": [
    {
     "name": "stdout",
     "output_type": "stream",
     "text": [
      "[[1 2 3]\n",
      " [4 5 6]\n",
      " [7 8 9]]\n"
     ]
    }
   ],
   "source": [
    "## Open and read data file as specified in the question\n",
    "## Print the required output in given format\n",
    "import numpy as np\n",
    "a=[[1,2,3],[4,5,6],[7,8,9]]\n",
    "b=np.array(a)\n",
    "print(b)"
   ]
  },
  {
   "cell_type": "markdown",
   "metadata": {},
   "source": [
    "#### NumPy 0s and 1s\n",
    "\n",
    "###### Problem Statement:\n",
    "\n",
    "Create an integer array of size 10, where all the values should be 0 but the fifth value should be 1.\n",
    "\n",
    "Print the elements of array.\n",
    "\n",
    "###### Output Format :\n",
    "\n",
    "element1 element2 element3 ... "
   ]
  },
  {
   "cell_type": "code",
   "execution_count": 2,
   "metadata": {},
   "outputs": [
    {
     "name": "stdout",
     "output_type": "stream",
     "text": [
      "[[1 2 3]\n",
      " [4 5 6]\n",
      " [7 8 9]]\n"
     ]
    }
   ],
   "source": [
    "## Open and read data file as specified in the question\n",
    "## Print the required output in given format\n",
    "import numpy as np\n",
    "a=[[1,2,3],[4,5,6],[7,8,9]]\n",
    "b=np.array(a)\n",
    "print(b)"
   ]
  },
  {
   "cell_type": "markdown",
   "metadata": {},
   "source": [
    "#### Output Question\n",
    "Q>\n",
    "What will be the output ?\n",
    "  \n",
    "  np.arange(10)\n",
    "\n",
    "##### Options:\n",
    "\n",
    "    array([0, 1, 2, 3, 4, 5, 6, 7, 8, 9]) \n",
    "    \n",
    "    Any random array having all values between 0 till 9\n",
    "    \n",
    "    array([10, 10, 10, 10, 10, 10, 10, 10, 10, 10])\n",
    "    \n",
    "    array([0, 0, 0, 0, 0, 0, 0, 0, 0, 0])\n",
    "\n",
    "Correct Answer: 1"
   ]
  },
  {
   "cell_type": "markdown",
   "metadata": {},
   "source": [
    "#### Output Question\n",
    "Q>\n",
    "What will be the output ?\n",
    "  \n",
    "  a = np.array([0, 1, 2, 3])\n",
    "  \n",
    "  a.shape\n",
    "\n",
    "##### Options:\n",
    "\n",
    "    (4)\n",
    "    \n",
    "    (4,) \n",
    "    \n",
    "    (4,0)\n",
    "    \n",
    "    (4,1)\n",
    "\n",
    "Correct Answer: 2"
   ]
  },
  {
   "cell_type": "markdown",
   "metadata": {},
   "source": [
    "#### What is the output\n",
    "\n",
    "    np.random.rand()\n",
    "\n",
    "* Options\n",
    "       \n",
    "       * Error\n",
    "       * One random value \n",
    "       * 2 random values\n",
    "       * None of the above\n",
    "\n",
    "Correct Answer: 2"
   ]
  },
  {
   "cell_type": "markdown",
   "metadata": {},
   "source": [
    "#### What is the output\n",
    "\n",
    "    np.random.randint(10, 4)\n",
    "\n",
    "* Options\n",
    "       \n",
    "    * Error \n",
    "    * One random integer value\n",
    "    * 4 random integer values\n",
    "    * Random integer array of size(10, 4)\n",
    "    * None of the above\n",
    "\n",
    "Correct Answer: 1"
   ]
  },
  {
   "cell_type": "markdown",
   "metadata": {},
   "source": [
    "#### Random Integer array\n",
    "\n",
    "   Syntax for creating a random integer array ranging from 0 to 10 of size (4, 4\n",
    "\n",
    "* Options\n",
    "       \n",
    "    * np.random.randint(10, 4)\n",
    "    * np.random.rand(4, dtype=int)\n",
    "    * np.random.randint(10, size = (4, 4)) \n",
    "    * None of the above\n",
    "\n",
    "Correct Answer: 3"
   ]
  },
  {
   "cell_type": "markdown",
   "metadata": {},
   "source": [
    "##### NumPy Inclusive\n",
    "\n",
    "###### Problem Statement:\n",
    "\n",
    "Create an array with values ranging consecutively from 9 to 49 (both inclusive).\n",
    "\n",
    "Print the Numpy array.\n",
    "\n",
    "##### Output Format :\n",
    "    \n",
    "    element1 element2 element3 ..."
   ]
  },
  {
   "cell_type": "code",
   "execution_count": 3,
   "metadata": {},
   "outputs": [
    {
     "name": "stdout",
     "output_type": "stream",
     "text": [
      "9 10 11 12 13 14 15 16 17 18 19 20 21 22 23 24 25 26 27 28 29 30 31 32 33 34 35 36 37 38 39 40 41 42 43 44 45 46 47 48 49 "
     ]
    }
   ],
   "source": [
    "## Open and read data file as specified in the question\n",
    "## Print the required output in given format\n",
    "import numpy as np\n",
    "ans=np.arange(9,50)\n",
    "for i in ans:\n",
    "    print(i,end=\" \")"
   ]
  },
  {
   "cell_type": "markdown",
   "metadata": {},
   "source": [
    "##### Identity Matrix\n",
    "\n",
    "###### Problem Statement:\n",
    "\n",
    "Create an integer identity matrix of size (5, 6).\n",
    "\n",
    "Print the Numpy array.\n",
    "\n",
    "##### Output Format :\n",
    "    \n",
    "    numpyArray"
   ]
  },
  {
   "cell_type": "code",
   "execution_count": 4,
   "metadata": {},
   "outputs": [
    {
     "name": "stdout",
     "output_type": "stream",
     "text": [
      "[[1 0 0 0 0 0]\n",
      " [0 1 0 0 0 0]\n",
      " [0 0 1 0 0 0]\n",
      " [0 0 0 1 0 0]\n",
      " [0 0 0 0 1 0]]\n"
     ]
    }
   ],
   "source": [
    "## Open and read data file as specified in the question\n",
    "## Print the required output in given format\n",
    "import numpy as np\n",
    "ans=np.eye(5,6,dtype=int)\n",
    "print(ans)"
   ]
  },
  {
   "cell_type": "markdown",
   "metadata": {},
   "source": [
    "##### Cut the Rope\n",
    "\n",
    "###### Problem Statement:\n",
    "\n",
    "You are given a rope of length 5m. Cut the rope into 9 parts such that each part is of equal length.\n",
    "Note:Array elements are the points where cut is to be made and round upto 2 decimal place.\n",
    "Print the array element.\n",
    "\n",
    "##### Output Format :\n",
    "    \n",
    "    element1 \n",
    "    \n",
    "    element2 \n",
    "    \n",
    "    element3\n",
    "    \n",
    "    .\n",
    "    \n",
    "    ."
   ]
  },
  {
   "cell_type": "code",
   "execution_count": 5,
   "metadata": {},
   "outputs": [
    {
     "name": "stdout",
     "output_type": "stream",
     "text": [
      "0.56\n",
      "1.11\n",
      "1.67\n",
      "2.22\n",
      "2.78\n",
      "3.33\n",
      "3.89\n",
      "4.44\n"
     ]
    }
   ],
   "source": [
    "## Open and read data file as specified in the question\n",
    "## Print the required output in given format\n",
    "import numpy as np\n",
    "ans=np.linspace(0,5,10,endpoint=True,dtype=float)[1:9]\n",
    "ans=list(ans)\n",
    "for i in ans:\n",
    "    print(round(i,2))"
   ]
  },
  {
   "attachments": {
    "image.png": {
     "image/png": "[encoded data removed]"
    }
   },
   "cell_type": "markdown",
   "metadata": {},
   "source": [
    "## Print Elements\n",
    "\n",
    "##### Problem Statement:\n",
    "\n",
    "Given a 2D integer array size (4, 5) with name input_?\n",
    "Print elements of highlighted matrix\n",
    "\n",
    "![image.png](attachment:image.png)\n",
    "\n",
    "![image.png](attachment:image.png)\n",
    "\n",
    "![image.png](attachment:image.png)\n",
    "\n",
    "![image.png](attachment:image.png)\n",
    "\n",
    "##### Output Format :\n",
    "    \n",
    "    element1 element2 element3 . . .\n",
    "    \n",
    "    element1 element2 element3 . . .\n",
    "    \n",
    "    element1 element2 element3 . . .\n",
    "    \n",
    "    element1 element2 element3 . . ."
   ]
  },
  {
   "cell_type": "code",
   "execution_count": 6,
   "metadata": {},
   "outputs": [
    {
     "name": "stdout",
     "output_type": "stream",
     "text": [
      "11 12 13 \n",
      "\n",
      "9 14 19 \n",
      "\n",
      "11 12 13 14 15 16 17 18 19 20 \n",
      "\n",
      "7 8 12 13 "
     ]
    }
   ],
   "source": [
    "## Open and read data file as specified in the question\n",
    "## Print the required output in given format\n",
    "import numpy as np\n",
    "input_=np.arange(1,21,1)\n",
    "input_=input_.reshape(4,5)\n",
    "ans=(input_[2,0:3])\n",
    "for i in ans:\n",
    "    print (i,end=\" \")\n",
    "print(\"\\n\")\n",
    "    \n",
    "ans1=(input_[1:,3])\n",
    "for i in ans1:\n",
    "    print (i,end=\" \")\n",
    "print(\"\\n\")\n",
    "\n",
    "ans2=(input_[2:,0:])\n",
    "for i in ans2:\n",
    "    for j in i:\n",
    "        print (j,end=\" \")\n",
    "print(\"\\n\")\n",
    "\n",
    "ans3=(input_[1:3,1:3])\n",
    "for i in ans3:\n",
    "    for j in i:\n",
    "        print (j,end=\" \")"
   ]
  },
  {
   "cell_type": "markdown",
   "metadata": {},
   "source": [
    "### Non-Zero elements\n",
    "\n",
    "###### Problem Statemnt:\n",
    "\n",
    "Find indices of non-zero elements from the array [1,2,0,0,4,0] ?\n",
    "\n",
    "Print the index of non-zero elements.\n",
    "\n",
    "Output Format :\n",
    "\n",
    "    index1 index2 index3 ... "
   ]
  },
  {
   "cell_type": "code",
   "execution_count": 7,
   "metadata": {},
   "outputs": [
    {
     "name": "stdout",
     "output_type": "stream",
     "text": [
      "0 1 4 "
     ]
    }
   ],
   "source": [
    "## Open and read data file as specified in the question\n",
    "## Print the required output in given format\n",
    "import numpy as np\n",
    "a=[1,2,0,0,4,0]\n",
    "array=np.array(a)\n",
    "ind=np.where(array>0)\n",
    "for i in ind[0]:\n",
    "    print(i,end=\" \")"
   ]
  },
  {
   "cell_type": "markdown",
   "metadata": {},
   "source": [
    "### Multiples of 3\n",
    "\n",
    "###### Problem Statemnt:\n",
    "\n",
    "Given an integer array of size 10. Print the index of elements which are multiple of 3.\n",
    "\n",
    "Note: Generate the following array\n",
    "\n",
    "    array([ 1,  3,  5,  7,  9, 11, 13, 15, 17, 19])\n",
    "\n",
    "Print the index of elements.\n",
    "\n",
    "Output Format :\n",
    "\n",
    "    index1 index2 index3 ... "
   ]
  },
  {
   "cell_type": "code",
   "execution_count": 8,
   "metadata": {},
   "outputs": [
    {
     "name": "stdout",
     "output_type": "stream",
     "text": [
      "1 4 7 "
     ]
    }
   ],
   "source": [
    "## Open and read data file as specified in the question\n",
    "## Print the required output in given format\n",
    "import numpy as np\n",
    "a=[1,3,5,7,9,11,13,15,17,19]\n",
    "b=np.array(a)\n",
    "ind=np.where(b%3==0)\n",
    "for i in ind[0]:\n",
    "    print(i,end=\" \")"
   ]
  },
  {
   "cell_type": "markdown",
   "metadata": {},
   "source": [
    "### Odd elements\n",
    "\n",
    "###### Problem Statemnt:\n",
    "\n",
    "Given an integer array of size 10. Replace the odd number in numpy array with -1 ?\n",
    "\n",
    "Note: Generate the following array\n",
    "\n",
    "    array([1, 2, 3, 4, 5, 6, 7, 8, 9, 10])\n",
    "\n",
    "Print the Numpy array.\n",
    "\n",
    "Output Format :\n",
    "\n",
    "    firstElement secondElement  ..."
   ]
  },
  {
   "cell_type": "code",
   "execution_count": 9,
   "metadata": {},
   "outputs": [
    {
     "name": "stdout",
     "output_type": "stream",
     "text": [
      "-1 2 -1 4 -1 6 -1 8 -1 10 "
     ]
    }
   ],
   "source": [
    "## Open and read data file as specified in the question\n",
    "## Print the required output in given format\n",
    "import numpy as np\n",
    "a=[1,2,3,4,5,6,7,8,9,10]\n",
    "b=np.array(a)\n",
    "b[(b%2!=0)]=-1\n",
    "for i in b:\n",
    "    print(i,end=\" \")"
   ]
  },
  {
   "cell_type": "markdown",
   "metadata": {},
   "source": [
    "### Replace Max\n",
    "\n",
    "###### Problem Statemnt:\n",
    "\n",
    "Given an integer array of size 10 and replace the first occurrence of maximum value by 0?\n",
    "Note: Generate the following array\n",
    "    \n",
    "    array([11, 2, 13, 4, 15, 6, 27, 8, 19])\n",
    "\n",
    "Print the Numpy array.\n",
    "\n",
    "Output Format :\n",
    "    \n",
    "    firstElement\n",
    "    \n",
    "    secondElement \n",
    "    \n",
    "    ... "
   ]
  },
  {
   "cell_type": "code",
   "execution_count": 10,
   "metadata": {},
   "outputs": [
    {
     "name": "stdout",
     "output_type": "stream",
     "text": [
      "11\n",
      "2\n",
      "13\n",
      "4\n",
      "15\n",
      "6\n",
      "0\n",
      "8\n",
      "19\n"
     ]
    }
   ],
   "source": [
    "## Open and read data file as specified in the question\n",
    "## Print the required output in given format\n",
    "import numpy as np\n",
    "a=[11, 2, 13, 4, 15, 6, 27, 8, 19]\n",
    "b=np.array(a)\n",
    "m=b.max()\n",
    "b[b==m]=0\n",
    "for i in b:\n",
    "    print(i)"
   ]
  },
  {
   "cell_type": "markdown",
   "metadata": {},
   "source": [
    "### Replace Max\n",
    "\n",
    "###### Problem Statemnt:\n",
    "\n",
    "Given a 1D array, negate all elements which are between 3 and 8 (both inclusive)?\n",
    "\n",
    "Note: Generate the following array\n",
    "    \n",
    "    array([1, 2, 3, 4, 5, 6, 7, 8, 9, 10])\n",
    "\n",
    "Print the Numpy array.\n",
    "\n",
    "Output Format :\n",
    "    \n",
    "    firstElement\n",
    "    \n",
    "    secondElement \n",
    "    \n",
    "    ... "
   ]
  },
  {
   "cell_type": "markdown",
   "metadata": {},
   "source": [
    "##### Negate Elements\n",
    "\n",
    "###### Problem Statemnt:\n",
    "Given a 1D array, negate all elements which are between 3 and 8 (both inclusive)?\n",
    "\n",
    "Note: Generate the following array\n",
    "\n",
    "    array([1, 2, 3, 4, 5, 6, 7, 8, 9, 10])\n",
    "\n",
    "Print the Numpy array.\n",
    "#### Output Format :\n",
    "    \n",
    "    firstElement \n",
    "    secondElement  \n",
    "    ... \n",
    "\n",
    "ANS:\n",
    "\n",
    "import numpy as np\n",
    "\n",
    "a=[1,2,3,4,5,6,7,8,9,10]\n",
    "\n",
    "b=np.array(a)\n",
    "\n",
    "b[(b>=3)&(b<=8)]=-\n",
    "\n",
    "for i in b:\n",
    "    \n",
    "    print(i)"
   ]
  },
  {
   "cell_type": "markdown",
   "metadata": {},
   "source": [
    "### Replace Max\n",
    "\n",
    "###### Problem Statemnt:\n",
    "\n",
    "Given age and height of 20 students in two different numpy arrays with name age and height (in cms). Print the age of those students whose height is above 155 cm.\n",
    "\n",
    "Print the Numpy array.\n",
    "\n",
    "Output Format :\n",
    "    \n",
    "    age1 height1 \n",
    "    \n",
    "    age2 height2 \n",
    "\n",
    "    ...  "
   ]
  },
  {
   "cell_type": "code",
   "execution_count": 12,
   "metadata": {},
   "outputs": [
    {
     "name": "stdout",
     "output_type": "stream",
     "text": [
      "15   156\n",
      "\n",
      "\n",
      "19   180\n",
      "\n",
      "\n",
      "20   162\n",
      "\n",
      "\n",
      "21   157\n",
      "\n",
      "\n",
      "22   158\n",
      "\n",
      "\n",
      "23   179\n",
      "\n",
      "\n",
      "16   182\n",
      "\n",
      "\n",
      "18   183\n",
      "\n",
      "\n",
      "20   159\n",
      "\n",
      "\n",
      "15   160\n",
      "\n",
      "\n",
      "17   172\n",
      "\n",
      "\n"
     ]
    }
   ],
   "source": [
    "## Open and read data file as specified in the question\n",
    "## Print the required output in given format\n",
    "import numpy as np\n",
    "age=np.array([15,17,19,20,14,21,16,19,13,20,22,23,21,16,18,19,20,15,17,18])\n",
    "height=np.array([156,144,180,162,152,157,154,155,151,150,158,179,126,182,183,154,159,160,172,149])\n",
    "bool_arr=height>155\n",
    "ans1=height[height>155]\n",
    "ans=age[bool_arr]\n",
    "\n",
    "for i in range(0,11):\n",
    "    print(ans[i],\" \",ans1[i])\n",
    "    print(\"\\n\")"
   ]
  },
  {
   "cell_type": "markdown",
   "metadata": {},
   "source": [
    "#### Sort by column\n",
    "\n",
    "Problem Statemnt:\n",
    "Sort a given 2D array of shape (4, 5) by 2nd column (i.e. column at index 1) in ascending order.\n",
    "That means, we should re-arrange complete row based on 2nd columns' values.\n",
    "\n",
    "Given 2D array is:\n",
    " \n",
    " [[21 20 19 18 17]\n",
    "  [16 15 14 13 12]\n",
    "  [11 10  9  8  7]\n",
    "  [ 6  5  4  3  2]]\n",
    "\n",
    "Print the 2D array in sorted order.\n",
    "\n",
    "Note you have to generate the 2D Array.Here 2nd column means column present at index 1.\n",
    "\n",
    "Output Format :\n",
    "    [[ 6  5  4  3  2]\n",
    "     [11 10  9  8  7]\n",
    "     [16 15 14 13 12]\n",
    "     [21 20 19 18 17]]"
   ]
  },
  {
   "cell_type": "code",
   "execution_count": null,
   "metadata": {},
   "outputs": [],
   "source": []
  }
 ],
 "metadata": {
  "kernelspec": {
   "display_name": "Python 3",
   "language": "python",
   "name": "python3"
  },
  "language_info": {
   "codemirror_mode": {
    "name": "ipython",
    "version": 3
   },
   "file_extension": ".py",
   "mimetype": "text/x-python",
   "name": "python",
   "nbconvert_exporter": "python",
   "pygments_lexer": "ipython3",
   "version": "3.7.1"
  }
 },
 "nbformat": 4,
 "nbformat_minor": 2
}
