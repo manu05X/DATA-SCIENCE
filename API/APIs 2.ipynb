{
 "cells": [
  {
   "cell_type": "markdown",
   "metadata": {},
   "source": [
    "# Authorization & Authentication"
   ]
  },
  {
   "cell_type": "code",
   "execution_count": 3,
   "metadata": {},
   "outputs": [
    {
     "name": "stdout",
     "output_type": "stream",
     "text": [
      "401\n"
     ]
    }
   ],
   "source": [
    "import requests\n",
    "from requests.auth import HTTPBasicAuth\n",
    "a = requests.get('https://api.github.com/user')\n",
    "print(a.status_code)  \n",
    "#{\n",
    "  #\"message\": \"Requires authentication\",\n",
    "  #\"documentation_url\": \"https://developer.github.com/v3/users/#get-the-authenticated-user\"\n",
    "#}"
   ]
  },
  {
   "cell_type": "code",
   "execution_count": 4,
   "metadata": {},
   "outputs": [
    {
     "name": "stdout",
     "output_type": "stream",
     "text": [
      "200\n"
     ]
    }
   ],
   "source": [
    "import requests\n",
    "from requests.auth import HTTPBasicAuth\n",
    "a = requests.get('https://api.github.com/user',auth = ('k.manu00005@gmail.com','manish517'))\n",
    "print(a.status_code)  "
   ]
  },
  {
   "cell_type": "code",
   "execution_count": 5,
   "metadata": {},
   "outputs": [],
   "source": [
    "#https://developer.github.com/v3/repos/#create\n",
    "import json\n",
    "info = {'name' : 'test_repo','ddescription': 'Created via API call', 'auto_init':'true'}\n",
    "a = requests.post('https://api.github.com/user/repos', auth = ('k.manu00005@gmail.com','manish517'), data = json.dumps(info))"
   ]
  },
  {
   "cell_type": "code",
   "execution_count": null,
   "metadata": {},
   "outputs": [],
   "source": []
  }
 ],
 "metadata": {
  "kernelspec": {
   "display_name": "Python 3",
   "language": "python",
   "name": "python3"
  },
  "language_info": {
   "codemirror_mode": {
    "name": "ipython",
    "version": 3
   },
   "file_extension": ".py",
   "mimetype": "text/x-python",
   "name": "python",
   "nbconvert_exporter": "python",
   "pygments_lexer": "ipython3",
   "version": "3.7.1"
  }
 },
 "nbformat": 4,
 "nbformat_minor": 2
}
