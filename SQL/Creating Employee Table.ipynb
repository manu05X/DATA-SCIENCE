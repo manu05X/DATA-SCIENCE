{
 "cells": [
  {
   "cell_type": "code",
   "execution_count": 1,
   "metadata": {},
   "outputs": [
    {
     "data": {
      "text/plain": [
       "<sqlite3.Connection at 0x26e79f44110>"
      ]
     },
     "execution_count": 1,
     "metadata": {},
     "output_type": "execute_result"
    }
   ],
   "source": [
    "import sqlite3\n",
    "db = sqlite3.connect('Employee_Detail.sqlite')\n",
    "db"
   ]
  },
  {
   "cell_type": "code",
   "execution_count": 2,
   "metadata": {},
   "outputs": [
    {
     "data": {
      "text/plain": [
       "<sqlite3.Cursor at 0x26e79efd650>"
      ]
     },
     "execution_count": 2,
     "metadata": {},
     "output_type": "execute_result"
    }
   ],
   "source": [
    "cur = db.cursor()\n",
    "cur"
   ]
  },
  {
   "cell_type": "code",
   "execution_count": 3,
   "metadata": {},
   "outputs": [
    {
     "data": {
      "text/plain": [
       "<sqlite3.Cursor at 0x26e79efd650>"
      ]
     },
     "execution_count": 3,
     "metadata": {},
     "output_type": "execute_result"
    }
   ],
   "source": [
    "sql_query ='Create table Employee_Detail(employee_id int Primary key, name Text, age int, department Text, salary int)'\n",
    "cur.execute(sql_query)"
   ]
  },
  {
   "cell_type": "code",
   "execution_count": 4,
   "metadata": {},
   "outputs": [
    {
     "data": {
      "text/plain": [
       "<sqlite3.Cursor at 0x26e79efd650>"
      ]
     },
     "execution_count": 4,
     "metadata": {},
     "output_type": "execute_result"
    }
   ],
   "source": [
    "values = [(100, \"Rishav\", 25, \"Marketing\", 50000), (101, \"Abhishek\", 26, \"Operations\", 60000), (102, \"Aman\", 24, \"Human Resource\", 75000)]\n",
    "cur.executemany('Insert into Employee_Detail values(?, ?, ?, ?,?)', values)"
   ]
  },
  {
   "cell_type": "code",
   "execution_count": 5,
   "metadata": {},
   "outputs": [],
   "source": [
    "db.commit()"
   ]
  },
  {
   "cell_type": "code",
   "execution_count": 6,
   "metadata": {},
   "outputs": [
    {
     "data": {
      "text/plain": [
       "<sqlite3.Cursor at 0x26e79efd650>"
      ]
     },
     "execution_count": 6,
     "metadata": {},
     "output_type": "execute_result"
    }
   ],
   "source": [
    "sql_query = 'DELETE FROM employee_Detail WHERE employee_id = \"102\"'\n",
    "cur.execute(sql_query)"
   ]
  },
  {
   "cell_type": "code",
   "execution_count": 7,
   "metadata": {},
   "outputs": [],
   "source": [
    "db.commit()"
   ]
  },
  {
   "cell_type": "code",
   "execution_count": 1,
   "metadata": {},
   "outputs": [
    {
     "ename": "NameError",
     "evalue": "name 'cur' is not defined",
     "output_type": "error",
     "traceback": [
      "\u001b[1;31m---------------------------------------------------------------------------\u001b[0m",
      "\u001b[1;31mNameError\u001b[0m                                 Traceback (most recent call last)",
      "\u001b[1;32m<ipython-input-1-325857c99d4e>\u001b[0m in \u001b[0;36m<module>\u001b[1;34m\u001b[0m\n\u001b[0;32m      1\u001b[0m \u001b[0mdelete_id\u001b[0m \u001b[1;33m=\u001b[0m \u001b[1;36m101\u001b[0m\u001b[1;33m\u001b[0m\u001b[1;33m\u001b[0m\u001b[0m\n\u001b[1;32m----> 2\u001b[1;33m \u001b[0mcur\u001b[0m\u001b[1;33m.\u001b[0m\u001b[0mexecute\u001b[0m\u001b[1;33m(\u001b[0m\u001b[1;34m'DELETE FROM employee_Detail WHERE employee_id = ?'\u001b[0m\u001b[1;33m,\u001b[0m\u001b[1;33m(\u001b[0m\u001b[0mdelete_id\u001b[0m\u001b[1;33m,\u001b[0m\u001b[1;33m)\u001b[0m\u001b[1;33m)\u001b[0m\u001b[1;33m\u001b[0m\u001b[1;33m\u001b[0m\u001b[0m\n\u001b[0m",
      "\u001b[1;31mNameError\u001b[0m: name 'cur' is not defined"
     ]
    }
   ],
   "source": [
    "delete_id = 101\n",
    "cur.execute('DELETE FROM employee_Detail WHERE employee_id = ?',(delete_id,))"
   ]
  },
  {
   "cell_type": "code",
   "execution_count": 2,
   "metadata": {},
   "outputs": [
    {
     "data": {
      "text/plain": [
       "<sqlite3.Connection at 0x28458bc4570>"
      ]
     },
     "execution_count": 2,
     "metadata": {},
     "output_type": "execute_result"
    }
   ],
   "source": [
    "import sqlite3\n",
    "db = sqlite3.connect('Employee_Detail.sqlite')\n",
    "db"
   ]
  },
  {
   "cell_type": "code",
   "execution_count": 3,
   "metadata": {},
   "outputs": [
    {
     "data": {
      "text/plain": [
       "<sqlite3.Cursor at 0x28458b7a650>"
      ]
     },
     "execution_count": 3,
     "metadata": {},
     "output_type": "execute_result"
    }
   ],
   "source": [
    "cur = db.cursor()\n",
    "cur"
   ]
  },
  {
   "cell_type": "code",
   "execution_count": 4,
   "metadata": {},
   "outputs": [
    {
     "data": {
      "text/plain": [
       "<sqlite3.Cursor at 0x28458b7a650>"
      ]
     },
     "execution_count": 4,
     "metadata": {},
     "output_type": "execute_result"
    }
   ],
   "source": [
    "delete_id = 101\n",
    "cur.execute('DELETE FROM employee_Detail WHERE employee_id = ?',(delete_id,))"
   ]
  },
  {
   "cell_type": "code",
   "execution_count": 5,
   "metadata": {},
   "outputs": [],
   "source": [
    "db.commit()"
   ]
  },
  {
   "cell_type": "code",
   "execution_count": 7,
   "metadata": {},
   "outputs": [
    {
     "ename": "SyntaxError",
     "evalue": "invalid syntax (<ipython-input-7-315a4f6b0981>, line 1)",
     "output_type": "error",
     "traceback": [
      "\u001b[1;36m  File \u001b[1;32m\"<ipython-input-7-315a4f6b0981>\"\u001b[1;36m, line \u001b[1;32m1\u001b[0m\n\u001b[1;33m    values = [(101, 'Aadarsh', 25, 'Marketing, 50000), (102, 'Aarti', 27, 'Operations', 60000), (103,'Siddharth', 25, 'Finance', 85000), (104, 'Aman', 25, 'Human Resource', 75000)\u001b[0m\n\u001b[1;37m                                                                  ^\u001b[0m\n\u001b[1;31mSyntaxError\u001b[0m\u001b[1;31m:\u001b[0m invalid syntax\n"
     ]
    }
   ],
   "source": [
    "values = [(101, 'Aadarsh', 25, 'Marketing, 50000), (102, 'Aarti', 27, 'Operations', 60000), (103,'Siddharth', 25, 'Finance', 85000), (104, 'Aman', 25, 'Human Resource', 75000),(105, 'Amit', 24, 'Marketing', 50000), (106, 'Shivansh', 30, 'IT', 90000), (107, 'Vaibhav', 26, 'Finance', 85000), (108, 'Himanshu', 23, 'IT', 90000)]\n",
    "cur.executemany('Insert into Employee_Detail values(?, ?, ?, ?,?)', values)"
   ]
  },
  {
   "cell_type": "code",
   "execution_count": 8,
   "metadata": {},
   "outputs": [
    {
     "ename": "SyntaxError",
     "evalue": "invalid syntax (<ipython-input-8-4f37a2e3890a>, line 1)",
     "output_type": "error",
     "traceback": [
      "\u001b[1;36m  File \u001b[1;32m\"<ipython-input-8-4f37a2e3890a>\"\u001b[1;36m, line \u001b[1;32m1\u001b[0m\n\u001b[1;33m    values = [(101, 'Aadarsh', 25, 'Marketing, 50000), (102, 'Aarti', 27, 'Operations', 60000), (103,'Siddharth', 25, 'Finance', 85000), (104, 'Aman', 25, 'Human Resource', 75000),(105, 'Amit', 24, 'Marketing', 50000), (106, 'Shivansh', 30, 'IT', 90000), (107, 'Vaibhav', 26, 'Finance', 85000), (108, 'Himanshu', 23, 'IT', 90000)]\u001b[0m\n\u001b[1;37m                                                                  ^\u001b[0m\n\u001b[1;31mSyntaxError\u001b[0m\u001b[1;31m:\u001b[0m invalid syntax\n"
     ]
    }
   ],
   "source": [
    "values = [(101, 'Aadarsh', 25, 'Marketing, 50000), (102, 'Aarti', 27, 'Operations', 60000), (103,'Siddharth', 25, 'Finance', 85000), (104, 'Aman', 25, 'Human Resource', 75000),(105, 'Amit', 24, 'Marketing', 50000), (106, 'Shivansh', 30, 'IT', 90000), (107, 'Vaibhav', 26, 'Finance', 85000), (108, 'Himanshu', 23, 'IT', 90000)]\n",
    "cur.executemany('Insert into Employee_Detail values(?, ?, ?, ?,?)', values)\n",
    "           \n",
    "employee_id=[105,106,107,108,109,110,111,112]\n",
    "name=['Amit','Shivansh','Vaibhav','Himanshu','Raman','Kunal','Adhira','Tanya']\n",
    "age=[30,26,23,26,25,26,29,24]\n",
    "department=['Human Resource','Marketing','IT','Finance','IT','Operations','Marketing','Human Resource','Marketing']\n",
    "salary=[50000,90000,85000,90000,60000,50000,75000,50000]"
   ]
  },
  {
   "cell_type": "code",
   "execution_count": 9,
   "metadata": {},
   "outputs": [
    {
     "data": {
      "text/plain": [
       "<sqlite3.Cursor at 0x28458b7a650>"
      ]
     },
     "execution_count": 9,
     "metadata": {},
     "output_type": "execute_result"
    }
   ],
   "source": [
    "values = [(101, \"Aadarsh\", 25, \"Marketing\", 50000), ( 102, \"Aarti\", 27, \"Operations\", 60000), (103,\"Siddharth\", 25, \"Finance\", 85000), (104, \"Aman\", 24, \"Human Resource\", 75000), (105, \"Amit\", 30, \"Marketing\", 50000), (106, \"Shivansh\", 26, \"IT\", 90000), (107, \"Vaibhav\", 23, \"Finance\", 85000), (108, \"Himanshu\", 26, \"IT\", 90000), (109, \"Raman\", 25, \"Operations\", 60000), (110, \"Kunal\", 26, \"Marketing\", 50000), (111, \"Adhira\", 29, \"Human Resource\", 75000), (112, \"Tanya\", 24, \"Marketing\", 50000)]\n",
    "cur.executemany('Insert into Employee_Detail values(?, ?, ?, ?,?)', values)"
   ]
  },
  {
   "cell_type": "code",
   "execution_count": 10,
   "metadata": {},
   "outputs": [],
   "source": [
    "db.commit()"
   ]
  },
  {
   "cell_type": "code",
   "execution_count": 11,
   "metadata": {},
   "outputs": [],
   "source": [
    "db.close()"
   ]
  },
  {
   "cell_type": "code",
   "execution_count": 12,
   "metadata": {},
   "outputs": [
    {
     "data": {
      "text/plain": [
       "<sqlite3.Connection at 0x28458d2d030>"
      ]
     },
     "execution_count": 12,
     "metadata": {},
     "output_type": "execute_result"
    }
   ],
   "source": [
    "c"
   ]
  },
  {
   "cell_type": "code",
   "execution_count": 13,
   "metadata": {},
   "outputs": [
    {
     "data": {
      "text/plain": [
       "<sqlite3.Cursor at 0x28458d03ab0>"
      ]
     },
     "execution_count": 13,
     "metadata": {},
     "output_type": "execute_result"
    }
   ],
   "source": [
    "cur = db.cursor()\n",
    "cur"
   ]
  },
  {
   "cell_type": "code",
   "execution_count": 17,
   "metadata": {},
   "outputs": [
    {
     "name": "stdout",
     "output_type": "stream",
     "text": [
      "[(103,), (107,)] "
     ]
    }
   ],
   "source": [
    "cur.execute('Select employee_id from Employee_Detail where department=\"Finance\"')\n",
    "print(cur.fetchall(), end=\" \")"
   ]
  },
  {
   "cell_type": "code",
   "execution_count": 1,
   "metadata": {},
   "outputs": [
    {
     "data": {
      "text/plain": [
       "<sqlite3.Connection at 0x2c4ca893570>"
      ]
     },
     "execution_count": 1,
     "metadata": {},
     "output_type": "execute_result"
    }
   ],
   "source": [
    "import sqlite3\n",
    "db = sqlite3.connect('Employee_Detail.sqlite')\n",
    "db"
   ]
  },
  {
   "cell_type": "code",
   "execution_count": 2,
   "metadata": {},
   "outputs": [
    {
     "data": {
      "text/plain": [
       "<sqlite3.Cursor at 0x2c4ca8c9650>"
      ]
     },
     "execution_count": 2,
     "metadata": {},
     "output_type": "execute_result"
    }
   ],
   "source": [
    "cur = db.cursor()\n",
    "cur"
   ]
  },
  {
   "cell_type": "code",
   "execution_count": 3,
   "metadata": {},
   "outputs": [
    {
     "name": "stdout",
     "output_type": "stream",
     "text": [
      "103\n",
      "107\n"
     ]
    }
   ],
   "source": [
    "cur.execute('Select * from Employee_Detail where department==\"Finance\"')\n",
    "a=cur.fetchall()\n",
    "print(a[0][0])\n",
    "print(a[1][0])"
   ]
  },
  {
   "cell_type": "code",
   "execution_count": 4,
   "metadata": {},
   "outputs": [
    {
     "name": "stdout",
     "output_type": "stream",
     "text": [
      "107\n",
      "107\n"
     ]
    }
   ],
   "source": [
    "cur.execute('Select * from Employee_Detail where department==\"Finance\"')\n",
    "a=cur.fetchall()\n",
    "print(a[1][0])\n",
    "print(a[1][0])"
   ]
  },
  {
   "cell_type": "code",
   "execution_count": 5,
   "metadata": {},
   "outputs": [
    {
     "name": "stdout",
     "output_type": "stream",
     "text": [
      "Siddharth\n",
      "107\n"
     ]
    }
   ],
   "source": [
    "cur.execute('Select * from Employee_Detail where department==\"Finance\"')\n",
    "a=cur.fetchall()\n",
    "print(a[0][1])\n",
    "print(a[1][0])"
   ]
  },
  {
   "cell_type": "code",
   "execution_count": 9,
   "metadata": {},
   "outputs": [
    {
     "name": "stdout",
     "output_type": "stream",
     "text": [
      "Finance 2\n",
      "Human Resource 2\n",
      "IT 2\n",
      "Marketing 5\n",
      "Operations 2\n"
     ]
    }
   ],
   "source": [
    "cur.execute('Select department, count(department) from Employee_Detail group by department')\n",
    "a=cur.fetchall()\n",
    "for row in a:\n",
    "    print(a[row][0])\n",
    "print(a[0][0],a[0][1])\n",
    "print(a[1][0],a[1][1])\n",
    "print(a[2][0],a[2][1])\n",
    "print(a[3][0],a[3][1])\n",
    "print(a[4][0],a[4][1])"
   ]
  },
  {
   "cell_type": "code",
   "execution_count": 13,
   "metadata": {},
   "outputs": [
    {
     "name": "stdout",
     "output_type": "stream",
     "text": [
      "Finance 2\n",
      "Human Resource 2\n",
      "IT 2\n",
      "Marketing 5\n",
      "Operations 2\n"
     ]
    }
   ],
   "source": [
    "cur.execute('Select department, count(department) from Employee_Detail group by department')\n",
    "a=cur.fetchall()\n",
    "for row in range(5):\n",
    "    print(a[row][0],a[row][1])"
   ]
  },
  {
   "cell_type": "code",
   "execution_count": 14,
   "metadata": {},
   "outputs": [
    {
     "name": "stdout",
     "output_type": "stream",
     "text": [
      "103\n",
      "107\n"
     ]
    }
   ],
   "source": [
    "import sqlite3\n",
    "db = sqlite3.connect('Employee_Detail.sqlite')\n",
    "\n",
    "cur = db.cursor()\n",
    "\n",
    "cur.execute('Select  *  from  Employee_Detail  where  department==\"Finance\"')\n",
    "a=cur.fetchall()\n",
    "print(a[0][0])\n",
    "print(a[1][0])\n"
   ]
  },
  {
   "cell_type": "code",
   "execution_count": null,
   "metadata": {},
   "outputs": [],
   "source": []
  }
 ],
 "metadata": {
  "kernelspec": {
   "display_name": "Python 3",
   "language": "python",
   "name": "python3"
  },
  "language_info": {
   "codemirror_mode": {
    "name": "ipython",
    "version": 3
   },
   "file_extension": ".py",
   "mimetype": "text/x-python",
   "name": "python",
   "nbconvert_exporter": "python",
   "pygments_lexer": "ipython3",
   "version": "3.7.1"
  }
 },
 "nbformat": 4,
 "nbformat_minor": 2
}
