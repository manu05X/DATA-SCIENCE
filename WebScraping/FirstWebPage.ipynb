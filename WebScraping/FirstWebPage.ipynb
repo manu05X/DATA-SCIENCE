{
 "cells": [
  {
   "cell_type": "markdown",
   "metadata": {},
   "source": [
    "# Scraping Web Page"
   ]
  },
  {
   "cell_type": "code",
   "execution_count": 3,
   "metadata": {},
   "outputs": [
    {
     "data": {
      "text/plain": [
       "<Response [200]>"
      ]
     },
     "execution_count": 3,
     "metadata": {},
     "output_type": "execute_result"
    }
   ],
   "source": [
    "from bs4 import BeautifulSoup\n",
    "import requests\n",
    "response = requests.get('http://info.cern.ch/hypertext/WWW/TheProject.html')\n",
    "response\n"
   ]
  },
  {
   "cell_type": "code",
   "execution_count": 5,
   "metadata": {},
   "outputs": [
    {
     "data": {
      "text/plain": [
       "{'Date': 'Fri, 07 Feb 2020 04:36:30 GMT', 'Server': 'Apache', 'Last-Modified': 'Thu, 03 Dec 1992 08:37:20 GMT', 'ETag': '\"40521e06-8a9-291e721905000\"', 'Accept-Ranges': 'bytes', 'Content-Length': '2217', 'Connection': 'close', 'Content-Type': 'text/html'}"
      ]
     },
     "execution_count": 5,
     "metadata": {},
     "output_type": "execute_result"
    }
   ],
   "source": [
    "response.headers"
   ]
  },
  {
   "cell_type": "code",
   "execution_count": 8,
   "metadata": {},
   "outputs": [
    {
     "data": {
      "text/plain": [
       "'<HEADER>\\n<TITLE>The World Wide Web project</TITLE>\\n<NEXTID N=\"55\">\\n</HEADER>\\n<BODY>\\n<H1>World Wide Web</H1>The WorldWideWeb (W3) is a wide-area<A\\nNAME=0 HREF=\"WhatIs.html\">\\nhypermedia</A> information retrieval\\ninitiative aiming to give universal\\naccess to a large universe of documents.<P>\\nEverything there is online about\\nW3 is linked directly or indirectly\\nto this document, including an <A\\nNAME=24 HREF=\"Summary.html\">executive\\nsummary</A> of the project, <A\\nNAME=29 HREF=\"Administration/Mailing/Overview.html\">Mailing lists</A>\\n, <A\\nNAME=30 HREF=\"Policy.html\">Policy</A> , November\\'s  <A\\nNAME=34 HREF=\"News/9211.html\">W3  news</A> ,\\n<A\\nNAME=41 HREF=\"FAQ/List.html\">Frequently Asked Questions</A> .\\n<DL>\\n<DT><A\\nNAME=44 HREF=\"../DataSources/Top.html\">What\\'s out there?</A>\\n<DD> Pointers to the\\nworld\\'s online information,<A\\nNAME=45 HREF=\"../DataSources/bySubject/Overview.html\"> subjects</A>\\n, <A\\nNAME=z54 HREF=\"../DataSources/WWW/Servers.html\">W3 servers</A>, etc.\\n<DT><A\\nNAME=46 HREF=\"Help.html\">Help</A>\\n<DD> on the browser you are using\\n<DT><A\\nNAME=13 HREF=\"Status.html\">Software Products</A>\\n<DD> A list of W3 project\\ncomponents and their current state.\\n(e.g. <A\\nNAME=27 HREF=\"LineMode/Browser.html\">Line Mode</A> ,X11 <A\\nNAME=35 HREF=\"Status.html#35\">Viola</A> ,  <A\\nNAME=26 HREF=\"NeXT/WorldWideWeb.html\">NeXTStep</A>\\n, <A\\nNAME=25 HREF=\"Daemon/Overview.html\">Servers</A> , <A\\nNAME=51 HREF=\"Tools/Overview.html\">Tools</A> ,<A\\nNAME=53 HREF=\"MailRobot/Overview.html\"> Mail robot</A> ,<A\\nNAME=52 HREF=\"Status.html#57\">\\nLibrary</A> )\\n<DT><A\\nNAME=47 HREF=\"Technical.html\">Technical</A>\\n<DD> Details of protocols, formats,\\nprogram internals etc\\n<DT><A\\nNAME=40 HREF=\"Bibliography.html\">Bibliography</A>\\n<DD> Paper documentation\\non  W3 and references.\\n<DT><A\\nNAME=14 HREF=\"People.html\">People</A>\\n<DD> A list of some people involved\\nin the project.\\n<DT><A\\nNAME=15 HREF=\"History.html\">History</A>\\n<DD> A summary of the history\\nof the project.\\n<DT><A\\nNAME=37 HREF=\"Helping.html\">How can I help</A> ?\\n<DD> If you would like\\nto support the web..\\n<DT><A\\nNAME=48 HREF=\"../README.html\">Getting code</A>\\n<DD> Getting the code by<A\\nNAME=49 HREF=\"LineMode/Defaults/Distribution.html\">\\nanonymous FTP</A> , etc.</A>\\n</DL>\\n</BODY>\\n'"
      ]
     },
     "execution_count": 8,
     "metadata": {},
     "output_type": "execute_result"
    }
   ],
   "source": [
    "html_data = response.text\n",
    "html_data"
   ]
  },
  {
   "cell_type": "code",
   "execution_count": 9,
   "metadata": {},
   "outputs": [
    {
     "name": "stdout",
     "output_type": "stream",
     "text": [
      "<header>\n",
      " <title>\n",
      "  The World Wide Web project\n",
      " </title>\n",
      " <nextid n=\"55\"/>\n",
      "</header>\n",
      "<body>\n",
      " <h1>\n",
      "  World Wide Web\n",
      " </h1>\n",
      " The WorldWideWeb (W3) is a wide-area\n",
      " <a href=\"WhatIs.html\" name=\"0\">\n",
      "  hypermedia\n",
      " </a>\n",
      " information retrieval\n",
      "initiative aiming to give universal\n",
      "access to a large universe of documents.\n",
      " <p>\n",
      "  Everything there is online about\n",
      "W3 is linked directly or indirectly\n",
      "to this document, including an\n",
      "  <a href=\"Summary.html\" name=\"24\">\n",
      "   executive\n",
      "summary\n",
      "  </a>\n",
      "  of the project,\n",
      "  <a href=\"Administration/Mailing/Overview.html\" name=\"29\">\n",
      "   Mailing lists\n",
      "  </a>\n",
      "  ,\n",
      "  <a href=\"Policy.html\" name=\"30\">\n",
      "   Policy\n",
      "  </a>\n",
      "  , November's\n",
      "  <a href=\"News/9211.html\" name=\"34\">\n",
      "   W3  news\n",
      "  </a>\n",
      "  ,\n",
      "  <a href=\"FAQ/List.html\" name=\"41\">\n",
      "   Frequently Asked Questions\n",
      "  </a>\n",
      "  .\n",
      "  <dl>\n",
      "   <dt>\n",
      "    <a href=\"../DataSources/Top.html\" name=\"44\">\n",
      "     What's out there?\n",
      "    </a>\n",
      "    <dd>\n",
      "     Pointers to the\n",
      "world's online information,\n",
      "     <a href=\"../DataSources/bySubject/Overview.html\" name=\"45\">\n",
      "      subjects\n",
      "     </a>\n",
      "     ,\n",
      "     <a href=\"../DataSources/WWW/Servers.html\" name=\"z54\">\n",
      "      W3 servers\n",
      "     </a>\n",
      "     , etc.\n",
      "     <dt>\n",
      "      <a href=\"Help.html\" name=\"46\">\n",
      "       Help\n",
      "      </a>\n",
      "      <dd>\n",
      "       on the browser you are using\n",
      "       <dt>\n",
      "        <a href=\"Status.html\" name=\"13\">\n",
      "         Software Products\n",
      "        </a>\n",
      "        <dd>\n",
      "         A list of W3 project\n",
      "components and their current state.\n",
      "(e.g.\n",
      "         <a href=\"LineMode/Browser.html\" name=\"27\">\n",
      "          Line Mode\n",
      "         </a>\n",
      "         ,X11\n",
      "         <a href=\"Status.html#35\" name=\"35\">\n",
      "          Viola\n",
      "         </a>\n",
      "         ,\n",
      "         <a href=\"NeXT/WorldWideWeb.html\" name=\"26\">\n",
      "          NeXTStep\n",
      "         </a>\n",
      "         ,\n",
      "         <a href=\"Daemon/Overview.html\" name=\"25\">\n",
      "          Servers\n",
      "         </a>\n",
      "         ,\n",
      "         <a href=\"Tools/Overview.html\" name=\"51\">\n",
      "          Tools\n",
      "         </a>\n",
      "         ,\n",
      "         <a href=\"MailRobot/Overview.html\" name=\"53\">\n",
      "          Mail robot\n",
      "         </a>\n",
      "         ,\n",
      "         <a href=\"Status.html#57\" name=\"52\">\n",
      "          Library\n",
      "         </a>\n",
      "         )\n",
      "         <dt>\n",
      "          <a href=\"Technical.html\" name=\"47\">\n",
      "           Technical\n",
      "          </a>\n",
      "          <dd>\n",
      "           Details of protocols, formats,\n",
      "program internals etc\n",
      "           <dt>\n",
      "            <a href=\"Bibliography.html\" name=\"40\">\n",
      "             Bibliography\n",
      "            </a>\n",
      "            <dd>\n",
      "             Paper documentation\n",
      "on  W3 and references.\n",
      "             <dt>\n",
      "              <a href=\"People.html\" name=\"14\">\n",
      "               People\n",
      "              </a>\n",
      "              <dd>\n",
      "               A list of some people involved\n",
      "in the project.\n",
      "               <dt>\n",
      "                <a href=\"History.html\" name=\"15\">\n",
      "                 History\n",
      "                </a>\n",
      "                <dd>\n",
      "                 A summary of the history\n",
      "of the project.\n",
      "                 <dt>\n",
      "                  <a href=\"Helping.html\" name=\"37\">\n",
      "                   How can I help\n",
      "                  </a>\n",
      "                  ?\n",
      "                  <dd>\n",
      "                   If you would like\n",
      "to support the web..\n",
      "                   <dt>\n",
      "                    <a href=\"../README.html\" name=\"48\">\n",
      "                     Getting code\n",
      "                    </a>\n",
      "                    <dd>\n",
      "                     Getting the code by\n",
      "                     <a href=\"LineMode/Defaults/Distribution.html\" name=\"49\">\n",
      "                      anonymous FTP\n",
      "                     </a>\n",
      "                     , etc.\n",
      "                    </dd>\n",
      "                   </dt>\n",
      "                  </dd>\n",
      "                 </dt>\n",
      "                </dd>\n",
      "               </dt>\n",
      "              </dd>\n",
      "             </dt>\n",
      "            </dd>\n",
      "           </dt>\n",
      "          </dd>\n",
      "         </dt>\n",
      "        </dd>\n",
      "       </dt>\n",
      "      </dd>\n",
      "     </dt>\n",
      "    </dd>\n",
      "   </dt>\n",
      "  </dl>\n",
      " </p>\n",
      "</body>\n",
      "\n"
     ]
    }
   ],
   "source": [
    "data = BeautifulSoup(html_data,'html.parser')\n",
    "print(data.prettify())"
   ]
  },
  {
   "cell_type": "code",
   "execution_count": 10,
   "metadata": {},
   "outputs": [
    {
     "data": {
      "text/plain": [
       "<h1>World Wide Web</h1>"
      ]
     },
     "execution_count": 10,
     "metadata": {},
     "output_type": "execute_result"
    }
   ],
   "source": [
    "data.h1"
   ]
  },
  {
   "cell_type": "code",
   "execution_count": 11,
   "metadata": {},
   "outputs": [
    {
     "data": {
      "text/plain": [
       "'World Wide Web'"
      ]
     },
     "execution_count": 11,
     "metadata": {},
     "output_type": "execute_result"
    }
   ],
   "source": [
    "data.h1.string"
   ]
  },
  {
   "cell_type": "code",
   "execution_count": 13,
   "metadata": {},
   "outputs": [
    {
     "name": "stdout",
     "output_type": "stream",
     "text": [
      "\n",
      "The World Wide Web project\n",
      "\n",
      "\n",
      "\n",
      "World Wide WebThe WorldWideWeb (W3) is a wide-area\n",
      "hypermedia information retrieval\n",
      "initiative aiming to give universal\n",
      "access to a large universe of documents.\n",
      "Everything there is online about\n",
      "W3 is linked directly or indirectly\n",
      "to this document, including an executive\n",
      "summary of the project, Mailing lists\n",
      ", Policy , November's  W3  news ,\n",
      "Frequently Asked Questions .\n",
      "\n",
      "What's out there?\n",
      " Pointers to the\n",
      "world's online information, subjects\n",
      ", W3 servers, etc.\n",
      "Help\n",
      " on the browser you are using\n",
      "Software Products\n",
      " A list of W3 project\n",
      "components and their current state.\n",
      "(e.g. Line Mode ,X11 Viola ,  NeXTStep\n",
      ", Servers , Tools , Mail robot ,\n",
      "Library )\n",
      "Technical\n",
      " Details of protocols, formats,\n",
      "program internals etc\n",
      "Bibliography\n",
      " Paper documentation\n",
      "on  W3 and references.\n",
      "People\n",
      " A list of some people involved\n",
      "in the project.\n",
      "History\n",
      " A summary of the history\n",
      "of the project.\n",
      "How can I help ?\n",
      " If you would like\n",
      "to support the web..\n",
      "Getting code\n",
      " Getting the code by\n",
      "anonymous FTP , etc.\n",
      "\n",
      "\n",
      "\n"
     ]
    }
   ],
   "source": [
    "print(data.get_text())"
   ]
  },
  {
   "cell_type": "code",
   "execution_count": 14,
   "metadata": {},
   "outputs": [
    {
     "data": {
      "text/plain": [
       "<a href=\"WhatIs.html\" name=\"0\">\n",
       "hypermedia</a>"
      ]
     },
     "execution_count": 14,
     "metadata": {},
     "output_type": "execute_result"
    }
   ],
   "source": [
    "data.a"
   ]
  },
  {
   "cell_type": "code",
   "execution_count": 15,
   "metadata": {},
   "outputs": [
    {
     "data": {
      "text/plain": [
       "'WhatIs.html'"
      ]
     },
     "execution_count": 15,
     "metadata": {},
     "output_type": "execute_result"
    }
   ],
   "source": [
    "data.a['href']"
   ]
  },
  {
   "cell_type": "code",
   "execution_count": 17,
   "metadata": {},
   "outputs": [
    {
     "name": "stdout",
     "output_type": "stream",
     "text": [
      "<a href=\"WhatIs.html\" name=\"0\">\n",
      "hypermedia</a>\n",
      "<a href=\"Summary.html\" name=\"24\">executive\n",
      "summary</a>\n",
      "<a href=\"Administration/Mailing/Overview.html\" name=\"29\">Mailing lists</a>\n",
      "<a href=\"Policy.html\" name=\"30\">Policy</a>\n",
      "<a href=\"News/9211.html\" name=\"34\">W3  news</a>\n",
      "<a href=\"FAQ/List.html\" name=\"41\">Frequently Asked Questions</a>\n",
      "<a href=\"../DataSources/Top.html\" name=\"44\">What's out there?</a>\n",
      "<a href=\"../DataSources/bySubject/Overview.html\" name=\"45\"> subjects</a>\n",
      "<a href=\"../DataSources/WWW/Servers.html\" name=\"z54\">W3 servers</a>\n",
      "<a href=\"Help.html\" name=\"46\">Help</a>\n",
      "<a href=\"Status.html\" name=\"13\">Software Products</a>\n",
      "<a href=\"LineMode/Browser.html\" name=\"27\">Line Mode</a>\n",
      "<a href=\"Status.html#35\" name=\"35\">Viola</a>\n",
      "<a href=\"NeXT/WorldWideWeb.html\" name=\"26\">NeXTStep</a>\n",
      "<a href=\"Daemon/Overview.html\" name=\"25\">Servers</a>\n",
      "<a href=\"Tools/Overview.html\" name=\"51\">Tools</a>\n",
      "<a href=\"MailRobot/Overview.html\" name=\"53\"> Mail robot</a>\n",
      "<a href=\"Status.html#57\" name=\"52\">\n",
      "Library</a>\n",
      "<a href=\"Technical.html\" name=\"47\">Technical</a>\n",
      "<a href=\"Bibliography.html\" name=\"40\">Bibliography</a>\n",
      "<a href=\"People.html\" name=\"14\">People</a>\n",
      "<a href=\"History.html\" name=\"15\">History</a>\n",
      "<a href=\"Helping.html\" name=\"37\">How can I help</a>\n",
      "<a href=\"../README.html\" name=\"48\">Getting code</a>\n",
      "<a href=\"LineMode/Defaults/Distribution.html\" name=\"49\">\n",
      "anonymous FTP</a>\n"
     ]
    }
   ],
   "source": [
    "a_li = data.find_all('a')\n",
    "for i in a_li:\n",
    "    print(i)"
   ]
  },
  {
   "cell_type": "code",
   "execution_count": 19,
   "metadata": {},
   "outputs": [
    {
     "name": "stdout",
     "output_type": "stream",
     "text": [
      "\n",
      "hypermedia\n",
      "executive\n",
      "summary\n",
      "Mailing lists\n",
      "Policy\n",
      "W3  news\n",
      "Frequently Asked Questions\n",
      "What's out there?\n",
      " subjects\n",
      "W3 servers\n",
      "Help\n",
      "Software Products\n",
      "Line Mode\n",
      "Viola\n",
      "NeXTStep\n",
      "Servers\n",
      "Tools\n",
      " Mail robot\n",
      "\n",
      "Library\n",
      "Technical\n",
      "Bibliography\n",
      "People\n",
      "History\n",
      "How can I help\n",
      "Getting code\n",
      "\n",
      "anonymous FTP\n"
     ]
    }
   ],
   "source": [
    "a_li = data.find_all('a')\n",
    "for i in a_li:\n",
    "    print(i.string)"
   ]
  },
  {
   "cell_type": "code",
   "execution_count": 27,
   "metadata": {},
   "outputs": [
    {
     "name": "stdout",
     "output_type": "stream",
     "text": [
      "19\n",
      "<a href=\"../DataSources/Top.html\" name=\"44\">What's out there?</a>\n",
      "<a href=\"../DataSources/bySubject/Overview.html\" name=\"45\"> subjects</a>\n",
      "<a href=\"../DataSources/WWW/Servers.html\" name=\"z54\">W3 servers</a>\n",
      "<a href=\"Help.html\" name=\"46\">Help</a>\n",
      "<a href=\"Status.html\" name=\"13\">Software Products</a>\n",
      "<a href=\"LineMode/Browser.html\" name=\"27\">Line Mode</a>\n",
      "<a href=\"Status.html#35\" name=\"35\">Viola</a>\n",
      "<a href=\"NeXT/WorldWideWeb.html\" name=\"26\">NeXTStep</a>\n",
      "<a href=\"Daemon/Overview.html\" name=\"25\">Servers</a>\n",
      "<a href=\"Tools/Overview.html\" name=\"51\">Tools</a>\n",
      "<a href=\"MailRobot/Overview.html\" name=\"53\"> Mail robot</a>\n",
      "<a href=\"Status.html#57\" name=\"52\">\n",
      "Library</a>\n",
      "<a href=\"Technical.html\" name=\"47\">Technical</a>\n",
      "<a href=\"Bibliography.html\" name=\"40\">Bibliography</a>\n",
      "<a href=\"People.html\" name=\"14\">People</a>\n",
      "<a href=\"History.html\" name=\"15\">History</a>\n",
      "<a href=\"Helping.html\" name=\"37\">How can I help</a>\n",
      "<a href=\"../README.html\" name=\"48\">Getting code</a>\n",
      "<a href=\"LineMode/Defaults/Distribution.html\" name=\"49\">\n",
      "anonymous FTP</a>\n"
     ]
    }
   ],
   "source": [
    "dl_li = data.dl.find_all('a')\n",
    "print(len(dl_li))\n",
    "for i in dl_li:\n",
    "    print(i)"
   ]
  },
  {
   "cell_type": "code",
   "execution_count": 28,
   "metadata": {},
   "outputs": [
    {
     "name": "stdout",
     "output_type": "stream",
     "text": [
      "What's out there?\n",
      " subjects\n",
      "W3 servers\n",
      "Help\n",
      "Software Products\n",
      "Line Mode\n",
      "Viola\n",
      "NeXTStep\n",
      "Servers\n",
      "Tools\n",
      " Mail robot\n",
      "\n",
      "Library\n",
      "Technical\n",
      "Bibliography\n",
      "People\n",
      "History\n",
      "How can I help\n",
      "Getting code\n",
      "\n",
      "anonymous FTP\n"
     ]
    }
   ],
   "source": [
    "for i in dl_li:\n",
    "    print(i.string)"
   ]
  },
  {
   "cell_type": "code",
   "execution_count": 30,
   "metadata": {},
   "outputs": [
    {
     "name": "stdout",
     "output_type": "stream",
     "text": [
      "9\n"
     ]
    }
   ],
   "source": [
    "li_3 = data.dl.find_all('dt')\n",
    "print(len(li_3))"
   ]
  },
  {
   "cell_type": "code",
   "execution_count": 31,
   "metadata": {},
   "outputs": [
    {
     "name": "stdout",
     "output_type": "stream",
     "text": [
      "What's out there?\n",
      "Help\n",
      "Software Products\n",
      "Technical\n",
      "Bibliography\n",
      "People\n",
      "History\n",
      "How can I help\n",
      "Getting code\n"
     ]
    }
   ],
   "source": [
    "for i in li_3:\n",
    "    print(i.a.string)"
   ]
  },
  {
   "cell_type": "code",
   "execution_count": null,
   "metadata": {},
   "outputs": [],
   "source": []
  }
 ],
 "metadata": {
  "kernelspec": {
   "display_name": "Python 3",
   "language": "python",
   "name": "python3"
  },
  "language_info": {
   "codemirror_mode": {
    "name": "ipython",
    "version": 3
   },
   "file_extension": ".py",
   "mimetype": "text/x-python",
   "name": "python",
   "nbconvert_exporter": "python",
   "pygments_lexer": "ipython3",
   "version": "3.7.1"
  }
 },
 "nbformat": 4,
 "nbformat_minor": 2
}
