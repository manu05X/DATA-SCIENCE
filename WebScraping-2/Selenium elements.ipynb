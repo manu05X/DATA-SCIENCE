{
 "cells": [
  {
   "cell_type": "markdown",
   "metadata": {},
   "source": [
    "# Locate element   \n",
    "* https://selenium-python.readthedocs.io/locating-elements.html\n",
    "    * find_element_by_link_text()\n",
    "    * find_element_by_partial_link_text()\n",
    "    * find_element_by_id()\n",
    "    * find_element_by_class_name()\n",
    "    * find_element_by_name()\n",
    "    * find_element_by_tag_name()\n",
    "    * find_element_by_Xpath()\n",
    "    * find_element_by_css_selector()"
   ]
  },
  {
   "cell_type": "code",
   "execution_count": 1,
   "metadata": {},
   "outputs": [],
   "source": [
    "from selenium import webdriver"
   ]
  },
  {
   "cell_type": "code",
   "execution_count": 3,
   "metadata": {},
   "outputs": [
    {
     "data": {
      "text/plain": [
       "<selenium.webdriver.chrome.webdriver.WebDriver (session=\"0cc768a03deef9864eb316224f09eea3\")>"
      ]
     },
     "execution_count": 3,
     "metadata": {},
     "output_type": "execute_result"
    }
   ],
   "source": [
    "driver = webdriver.Chrome(executable_path = r'C:\\Users\\Manish\\DriverChrome\\chromedriver')\n",
    "driver"
   ]
  },
  {
   "cell_type": "code",
   "execution_count": 5,
   "metadata": {},
   "outputs": [],
   "source": [
    "driver.get('http://books.toscrape.com/')"
   ]
  },
  {
   "cell_type": "code",
   "execution_count": 7,
   "metadata": {},
   "outputs": [
    {
     "data": {
      "text/plain": [
       "<selenium.webdriver.remote.webelement.WebElement (session=\"0cc768a03deef9864eb316224f09eea3\", element=\"2b56f1b2-8485-4c84-825d-679058c51515\")>"
      ]
     },
     "execution_count": 7,
     "metadata": {},
     "output_type": "execute_result"
    }
   ],
   "source": [
    "c1 = driver.find_element_by_link_text('Music') #return only the first match\n",
    "c1"
   ]
  },
  {
   "cell_type": "markdown",
   "metadata": {},
   "source": [
    "c1.click("
   ]
  },
  {
   "cell_type": "code",
   "execution_count": 8,
   "metadata": {},
   "outputs": [],
   "source": [
    "c1.click()"
   ]
  },
  {
   "cell_type": "code",
   "execution_count": 11,
   "metadata": {},
   "outputs": [
    {
     "data": {
      "text/plain": [
       "<selenium.webdriver.remote.webelement.WebElement (session=\"0cc768a03deef9864eb316224f09eea3\", element=\"d521495a-cff2-4324-ab3c-a2961d2859ce\")>"
      ]
     },
     "execution_count": 11,
     "metadata": {},
     "output_type": "execute_result"
    }
   ],
   "source": [
    "b1 = driver.find_element_by_partial_link_text('Kill') #return only the first match\n",
    "b1"
   ]
  },
  {
   "cell_type": "code",
   "execution_count": 13,
   "metadata": {},
   "outputs": [],
   "source": [
    "b1.click()"
   ]
  },
  {
   "cell_type": "code",
   "execution_count": 14,
   "metadata": {},
   "outputs": [],
   "source": [
    "driver.back()"
   ]
  },
  {
   "cell_type": "code",
   "execution_count": 16,
   "metadata": {},
   "outputs": [
    {
     "data": {
      "text/plain": [
       "<selenium.webdriver.remote.webelement.WebElement (session=\"0cc768a03deef9864eb316224f09eea3\", element=\"68fe2f46-b3dd-4471-9dcc-8f2fe8d2e423\")>"
      ]
     },
     "execution_count": 16,
     "metadata": {},
     "output_type": "execute_result"
    }
   ],
   "source": [
    "img1 = driver.find_element_by_class_name('image_container')#return only the first match\n",
    "img1"
   ]
  },
  {
   "cell_type": "code",
   "execution_count": 17,
   "metadata": {},
   "outputs": [],
   "source": [
    "img1.click()"
   ]
  },
  {
   "cell_type": "code",
   "execution_count": 23,
   "metadata": {},
   "outputs": [
    {
     "data": {
      "text/plain": [
       "[<selenium.webdriver.remote.webelement.WebElement (session=\"0cc768a03deef9864eb316224f09eea3\", element=\"8f73ef37-234a-44a4-97ca-c0fba3037e16\")>,\n",
       " <selenium.webdriver.remote.webelement.WebElement (session=\"0cc768a03deef9864eb316224f09eea3\", element=\"25ac49bf-e645-46c3-ba93-38dc5cfd8215\")>,\n",
       " <selenium.webdriver.remote.webelement.WebElement (session=\"0cc768a03deef9864eb316224f09eea3\", element=\"34e2c4e3-6cf8-4978-8706-c12498fae2f4\")>,\n",
       " <selenium.webdriver.remote.webelement.WebElement (session=\"0cc768a03deef9864eb316224f09eea3\", element=\"ca591188-f48f-49aa-9590-2f215fda0ec7\")>,\n",
       " <selenium.webdriver.remote.webelement.WebElement (session=\"0cc768a03deef9864eb316224f09eea3\", element=\"f520b8eb-d084-4e42-be29-4d3b813c7013\")>,\n",
       " <selenium.webdriver.remote.webelement.WebElement (session=\"0cc768a03deef9864eb316224f09eea3\", element=\"932e5e5d-2aa3-499d-b95f-991481aeb053\")>,\n",
       " <selenium.webdriver.remote.webelement.WebElement (session=\"0cc768a03deef9864eb316224f09eea3\", element=\"9185a93a-47f5-4c92-b941-c8691178d6d2\")>,\n",
       " <selenium.webdriver.remote.webelement.WebElement (session=\"0cc768a03deef9864eb316224f09eea3\", element=\"3d79c959-b458-419f-a8a8-80ee3d345fc4\")>,\n",
       " <selenium.webdriver.remote.webelement.WebElement (session=\"0cc768a03deef9864eb316224f09eea3\", element=\"87cfcce9-03ca-4a5a-9543-8d18d77f902e\")>,\n",
       " <selenium.webdriver.remote.webelement.WebElement (session=\"0cc768a03deef9864eb316224f09eea3\", element=\"c9c1c803-7a25-4f31-b9c8-c34f050936db\")>,\n",
       " <selenium.webdriver.remote.webelement.WebElement (session=\"0cc768a03deef9864eb316224f09eea3\", element=\"bb4edcb2-71ac-44c4-8c91-294175ffce72\")>,\n",
       " <selenium.webdriver.remote.webelement.WebElement (session=\"0cc768a03deef9864eb316224f09eea3\", element=\"faf2b66f-7459-4b12-96dc-5eec3efc19d5\")>,\n",
       " <selenium.webdriver.remote.webelement.WebElement (session=\"0cc768a03deef9864eb316224f09eea3\", element=\"cd0ee6d8-46fc-43a6-b718-7cfabd0a1132\")>]"
      ]
     },
     "execution_count": 23,
     "metadata": {},
     "output_type": "execute_result"
    }
   ],
   "source": [
    "img_all = driver.find_elements_by_class_name('image_container')  #elements\n",
    "img_all"
   ]
  },
  {
   "cell_type": "code",
   "execution_count": 24,
   "metadata": {},
   "outputs": [
    {
     "name": "stdout",
     "output_type": "stream",
     "text": [
      "13\n"
     ]
    }
   ],
   "source": [
    "img_all = driver.find_elements_by_class_name('image_container')\n",
    "print(len(img_all))"
   ]
  },
  {
   "cell_type": "code",
   "execution_count": 28,
   "metadata": {},
   "outputs": [
    {
     "name": "stdout",
     "output_type": "stream",
     "text": [
      "<class 'selenium.webdriver.remote.webelement.WebElement'>\n"
     ]
    }
   ],
   "source": [
    "b = driver.find_element_by_tag_name('img')\n",
    "print(type(b))"
   ]
  },
  {
   "cell_type": "code",
   "execution_count": 27,
   "metadata": {},
   "outputs": [
    {
     "name": "stdout",
     "output_type": "stream",
     "text": [
      "<class 'selenium.webdriver.remote.webelement.WebElement'>\n"
     ]
    }
   ],
   "source": [
    "a = driver.find_element_by_name('viewport')\n",
    "print(type(a))"
   ]
  },
  {
   "cell_type": "code",
   "execution_count": 29,
   "metadata": {},
   "outputs": [
    {
     "data": {
      "text/plain": [
       "<selenium.webdriver.remote.webelement.WebElement (session=\"0cc768a03deef9864eb316224f09eea3\", element=\"ba876b27-fe2d-40aa-8963-a0e4c4c9795c\")>"
      ]
     },
     "execution_count": 29,
     "metadata": {},
     "output_type": "execute_result"
    }
   ],
   "source": [
    "c = driver.find_element_by_class_name('price_color')\n",
    "c"
   ]
  },
  {
   "cell_type": "code",
   "execution_count": 31,
   "metadata": {},
   "outputs": [],
   "source": [
    "c.click() #nothing happen as c i.e price_color is not clickable"
   ]
  },
  {
   "cell_type": "code",
   "execution_count": 32,
   "metadata": {},
   "outputs": [],
   "source": [
    "driver.get('https://www.facebook.com/')"
   ]
  },
  {
   "cell_type": "code",
   "execution_count": 33,
   "metadata": {},
   "outputs": [
    {
     "data": {
      "text/plain": [
       "True"
      ]
     },
     "execution_count": 33,
     "metadata": {},
     "output_type": "execute_result"
    }
   ],
   "source": [
    "Enable = driver.find_element_by_name(\"firstname\").is_enabled()\n",
    "Enable"
   ]
  },
  {
   "cell_type": "code",
   "execution_count": null,
   "metadata": {},
   "outputs": [],
   "source": []
  }
 ],
 "metadata": {
  "kernelspec": {
   "display_name": "Python 3",
   "language": "python",
   "name": "python3"
  },
  "language_info": {
   "codemirror_mode": {
    "name": "ipython",
    "version": 3
   },
   "file_extension": ".py",
   "mimetype": "text/x-python",
   "name": "python",
   "nbconvert_exporter": "python",
   "pygments_lexer": "ipython3",
   "version": "3.7.1"
  }
 },
 "nbformat": 4,
 "nbformat_minor": 2
}
