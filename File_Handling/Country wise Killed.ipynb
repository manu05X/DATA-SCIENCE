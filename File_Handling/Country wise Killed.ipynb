{
 "cells": [
  {
   "cell_type": "code",
   "execution_count": 4,
   "metadata": {},
   "outputs": [
    {
     "name": "stdout",
     "output_type": "stream",
     "text": [
      "{'Afghanistan': 6092, 'Sudan': 82, 'Democratic Republic of the Congo': 596, 'Turkey': 222, 'Syria': 2026, 'Pakistan': 1076, 'Italy': 0, 'Somalia': 1912, 'Yemen': 762, 'Bahrain': 6, 'Myanmar': 218, 'Burundi': 20, 'Iraq': 6476, 'Egypt': 877, 'Burkina Faso': 53, 'India': 465, 'Algeria': 12, 'United States': 95, 'Philippines': 496, 'Greece': 0, 'Mali': 361, 'Libya': 289, 'Central African Republic': 601, 'Nigeria': 1805, 'Lebanon': 17, 'Mexico': 23, 'Cameroon': 228, 'Ethiopia': 67, 'Kyrgyzstan': 0, 'Serbia': 0, 'Sweden': 5, 'Thailand': 72, 'Iran': 39, 'France': 7, 'United Kingdom': 42, 'West Bank and Gaza Strip': 50, 'Ukraine': 40, 'Paraguay': 4, 'Colombia': 84, 'Malaysia': 4, 'Russia': 61, 'Kosovo': 0, 'South Africa': 21, 'Chile': 0, 'Kenya': 126, 'Israel': 3, 'Saudi Arabia': 31, 'China': 16, 'Nepal': 4, 'Ecuador': 0, 'Niger': 148, 'Venezuela': 5, 'South Sudan': 581, 'Canada': 6, 'Bangladesh': 25, 'Tajikistan': 1, 'Angola': 7, 'Ireland': 0, 'Peru': 8, 'Dominican Republic': 2, 'Poland': 0, 'Jordan': 4, 'Azerbaijan': 5, 'Mozambique': 22, 'Indonesia': 20, 'Germany': 1, 'Brazil': 0, 'Macedonia': 0, 'Tunisia': 5, 'Uganda': 7, 'Chad': 62, 'Finland': 2, 'Australia': 4, 'Norway': 0, 'Vietnam': 0, 'Tanzania': 8, 'Sierra Leone': 0, 'Sri Lanka': 1, 'Maldives': 1, 'Belgium': 2, 'Rwanda': 2, 'Honduras': 2, 'Czech Republic': 0, 'Malta': 1, 'Gabon': 0, 'Laos': 1, 'Djibouti': 0, 'Austria': 2, 'Zambia': 0, 'Argentina': 0, 'Papua New Guinea': 0, 'Zimbabwe': 0, 'Ivory Coast': 3, 'Spain': 21, 'Taiwan': 0, 'Jamaica': 0, 'Albania': 0, 'Liberia': 0, 'Georgia': 0, 'Malawi': 0, 'Netherlands': 0, 'Latvia': 0}\n"
     ]
    }
   ],
   "source": [
    "import csv\n",
    "\n",
    "with open('year2017.csv') as file_obj :\n",
    "    file_data = csv.DictReader(file_obj, skipinitialspace = True)\n",
    "    file_list = list(file_data) \n",
    "\n",
    "country_killed = {}\n",
    "for row in file_list :\n",
    "    key = row['Country']\n",
    "    value = row['Killed']\n",
    "    \n",
    "    if value != '' :\n",
    "        value = int(float(value))\n",
    "    else :\n",
    "        value = 0\n",
    "        \n",
    "    if key in country_killed :\n",
    "        country_killed[key] += value\n",
    "    else :\n",
    "        country_killed[key] = value\n",
    "        \n",
    "print(country_killed)"
   ]
  },
  {
   "cell_type": "code",
   "execution_count": null,
   "metadata": {},
   "outputs": [],
   "source": []
  }
 ],
 "metadata": {
  "kernelspec": {
   "display_name": "Python 3",
   "language": "python",
   "name": "python3"
  },
  "language_info": {
   "codemirror_mode": {
    "name": "ipython",
    "version": 3
   },
   "file_extension": ".py",
   "mimetype": "text/x-python",
   "name": "python",
   "nbconvert_exporter": "python",
   "pygments_lexer": "ipython3",
   "version": "3.7.1"
  }
 },
 "nbformat": 4,
 "nbformat_minor": 2
}
