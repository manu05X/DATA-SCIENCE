{
 "cells": [
  {
   "cell_type": "code",
   "execution_count": 58,
   "metadata": {},
   "outputs": [],
   "source": [
    "#link of the site used:\"http://kanview.ks.gov/PayRates/PayRates_Agency.aspx\" "
   ]
  },
  {
   "cell_type": "code",
   "execution_count": 26,
   "metadata": {},
   "outputs": [],
   "source": [
    "from selenium import webdriver"
   ]
  },
  {
   "cell_type": "code",
   "execution_count": 27,
   "metadata": {},
   "outputs": [
    {
     "data": {
      "text/plain": [
       "<selenium.webdriver.chrome.webdriver.WebDriver (session=\"97037fd1e658a5f0f5271224421a3c27\")>"
      ]
     },
     "execution_count": 27,
     "metadata": {},
     "output_type": "execute_result"
    }
   ],
   "source": [
    "driver = webdriver.Chrome(executable_path = r'C:\\Users\\Manish\\DriverChrome\\chromedriver')\n",
    "driver"
   ]
  },
  {
   "cell_type": "code",
   "execution_count": 28,
   "metadata": {},
   "outputs": [],
   "source": [
    "driver.get('http://kanview.ks.gov/PayRates/PayRates_Agency.aspx')"
   ]
  },
  {
   "cell_type": "code",
   "execution_count": 40,
   "metadata": {},
   "outputs": [
    {
     "data": {
      "text/plain": [
       "<selenium.webdriver.remote.webelement.WebElement (session=\"97037fd1e658a5f0f5271224421a3c27\", element=\"7baf60ea-c8cb-4e4a-ace3-d2c802430900\")>"
      ]
     },
     "execution_count": 40,
     "metadata": {},
     "output_type": "execute_result"
    }
   ],
   "source": [
    "a = driver.find_element_by_link_text('Adjutant General')\n",
    "a"
   ]
  },
  {
   "cell_type": "code",
   "execution_count": 41,
   "metadata": {},
   "outputs": [],
   "source": [
    "a.click()"
   ]
  },
  {
   "cell_type": "code",
   "execution_count": 52,
   "metadata": {},
   "outputs": [
    {
     "name": "stdout",
     "output_type": "stream",
     "text": [
      "<class 'bs4.element.Tag'>\n",
      "<class 'bs4.element.Tag'>\n",
      "<class 'bs4.element.Tag'>\n",
      "<class 'bs4.element.Tag'>\n",
      "<class 'bs4.element.Tag'>\n",
      "<class 'bs4.element.Tag'>\n"
     ]
    }
   ],
   "source": [
    "from bs4 import BeautifulSoup\n",
    "import pandas as pd\n",
    "\n",
    "dataFrameList = []   # to save all the data in list\n",
    "\n",
    "for i in range(6):\n",
    "    link = driver.find_element_by_id('MainContent_uxLevel1_Agencies_uxAgencyBtn_'+str(i))\n",
    "    link.click()\n",
    "    \n",
    "    data = BeautifulSoup(driver.page_source,'lxml') #\"lxml type of parser is passed\"\n",
    "    emp_table = data.table #get the html tag\n",
    "    print(type(emp_table))\n",
    "    df = pd.read_html(str(emp_table), header = 0)  #Read the content of html with pd.read_html(io,header) method,\n",
    "    #(header=0) make 0'th row as column header,read documentation of this method\n",
    "    dataFrameList.append(df[0])\n",
    "    driver.back()"
   ]
  },
  {
   "cell_type": "code",
   "execution_count": 55,
   "metadata": {},
   "outputs": [
    {
     "name": "stdout",
     "output_type": "stream",
     "text": [
      "<class 'list'>\n",
      "                        Job Title\n",
      "0       Administrative Specialist\n",
      "1    Appt/Elect Bd/Comm Bd Member\n",
      "2              Assistant Director\n",
      "3              Executive Director\n",
      "4  Senior Administrativ Assistant\n",
      "5            Special Investigator\n",
      "6         Special Investigator II\n"
     ]
    }
   ],
   "source": [
    "print(type(df))\n",
    "print(df[0]) # contain the desired dataframe"
   ]
  },
  {
   "cell_type": "code",
   "execution_count": 56,
   "metadata": {},
   "outputs": [
    {
     "data": {
      "text/plain": [
       "[                        Job Title\n",
       " 0        Administrative Assistant\n",
       " 1    Appt/Elect Bd/Comm Bd Member\n",
       " 2  Bd Of Comm Executive Secretary,                           Job Title\n",
       " 0                       911 Liaison\n",
       " 1              Access Control Clerk\n",
       " 2            Access Control Officer\n",
       " 3                      Accountant I\n",
       " 4                     Accountant II\n",
       " 5              Accountant II - Lead\n",
       " 6                    Accountant III\n",
       " 7                      Accountant V\n",
       " 8             Accounting Specialist\n",
       " 9      Acting Appntv St Agency Head\n",
       " 10     Acting Dir of Public Affairs\n",
       " 11         Administrative Assistant\n",
       " 12           Administrative Officer\n",
       " 13        Administrative Specialist\n",
       " 14                Antiterrorism Mgr\n",
       " 15       App Programmer/Analyst III\n",
       " 16        Applications Developer II\n",
       " 17                    Architect III\n",
       " 18                 Asset Specialist\n",
       " 19      Assistant Chief of Training\n",
       " 20                        Auditor I\n",
       " 21    Biological Emergency Prepared\n",
       " 22   Bldg Automa Systems Specialist\n",
       " 23       Building System Technician\n",
       " 24       Chief - Strategic Planning\n",
       " 25              Chief Editor/Writer\n",
       " 26            COM Train & Exer Spec\n",
       " 27    Comm Training & Exercise Spec\n",
       " 28          Conservation Technician\n",
       " 29             Construction Manager\n",
       " ..                              ...\n",
       " 113           Real Property Manager\n",
       " 114        Real Property Specialist\n",
       " 115    Real Property Specialist GSU\n",
       " 116     Resource Protection Mgr-LEO\n",
       " 117  Resource Protection Offi - CPL\n",
       " 118  Resource Protection Offic-Lead\n",
       " 119     Resource Protection Officer\n",
       " 120  Resource Protection Officr-LEO\n",
       " 121    Resp & Recov Srvs Sect Chief\n",
       " 122    Resp & Recovery Service Spec\n",
       " 123    RP Shift Supervisor-LEO-Capt\n",
       " 124      RP Shift Supervisor-LEO-LT\n",
       " 125      SE Regional EM Coordinator\n",
       " 126                Seasonal Laborer\n",
       " 127   Sect Chief of Engineering Sup\n",
       " 128                   Site Director\n",
       " 129      Sr Lead Analyst/Deputy Dir\n",
       " 130         State EM Response Coord\n",
       " 131      Supervisor Structural Shop\n",
       " 132               Supply Specialist\n",
       " 133        Sustainability Assistant\n",
       " 134         Sustainability Manaager\n",
       " 135   Technology Support Consultant\n",
       " 136        Telecom Control Tech III\n",
       " 137       Telecomm Control Tech III\n",
       " 138        Telecomm Tech Supervisor\n",
       " 139             Training Consultant\n",
       " 140                  Utility Worker\n",
       " 141      WebEOC Mgr & Watch Officer\n",
       " 142   WMD/Biological Threat Analyst\n",
       " \n",
       " [143 rows x 1 columns],                          Job Title\n",
       " 0                       Accountant\n",
       " 1            Accounting Specialist\n",
       " 2     Appt/Elect Bd/Comm Bd Member\n",
       " 3       Assistant Attorney General\n",
       " 4      Assistant Inspector General\n",
       " 5      Assistant Solicitor General\n",
       " 6   Asst Attorney General/Director\n",
       " 7   Budget/Fiscal Service Director\n",
       " 8                     Chief Deputy\n",
       " 9                   Chief Of Staff\n",
       " 10                     Coordinator\n",
       " 11            Dep Attorney General\n",
       " 12   Dep Attorney General (Div CF)\n",
       " 13      Dep Attorney General-Civil\n",
       " 14   Dep Attorney General-Consumer\n",
       " 15   Dep Attorney General-Criminal\n",
       " 16      Dep Attorney General-LOGIC\n",
       " 17   Dep Attorney General-Medicaid\n",
       " 18     Dep Solicitor General-Civil\n",
       " 19    Dir of Server Infrastructure\n",
       " 20      Director Of Communications\n",
       " 21     Director/Special Agent-Roof\n",
       " 22      Elective State Agency Head\n",
       " 23             Executive Assistant\n",
       " 24              Executive Director\n",
       " 25               Executive Officer\n",
       " 26               Financial Analyst\n",
       " 27                   Grant Monitor\n",
       " 28         Human Resource Director\n",
       " 29  Information Technology Manager\n",
       " 30                          Intern\n",
       " 31                    Investigator\n",
       " 32                       Law Clerk\n",
       " 33                 Legal Assistant\n",
       " 34       Legal Asst/Complaint Spec\n",
       " 35      Medicaid Inspector General\n",
       " 36                  Office Manager\n",
       " 37  Outreach & Public Affair Coord\n",
       " 38                 Project Manager\n",
       " 39    Public Info Officer/Director\n",
       " 40      Public Information Officer\n",
       " 41   Registered Nurse Investigator\n",
       " 42                Research Analyst\n",
       " 43                    Secretary II\n",
       " 44                   Secretary III\n",
       " 45    Senior Asst Attorney General\n",
       " 46  Sexual Assault Victim Advocate\n",
       " 47               Solicitor General\n",
       " 48                   Special Agent\n",
       " 49  Special Agent Attorney General\n",
       " 50         Special Agent in Charge\n",
       " 51  Special Agent/DARE Coordinator\n",
       " 52               Special Assistant\n",
       " 53   Sr Assistant Attorney General\n",
       " 54   Technology Support Consultant\n",
       " 55   Trainer, Victim-Witness Coord\n",
       " 56  Trial Asst/Victim Witness Coor\n",
       " 57      Victims Rights Coordinator,                          Job Title\n",
       " 0   Acting Appntive St Agency Head\n",
       " 1     Appt/Elect Bd/Comm Bd Member\n",
       " 2                         Attorney\n",
       " 3   Bus Systems/Support Specialist\n",
       " 4      Consumer Affairs Specialist\n",
       " 5         Director of Examinations\n",
       " 6    Director of Finance and Admin\n",
       " 7            Director of Licensing\n",
       " 8             FE - Review Examiner\n",
       " 9               FE Review Examiner\n",
       " 10               Financial Analyst\n",
       " 11              Financial Examiner\n",
       " 12    Financial Examiner-Principal\n",
       " 13                 General Counsel\n",
       " 14           IT Financial Examiner\n",
       " 15          IT Specialist Examiner\n",
       " 16               Licensing Manager\n",
       " 17       Licensing Program Analyst\n",
       " 18          Loan Review Specialist\n",
       " 19     Manager of Consumer Affairs\n",
       " 20               Managing Examiner\n",
       " 21              Operations Manager\n",
       " 22                    Receptionist\n",
       " 23                Regional Manager\n",
       " 24                 Review Examiner\n",
       " 25     Sr Applications & Stats Mgr\n",
       " 26     Tech Support Consultant III\n",
       " 27    Training and Records Manager,              Job Title\n",
       " 0             Examiner\n",
       " 1  Executive Secretary,                         Job Title\n",
       " 0       Administrative Specialist\n",
       " 1    Appt/Elect Bd/Comm Bd Member\n",
       " 2              Assistant Director\n",
       " 3              Executive Director\n",
       " 4  Senior Administrativ Assistant\n",
       " 5            Special Investigator\n",
       " 6         Special Investigator II]"
      ]
     },
     "execution_count": 56,
     "metadata": {},
     "output_type": "execute_result"
    }
   ],
   "source": [
    "dataFrameList   #to merge all the df we can use method.concat"
   ]
  },
  {
   "cell_type": "markdown",
   "metadata": {},
   "source": [
    "* outerHTML is used to get the html content of a tag including the tag itself.\n",
    "**What is XPath?\n",
    "    XPath is defined as XML path. It is a syntax or language for finding any element on the web page using XML path expression. XPath is used to find the location of any element on a webpage using HTML DOM structure. \n",
    "* Absolute Xpath(/): It contains the complete path from the Root Element to the desire element.(/ is used for absolute xpath )\n",
    "* Relative Xpath(//): This is more like starting simply by referencing the element you want and go from the particular location\n",
    "* https://www.guru99.com/xpath-selenium.html\n",
    "\n",
    "* (\"//div[@class=’cn’]//div\") = is used to find every div tag inside a div tag which has the class “cn”.\n",
    "* Find all <p> tags immediately inside <a> tags that have class ‘coding’. (Given that <a> tags can have multiple classes)?\n",
    "    ans = //a[contains(@class,’coding’)]/p \n",
    "\n",
    "* Which of the following is/are the correct xpath to find the name of the 5th artist? link=https://www.nga.gov/collection/artists.html\n",
    "    Ans = (//ul[@id=’returns’]/li[5]) and (//ul[@class=’returns’]/li[5] )\n",
    "    \n",
    "* Which of the following css selectors can be used to find the name of artists on the page?\n",
    "ANS>   \n",
    "     li.art dl dt a \n",
    "\n",
    "     li.art>dl>dt>a \n",
    "\n",
    "     li.art dl.return-art dt a \n",
    "\n",
    "     dt.title a \n"
   ]
  }
 ],
 "metadata": {
  "kernelspec": {
   "display_name": "Python 3",
   "language": "python",
   "name": "python3"
  },
  "language_info": {
   "codemirror_mode": {
    "name": "ipython",
    "version": 3
   },
   "file_extension": ".py",
   "mimetype": "text/x-python",
   "name": "python",
   "nbconvert_exporter": "python",
   "pygments_lexer": "ipython3",
   "version": "3.7.1"
  }
 },
 "nbformat": 4,
 "nbformat_minor": 2
}
