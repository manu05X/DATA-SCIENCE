{
 "cells": [
  {
   "cell_type": "markdown",
   "metadata": {},
   "source": [
    "# Authorization & Authentication\n",
    "\n",
    "\n",
    "Authentication\n",
    "Authentication is about validating your credentials such as Username/User ID and password to verify your identity. The system then checks whether you are what you say you are using your credentials. Whether in public or private networks, the system authenticates the user identity through login passwords. Usually authentication is done by a username and password, although there are other various ways to be authenticated.\n",
    "\n",
    "Authorization\n",
    "Authorization occurs after your identity is successfully authenticated by the system, which therefore gives you full access to resources such as information, files, databases, funds, etc. However authorization verifies your rights to grant you access to resources only after determining your ability to access the system and up to what extent. In other words, authorization is the process to determine whether the authenticated user has access to the particular resources. A good example of this is, once verifying and confirming employee ID and passwords through authentication, the next step would be determining which employee has access to which floor and that is done through authorization.\n",
    "\n",
    "source: https://medium.com/datadriveninvestor/authentication-vs-authorization-716fea914d55"
   ]
  },
  {
   "cell_type": "code",
   "execution_count": 3,
   "metadata": {},
   "outputs": [
    {
     "name": "stdout",
     "output_type": "stream",
     "text": [
      "401\n"
     ]
    }
   ],
   "source": [
    "import requests\n",
    "from requests.auth import HTTPBasicAuth\n",
    "a = requests.get('https://api.github.com/user')\n",
    "print(a.status_code)  \n",
    "#{\n",
    "  #\"message\": \"Requires authentication\",\n",
    "  #\"documentation_url\": \"https://developer.github.com/v3/users/#get-the-authenticated-user\"\n",
    "#}"
   ]
  },
  {
   "cell_type": "code",
   "execution_count": 4,
   "metadata": {},
   "outputs": [
    {
     "name": "stdout",
     "output_type": "stream",
     "text": [
      "200\n"
     ]
    }
   ],
   "source": [
    "import requests\n",
    "from requests.auth import HTTPBasicAuth\n",
    "a = requests.get('https://api.github.com/user',auth = ('Email','password'))\n",
    "print(a.status_code)  "
   ]
  },
  {
   "cell_type": "code",
   "execution_count": 5,
   "metadata": {},
   "outputs": [],
   "source": [
    "#https://developer.github.com/v3/repos/#create\n",
    "import json\n",
    "info = {'name' : 'test_repo','ddescription': 'Created via API call', 'auto_init':'true'}\n",
    "a = requests.post('https://api.github.com/user/repos', auth = ('Email','password'), data = json.dumps(info))"
   ]
  },
  {
   "cell_type": "code",
   "execution_count": 3,
   "metadata": {},
   "outputs": [
    {
     "name": "stdout",
     "output_type": "stream",
     "text": [
      "Apache License 2.0\n"
     ]
    }
   ],
   "source": [
    "import requests\n",
    "username = 'codingninjas123'\n",
    "password = 'cnninjas123'\n",
    "\n",
    "License = requests.get('https://api.github.com/'+'repos/google/go-cloud', auth =(username,password))\n",
    "print(License.json().get('license').get('name'))"
   ]
  },
  {
   "cell_type": "code",
   "execution_count": 10,
   "metadata": {},
   "outputs": [
    {
     "name": "stdout",
     "output_type": "stream",
     "text": [
      "fuzzing\n",
      "security\n",
      "stability\n",
      "vulnerabilities\n"
     ]
    }
   ],
   "source": [
    "import requests\n",
    "username = 'codingninjas123'\n",
    "password = 'cnninjas123'\n",
    "header = {\"Accept\":\"application/vnd.github.mercy-preview+json\"}\n",
    "topic = requests.get('https://api.github.com/'+'repos/google/clusterfuzz/topics', auth =(username,password),headers=header)\n",
    "for i in topic.json().get('names'):\n",
    "    print(i)"
   ]
  },
  {
   "cell_type": "code",
   "execution_count": 18,
   "metadata": {},
   "outputs": [
    {
     "name": "stdout",
     "output_type": "stream",
     "text": [
      "S\n",
      "w\n",
      "i\n",
      "f\n",
      "t\n"
     ]
    }
   ],
   "source": [
    "import requests\n",
    "username = 'codingninjas123'\n",
    "password = 'cnninjas123'\n",
    "#header = {\"Accept\":\"application/vnd.github.mercy-preview+json\"}\n",
    "topic = requests.get('https://api.github.com/'+'repos/google/science-journal-ios', auth =(username,password))\n",
    "for i in topic.json().get('language'):\n",
    "    print(i)\n",
    "    \n",
    "    "
   ]
  },
  {
   "cell_type": "code",
   "execution_count": 25,
   "metadata": {},
   "outputs": [
    {
     "name": "stdout",
     "output_type": "stream",
     "text": [
      "Swift\n",
      "HTML\n",
      "Python\n",
      "Ruby\n",
      "Shell\n"
     ]
    }
   ],
   "source": [
    "import requests\n",
    "username = 'codingninjas123'\n",
    "password = 'cnninjas123'\n",
    "header = {\"Accept\":\"application/vnd.github.mercy-preview+json\"}\n",
    "topic = requests.get('https://api.github.com/'+'repos/google/science-journal-ios/languages', auth =(username,password),headers = header)\n",
    "for i in topic.json():\n",
    "    print(i)"
   ]
  },
  {
   "cell_type": "code",
   "execution_count": null,
   "metadata": {},
   "outputs": [],
   "source": []
  }
 ],
 "metadata": {
  "kernelspec": {
   "display_name": "Python 3",
   "language": "python",
   "name": "python3"
  },
  "language_info": {
   "codemirror_mode": {
    "name": "ipython",
    "version": 3
   },
   "file_extension": ".py",
   "mimetype": "text/x-python",
   "name": "python",
   "nbconvert_exporter": "python",
   "pygments_lexer": "ipython3",
   "version": "3.7.1"
  }
 },
 "nbformat": 4,
 "nbformat_minor": 2
}
