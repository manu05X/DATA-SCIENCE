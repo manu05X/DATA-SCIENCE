{
 "cells": [
  {
   "cell_type": "code",
   "execution_count": 1,
   "metadata": {
    "scrolled": false
   },
   "outputs": [
    {
     "name": "stdout",
     "output_type": "stream",
     "text": [
      "200\n"
     ]
    }
   ],
   "source": [
    "import requests\n",
    "import json\n",
    "response = requests.get(\"http://localhost:5000/api/get-observations-by-patient-id/034e9e3b-2def-4559-bb2a-7850888ae060\")\n",
    "print(response.status_code)"
   ]
  },
  {
   "cell_type": "code",
   "execution_count": 2,
   "metadata": {
    "scrolled": false
   },
   "outputs": [
    {
     "name": "stdout",
     "output_type": "stream",
     "text": [
      "[{\"_id\":\"5fb7001207328a2370cd2397\",\"DATE\":\"2012-01-23T17:45:28.000Z\",\"PATIENT\":\"034e9e3b-2def-4559-bb2a-7850888ae060\",\"ENCOUNTER\":\"e88bc3a9-007c-405e-aabc-792a38f4aa2b\",\"DESCRIPTION\":\"Body Height\",\"VALUE\":193.3,\"UNITS\":\"cm\",\"TYPE\":\"numeric\"},{\"_id\":\"5fb7001207328a2370cd2398\",\"DATE\":\"2012-01-23T17:45:28.000Z\",\"PATIENT\":\"034e9e3b-2def-4559-bb2a-7850888ae060\",\"ENCOUNTER\":\"e88bc3a9-007c-405e-aabc-792a38f4aa2b\",\"DESCRIPTION\":\"Pain severity - 0-10 verbal numeric rating [Score] - Reported\",\"VALUE\":2,\"UNITS\":\"{score}\",\"TYPE\":\"numeric\"},{\"_id\":\"5fb7001207328a2370cd2399\",\"DATE\":\"2012-01-23T17:45:28.000Z\",\"PATIENT\":\"034e9e3b-2def-4559-bb2a-7850888ae060\",\"ENCOUNTER\":\"e88bc3a9-007c-405e-aabc-792a38f4aa2b\",\"DESCRIPTION\":\"Body Weight\",\"VALUE\":87.8,\"UNITS\":\"kg\",\"TYPE\":\"numeric\"},{\"_id\":\"5fb7001207328a2370cd239a\",\"DATE\":\"2012-01-23T17:45:28.000Z\",\"PATIENT\":\"034e9e3b-2def-4559-bb2a-7850888ae060\",\"ENCOUNTER\":\"e88bc3a9-007c-405e-aabc-792a38f4aa2b\",\"DESCRIPTION\":\"Body Mass Index\",\"VALUE\":23.5,\"UNITS\":\"kg/m2\",\"TYPE\":\"numeric\"},{\"_id\":\"5fb7001207328a2370cd239b\",\"DATE\":\"2012-01-23T17:45:28.000Z\",\"PATIENT\":\"034e9e3b-2def-4559-bb2a-7850888ae060\",\"ENCOUNTER\":\"e88bc3a9-007c-405e-aabc-792a38f4aa2b\",\"DESCRIPTION\":\"Diastolic Blood Pressure\",\"VALUE\":82,\"UNITS\":\"mm[Hg]\",\"TYPE\":\"numeric\"},{\"_id\":\"5fb7001207328a2370cd239c\",\"DATE\":\"2012-01-23T17:45:28.000Z\",\"PATIENT\":\"034e9e3b-2def-4559-bb2a-7850888ae060\",\"ENCOUNTER\":\"e88bc3a9-007c-405e-aabc-792a38f4aa2b\",\"DESCRIPTION\":\"Systolic Blood Pressure\",\"VALUE\":119,\"UNITS\":\"mm[Hg]\",\"TYPE\":\"numeric\"},{\"_id\":\"5fb7001207328a2370cd239d\",\"DATE\":\"2012-01-23T17:45:28.000Z\",\"PATIENT\":\"034e9e3b-2def-4559-bb2a-7850888ae060\",\"ENCOUNTER\":\"e88bc3a9-007c-405e-aabc-792a38f4aa2b\",\"DESCRIPTION\":\"Heart rate\",\"VALUE\":77,\"UNITS\":\"/min\",\"TYPE\":\"numeric\"},{\"_id\":\"5fb7001207328a2370cd239e\",\"DATE\":\"2012-01-23T17:45:28.000Z\",\"PATIENT\":\"034e9e3b-2def-4559-bb2a-7850888ae060\",\"ENCOUNTER\":\"e88bc3a9-007c-405e-aabc-792a38f4aa2b\",\"DESCRIPTION\":\"Respiratory rate\",\"VALUE\":14,\"UNITS\":\"/min\",\"TYPE\":\"numeric\"},{\"_id\":\"5fb7001207328a2370cd23a6\",\"DATE\":\"2012-01-23T17:45:28.000Z\",\"PATIENT\":\"034e9e3b-2def-4559-bb2a-7850888ae060\",\"ENCOUNTER\":\"e88bc3a9-007c-405e-aabc-792a38f4aa2b\",\"DESCRIPTION\":\"Leukocytes [#/volume] in Blood by Automated count\",\"VALUE\":9.5,\"UNITS\":\"10*3/uL\",\"TYPE\":\"numeric\"},{\"_id\":\"5fb7001207328a2370cd23bd\",\"DATE\":\"2012-01-23T17:45:28.000Z\",\"PATIENT\":\"034e9e3b-2def-4559-bb2a-7850888ae060\",\"ENCOUNTER\":\"e88bc3a9-007c-405e-aabc-792a38f4aa2b\",\"DESCRIPTION\":\"Erythrocytes [#/volume] in Blood by Automated count\",\"VALUE\":4.8,\"UNITS\":\"10*6/uL\",\"TYPE\":\"numeric\"},{\"_id\":\"5fb7001207328a2370cd23be\",\"DATE\":\"2012-01-23T17:45:28.000Z\",\"PATIENT\":\"034e9e3b-2def-4559-bb2a-7850888ae060\",\"ENCOUNTER\":\"e88bc3a9-007c-405e-aabc-792a38f4aa2b\",\"DESCRIPTION\":\"Hemoglobin [Mass/volume] in Blood\",\"VALUE\":15.1,\"UNITS\":\"g/dL\",\"TYPE\":\"numeric\"},{\"_id\":\"5fb7001207328a2370cd23bf\",\"DATE\":\"2012-01-23T17:45:28.000Z\",\"PATIENT\":\"034e9e3b-2def-4559-bb2a-7850888ae060\",\"ENCOUNTER\":\"e88bc3a9-007c-405e-aabc-792a38f4aa2b\",\"DESCRIPTION\":\"Hematocrit [Volume Fraction] of Blood by Automated count\",\"VALUE\":39.9,\"UNITS\":\"%\",\"TYPE\":\"numeric\"},{\"_id\":\"5fb7001207328a2370cd23c0\",\"DATE\":\"2012-01-23T17:45:28.000Z\",\"PATIENT\":\"034e9e3b-2def-4559-bb2a-7850888ae060\",\"ENCOUNTER\":\"e88bc3a9-007c-405e-aabc-792a38f4aa2b\",\"DESCRIPTION\":\"MCV [Entitic volume] by Automated count\",\"VALUE\":86.2,\"UNITS\":\"fL\",\"TYPE\":\"numeric\"},{\"_id\":\"5fb7001207328a2370cd23c1\",\"DATE\":\"2012-01-23T17:45:28.000Z\",\"PATIENT\":\"034e9e3b-2def-4559-bb2a-7850888ae060\",\"ENCOUNTER\":\"e88bc3a9-007c-405e-aabc-792a38f4aa2b\",\"DESCRIPTION\":\"MCH [Entitic mass] by Automated count\",\"VALUE\":31.4,\"UNITS\":\"pg\",\"TYPE\":\"numeric\"},{\"_id\":\"5fb7001207328a2370cd23c3\",\"DATE\":\"2012-01-23T17:45:28.000Z\",\"PATIENT\":\"034e9e3b-2def-4559-bb2a-7850888ae060\",\"ENCOUNTER\":\"e88bc3a9-007c-405e-aabc-792a38f4aa2b\",\"DESCRIPTION\":\"MCHC [Mass/volume] by Automated count\",\"VALUE\":35.1,\"UNITS\":\"g/dL\",\"TYPE\":\"numeric\"},{\"_id\":\"5fb7001207328a2370cd23c4\",\"DATE\":\"2012-01-23T17:45:28.000Z\",\"PATIENT\":\"034e9e3b-2def-4559-bb2a-7850888ae060\",\"ENCOUNTER\":\"e88bc3a9-007c-405e-aabc-792a38f4aa2b\",\"DESCRIPTION\":\"Erythrocyte distribution width [Entitic volume] by Automated count\",\"VALUE\":41.3,\"UNITS\":\"fL\",\"TYPE\":\"numeric\"},{\"_id\":\"5fb7001207328a2370cd23c5\",\"DATE\":\"2012-01-23T17:45:28.000Z\",\"PATIENT\":\"034e9e3b-2def-4559-bb2a-7850888ae060\",\"ENCOUNTER\":\"e88bc3a9-007c-405e-aabc-792a38f4aa2b\",\"DESCRIPTION\":\"Platelets [#/volume] in Blood by Automated count\",\"VALUE\":297.9,\"UNITS\":\"10*3/uL\",\"TYPE\":\"numeric\"},{\"_id\":\"5fb7001207328a2370cd23c6\",\"DATE\":\"2012-01-23T17:45:28.000Z\",\"PATIENT\":\"034e9e3b-2def-4559-bb2a-7850888ae060\",\"ENCOUNTER\":\"e88bc3a9-007c-405e-aabc-792a38f4aa2b\",\"DESCRIPTION\":\"Platelet distribution width [Entitic volume] in Blood by Automated count\",\"VALUE\":157.9,\"UNITS\":\"fL\",\"TYPE\":\"numeric\"},{\"_id\":\"5fb7001207328a2370cd23c7\",\"DATE\":\"2012-01-23T17:45:28.000Z\",\"PATIENT\":\"034e9e3b-2def-4559-bb2a-7850888ae060\",\"ENCOUNTER\":\"e88bc3a9-007c-405e-aabc-792a38f4aa2b\",\"DESCRIPTION\":\"Platelet mean volume [Entitic volume] in Blood by Automated count\",\"VALUE\":9.6,\"UNITS\":\"fL\",\"TYPE\":\"numeric\"},{\"_id\":\"5fb7001207328a2370cd23c8\",\"DATE\":\"2012-01-23T17:45:28.000Z\",\"PATIENT\":\"034e9e3b-2def-4559-bb2a-7850888ae060\",\"ENCOUNTER\":\"e88bc3a9-007c-405e-aabc-792a38f4aa2b\",\"DESCRIPTION\":\"Tobacco smoking status NHIS\",\"UNITS\":\"\",\"TYPE\":\"text\"},{\"_id\":\"5fb7001207328a2370cd23ca\",\"DATE\":\"2015-01-26T17:45:28.000Z\",\"PATIENT\":\"034e9e3b-2def-4559-bb2a-7850888ae060\",\"ENCOUNTER\":\"e3639187-450a-4aa9-9fc9-3ea3cafa672b\",\"DESCRIPTION\":\"Body Height\",\"VALUE\":193.3,\"UNITS\":\"cm\",\"TYPE\":\"numeric\"},{\"_id\":\"5fb7001207328a2370cd23cc\",\"DATE\":\"2015-01-26T17:45:28.000Z\",\"PATIENT\":\"034e9e3b-2def-4559-bb2a-7850888ae060\",\"ENCOUNTER\":\"e3639187-450a-4aa9-9fc9-3ea3cafa672b\",\"DESCRIPTION\":\"Pain severity - 0-10 verbal numeric rating [Score] - Reported\",\"VALUE\":2,\"UNITS\":\"{score}\",\"TYPE\":\"numeric\"},{\"_id\":\"5fb7001207328a2370cd23e8\",\"DATE\":\"2015-01-26T17:45:28.000Z\",\"PATIENT\":\"034e9e3b-2def-4559-bb2a-7850888ae060\",\"ENCOUNTER\":\"e3639187-450a-4aa9-9fc9-3ea3cafa672b\",\"DESCRIPTION\":\"Body Weight\",\"VALUE\":87.8,\"UNITS\":\"kg\",\"TYPE\":\"numeric\"},{\"_id\":\"5fb7001207328a2370cd23eb\",\"DATE\":\"2015-01-26T17:45:28.000Z\",\"PATIENT\":\"034e9e3b-2def-4559-bb2a-7850888ae060\",\"ENCOUNTER\":\"e3639187-450a-4aa9-9fc9-3ea3cafa672b\",\"DESCRIPTION\":\"Body Mass Index\",\"VALUE\":23.5,\"UNITS\":\"kg/m2\",\"TYPE\":\"numeric\"},{\"_id\":\"5fb7001207328a2370cd2404\",\"DATE\":\"2015-01-26T17:45:28.000Z\",\"PATIENT\":\"034e9e3b-2def-4559-bb2a-7850888ae060\",\"ENCOUNTER\":\"e3639187-450a-4aa9-9fc9-3ea3cafa672b\",\"DESCRIPTION\":\"Diastolic Blood Pressure\",\"VALUE\":88,\"UNITS\":\"mm[Hg]\",\"TYPE\":\"numeric\"},{\"_id\":\"5fb7001207328a2370cd2407\",\"DATE\":\"2015-01-26T17:45:28.000Z\",\"PATIENT\":\"034e9e3b-2def-4559-bb2a-7850888ae060\",\"ENCOUNTER\":\"e3639187-450a-4aa9-9fc9-3ea3cafa672b\",\"DESCRIPTION\":\"Systolic Blood Pressure\",\"VALUE\":134,\"UNITS\":\"mm[Hg]\",\"TYPE\":\"numeric\"},{\"_id\":\"5fb7001207328a2370cd240a\",\"DATE\":\"2015-01-26T17:45:28.000Z\",\"PATIENT\":\"034e9e3b-2def-4559-bb2a-7850888ae060\",\"ENCOUNTER\":\"e3639187-450a-4aa9-9fc9-3ea3cafa672b\",\"DESCRIPTION\":\"Heart rate\",\"VALUE\":99,\"UNITS\":\"/min\",\"TYPE\":\"numeric\"},{\"_id\":\"5fb7001207328a2370cd2411\",\"DATE\":\"2015-01-26T17:45:28.000Z\",\"PATIENT\":\"034e9e3b-2def-4559-bb2a-7850888ae060\",\"ENCOUNTER\":\"e3639187-450a-4aa9-9fc9-3ea3cafa672b\",\"DESCRIPTION\":\"Respiratory rate\",\"VALUE\":14,\"UNITS\":\"/min\",\"TYPE\":\"numeric\"},{\"_id\":\"5fb7001207328a2370cd2413\",\"DATE\":\"2015-01-26T17:45:28.000Z\",\"PATIENT\":\"034e9e3b-2def-4559-bb2a-7850888ae060\",\"ENCOUNTER\":\"e3639187-450a-4aa9-9fc9-3ea3cafa672b\",\"DESCRIPTION\":\"Total Cholesterol\",\"VALUE\":170.6,\"UNITS\":\"mg/dL\",\"TYPE\":\"numeric\"},{\"_id\":\"5fb7001207328a2370cd2416\",\"DATE\":\"2015-01-26T17:45:28.000Z\",\"PATIENT\":\"034e9e3b-2def-4559-bb2a-7850888ae060\",\"ENCOUNTER\":\"e3639187-450a-4aa9-9fc9-3ea3cafa672b\",\"DESCRIPTION\":\"Triglycerides\",\"VALUE\":112,\"UNITS\":\"mg/dL\",\"TYPE\":\"numeric\"},{\"_id\":\"5fb7001207328a2370cd241a\",\"DATE\":\"2015-01-26T17:45:28.000Z\",\"PATIENT\":\"034e9e3b-2def-4559-bb2a-7850888ae060\",\"ENCOUNTER\":\"e3639187-450a-4aa9-9fc9-3ea3cafa672b\",\"DESCRIPTION\":\"Low Density Lipoprotein Cholesterol\",\"VALUE\":76.8,\"UNITS\":\"mg/dL\",\"TYPE\":\"numeric\"},{\"_id\":\"5fb7001207328a2370cd241d\",\"DATE\":\"2015-01-26T17:45:28.000Z\",\"PATIENT\":\"034e9e3b-2def-4559-bb2a-7850888ae060\",\"ENCOUNTER\":\"e3639187-450a-4aa9-9fc9-3ea3cafa672b\",\"DESCRIPTION\":\"High Density Lipoprotein Cholesterol\",\"VALUE\":71.4,\"UNITS\":\"mg/dL\",\"TYPE\":\"numeric\"},{\"_id\":\"5fb7001207328a2370cd241f\",\"DATE\":\"2015-01-26T17:45:28.000Z\",\"PATIENT\":\"034e9e3b-2def-4559-bb2a-7850888ae060\",\"ENCOUNTER\":\"e3639187-450a-4aa9-9fc9-3ea3cafa672b\",\"DESCRIPTION\":\"Tobacco smoking status NHIS\",\"UNITS\":\"\",\"TYPE\":\"text\"},{\"_id\":\"5fb7001207328a2370cd2455\",\"DATE\":\"2017-01-09T17:45:28.000Z\",\"PATIENT\":\"034e9e3b-2def-4559-bb2a-7850888ae060\",\"ENCOUNTER\":\"4607e1a1-f2bb-42c8-a2fd-8709331a935d\",\"DESCRIPTION\":\"Body Height\",\"VALUE\":193.3,\"UNITS\":\"cm\",\"TYPE\":\"numeric\"},{\"_id\":\"5fb7001207328a2370cd2458\",\"DATE\":\"2017-01-09T17:45:28.000Z\",\"PATIENT\":\"034e9e3b-2def-4559-bb2a-7850888ae060\",\"ENCOUNTER\":\"4607e1a1-f2bb-42c8-a2fd-8709331a935d\",\"DESCRIPTION\":\"Pain severity - 0-10 verbal numeric rating [Score] - Reported\",\"VALUE\":3,\"UNITS\":\"{score}\",\"TYPE\":\"numeric\"},{\"_id\":\"5fb7001207328a2370cd245a\",\"DATE\":\"2017-01-09T17:45:28.000Z\",\"PATIENT\":\"034e9e3b-2def-4559-bb2a-7850888ae060\",\"ENCOUNTER\":\"4607e1a1-f2bb-42c8-a2fd-8709331a935d\",\"DESCRIPTION\":\"Body Weight\",\"VALUE\":87.8,\"UNITS\":\"kg\",\"TYPE\":\"numeric\"},{\"_id\":\"5fb7001207328a2370cd245c\",\"DATE\":\"2017-01-09T17:45:28.000Z\",\"PATIENT\":\"034e9e3b-2def-4559-bb2a-7850888ae060\",\"ENCOUNTER\":\"4607e1a1-f2bb-42c8-a2fd-8709331a935d\",\"DESCRIPTION\":\"Body Mass Index\",\"VALUE\":23.5,\"UNITS\":\"kg/m2\",\"TYPE\":\"numeric\"},{\"_id\":\"5fb7001207328a2370cd245e\",\"DATE\":\"2017-01-09T17:45:28.000Z\",\"PATIENT\":\"034e9e3b-2def-4559-bb2a-7850888ae060\",\"ENCOUNTER\":\"4607e1a1-f2bb-42c8-a2fd-8709331a935d\",\"DESCRIPTION\":\"Diastolic Blood Pressure\",\"VALUE\":78,\"UNITS\":\"mm[Hg]\",\"TYPE\":\"numeric\"},{\"_id\":\"5fb7001207328a2370cd2460\",\"DATE\":\"2017-01-09T17:45:28.000Z\",\"PATIENT\":\"034e9e3b-2def-4559-bb2a-7850888ae060\",\"ENCOUNTER\":\"4607e1a1-f2bb-42c8-a2fd-8709331a935d\",\"DESCRIPTION\":\"Systolic Blood Pressure\",\"VALUE\":115,\"UNITS\":\"mm[Hg]\",\"TYPE\":\"numeric\"},{\"_id\":\"5fb7001207328a2370cd2462\",\"DATE\":\"2017-01-09T17:45:28.000Z\",\"PATIENT\":\"034e9e3b-2def-4559-bb2a-7850888ae060\",\"ENCOUNTER\":\"4607e1a1-f2bb-42c8-a2fd-8709331a935d\",\"DESCRIPTION\":\"Heart rate\",\"VALUE\":95,\"UNITS\":\"/min\",\"TYPE\":\"numeric\"},{\"_id\":\"5fb7001207328a2370cd2464\",\"DATE\":\"2017-01-09T17:45:28.000Z\",\"PATIENT\":\"034e9e3b-2def-4559-bb2a-7850888ae060\",\"ENCOUNTER\":\"4607e1a1-f2bb-42c8-a2fd-8709331a935d\",\"DESCRIPTION\":\"Respiratory rate\",\"VALUE\":15,\"UNITS\":\"/min\",\"TYPE\":\"numeric\"},{\"_id\":\"5fb7001207328a2370cd2466\",\"DATE\":\"2017-01-09T17:45:28.000Z\",\"PATIENT\":\"034e9e3b-2def-4559-bb2a-7850888ae060\",\"ENCOUNTER\":\"4607e1a1-f2bb-42c8-a2fd-8709331a935d\",\"DESCRIPTION\":\"Tobacco smoking status NHIS\",\"UNITS\":\"\",\"TYPE\":\"text\"},{\"_id\":\"5fb7001207328a2370cd246e\",\"DATE\":\"2018-01-29T17:45:28.000Z\",\"PATIENT\":\"034e9e3b-2def-4559-bb2a-7850888ae060\",\"ENCOUNTER\":\"1b3d7c95-f4d3-4dfb-83de-8773f5ce01f7\",\"DESCRIPTION\":\"Body Height\",\"VALUE\":193.3,\"UNITS\":\"cm\",\"TYPE\":\"numeric\"},{\"_id\":\"5fb7001207328a2370cd2470\",\"DATE\":\"2018-01-29T17:45:28.000Z\",\"PATIENT\":\"034e9e3b-2def-4559-bb2a-7850888ae060\",\"ENCOUNTER\":\"1b3d7c95-f4d3-4dfb-83de-8773f5ce01f7\",\"DESCRIPTION\":\"Pain severity - 0-10 verbal numeric rating [Score] - Reported\",\"VALUE\":1,\"UNITS\":\"{score}\",\"TYPE\":\"numeric\"},{\"_id\":\"5fb7001207328a2370cd2473\",\"DATE\":\"2018-01-29T17:45:28.000Z\",\"PATIENT\":\"034e9e3b-2def-4559-bb2a-7850888ae060\",\"ENCOUNTER\":\"1b3d7c95-f4d3-4dfb-83de-8773f5ce01f7\",\"DESCRIPTION\":\"Body Weight\",\"VALUE\":87.8,\"UNITS\":\"kg\",\"TYPE\":\"numeric\"},{\"_id\":\"5fb7001207328a2370cd2476\",\"DATE\":\"2018-01-29T17:45:28.000Z\",\"PATIENT\":\"034e9e3b-2def-4559-bb2a-7850888ae060\",\"ENCOUNTER\":\"1b3d7c95-f4d3-4dfb-83de-8773f5ce01f7\",\"DESCRIPTION\":\"Body Mass Index\",\"VALUE\":23.5,\"UNITS\":\"kg/m2\",\"TYPE\":\"numeric\"},{\"_id\":\"5fb7001207328a2370cd2479\",\"DATE\":\"2018-01-29T17:45:28.000Z\",\"PATIENT\":\"034e9e3b-2def-4559-bb2a-7850888ae060\",\"ENCOUNTER\":\"1b3d7c95-f4d3-4dfb-83de-8773f5ce01f7\",\"DESCRIPTION\":\"Diastolic Blood Pressure\",\"VALUE\":85,\"UNITS\":\"mm[Hg]\",\"TYPE\":\"numeric\"},{\"_id\":\"5fb7001207328a2370cd247c\",\"DATE\":\"2018-01-29T17:45:28.000Z\",\"PATIENT\":\"034e9e3b-2def-4559-bb2a-7850888ae060\",\"ENCOUNTER\":\"1b3d7c95-f4d3-4dfb-83de-8773f5ce01f7\",\"DESCRIPTION\":\"Systolic Blood Pressure\",\"VALUE\":103,\"UNITS\":\"mm[Hg]\",\"TYPE\":\"numeric\"},{\"_id\":\"5fb7001207328a2370cd247f\",\"DATE\":\"2018-01-29T17:45:28.000Z\",\"PATIENT\":\"034e9e3b-2def-4559-bb2a-7850888ae060\",\"ENCOUNTER\":\"1b3d7c95-f4d3-4dfb-83de-8773f5ce01f7\",\"DESCRIPTION\":\"Heart rate\",\"VALUE\":66,\"UNITS\":\"/min\",\"TYPE\":\"numeric\"},{\"_id\":\"5fb7001207328a2370cd2482\",\"DATE\":\"2018-01-29T17:45:28.000Z\",\"PATIENT\":\"034e9e3b-2def-4559-bb2a-7850888ae060\",\"ENCOUNTER\":\"1b3d7c95-f4d3-4dfb-83de-8773f5ce01f7\",\"DESCRIPTION\":\"Respiratory rate\",\"VALUE\":13,\"UNITS\":\"/min\",\"TYPE\":\"numeric\"},{\"_id\":\"5fb7001207328a2370cd2485\",\"DATE\":\"2018-01-29T17:45:28.000Z\",\"PATIENT\":\"034e9e3b-2def-4559-bb2a-7850888ae060\",\"ENCOUNTER\":\"1b3d7c95-f4d3-4dfb-83de-8773f5ce01f7\",\"DESCRIPTION\":\"Total Cholesterol\",\"VALUE\":165.5,\"UNITS\":\"mg/dL\",\"TYPE\":\"numeric\"},{\"_id\":\"5fb7001207328a2370cd2488\",\"DATE\":\"2018-01-29T17:45:28.000Z\",\"PATIENT\":\"034e9e3b-2def-4559-bb2a-7850888ae060\",\"ENCOUNTER\":\"1b3d7c95-f4d3-4dfb-83de-8773f5ce01f7\",\"DESCRIPTION\":\"Triglycerides\",\"VALUE\":113.3,\"UNITS\":\"mg/dL\",\"TYPE\":\"numeric\"},{\"_id\":\"5fb7001207328a2370cd248b\",\"DATE\":\"2018-01-29T17:45:28.000Z\",\"PATIENT\":\"034e9e3b-2def-4559-bb2a-7850888ae060\",\"ENCOUNTER\":\"1b3d7c95-f4d3-4dfb-83de-8773f5ce01f7\",\"DESCRIPTION\":\"Low Density Lipoprotein Cholesterol\",\"VALUE\":80.7,\"UNITS\":\"mg/dL\",\"TYPE\":\"numeric\"},{\"_id\":\"5fb7001207328a2370cd248e\",\"DATE\":\"2018-01-29T17:45:28.000Z\",\"PATIENT\":\"034e9e3b-2def-4559-bb2a-7850888ae060\",\"ENCOUNTER\":\"1b3d7c95-f4d3-4dfb-83de-8773f5ce01f7\",\"DESCRIPTION\":\"High Density Lipoprotein Cholesterol\",\"VALUE\":62.2,\"UNITS\":\"mg/dL\",\"TYPE\":\"numeric\"},{\"_id\":\"5fb7001207328a2370cd2491\",\"DATE\":\"2018-01-29T17:45:28.000Z\",\"PATIENT\":\"034e9e3b-2def-4559-bb2a-7850888ae060\",\"ENCOUNTER\":\"1b3d7c95-f4d3-4dfb-83de-8773f5ce01f7\",\"DESCRIPTION\":\"Leukocytes [#/volume] in Blood by Automated count\",\"VALUE\":6.3,\"UNITS\":\"10*3/uL\",\"TYPE\":\"numeric\"},{\"_id\":\"5fb7001207328a2370cd2494\",\"DATE\":\"2018-01-29T17:45:28.000Z\",\"PATIENT\":\"034e9e3b-2def-4559-bb2a-7850888ae060\",\"ENCOUNTER\":\"1b3d7c95-f4d3-4dfb-83de-8773f5ce01f7\",\"DESCRIPTION\":\"Erythrocytes [#/volume] in Blood by Automated count\",\"VALUE\":4.6,\"UNITS\":\"10*6/uL\",\"TYPE\":\"numeric\"},{\"_id\":\"5fb7001207328a2370cd2497\",\"DATE\":\"2018-01-29T17:45:28.000Z\",\"PATIENT\":\"034e9e3b-2def-4559-bb2a-7850888ae060\",\"ENCOUNTER\":\"1b3d7c95-f4d3-4dfb-83de-8773f5ce01f7\",\"DESCRIPTION\":\"Hemoglobin [Mass/volume] in Blood\",\"VALUE\":14.5,\"UNITS\":\"g/dL\",\"TYPE\":\"numeric\"},{\"_id\":\"5fb7001207328a2370cd249b\",\"DATE\":\"2018-01-29T17:45:28.000Z\",\"PATIENT\":\"034e9e3b-2def-4559-bb2a-7850888ae060\",\"ENCOUNTER\":\"1b3d7c95-f4d3-4dfb-83de-8773f5ce01f7\",\"DESCRIPTION\":\"Hematocrit [Volume Fraction] of Blood by Automated count\",\"VALUE\":46.3,\"UNITS\":\"%\",\"TYPE\":\"numeric\"},{\"_id\":\"5fb7001207328a2370cd249d\",\"DATE\":\"2018-01-29T17:45:28.000Z\",\"PATIENT\":\"034e9e3b-2def-4559-bb2a-7850888ae060\",\"ENCOUNTER\":\"1b3d7c95-f4d3-4dfb-83de-8773f5ce01f7\",\"DESCRIPTION\":\"MCV [Entitic volume] by Automated count\",\"VALUE\":87.3,\"UNITS\":\"fL\",\"TYPE\":\"numeric\"},{\"_id\":\"5fb7001207328a2370cd249f\",\"DATE\":\"2018-01-29T17:45:28.000Z\",\"PATIENT\":\"034e9e3b-2def-4559-bb2a-7850888ae060\",\"ENCOUNTER\":\"1b3d7c95-f4d3-4dfb-83de-8773f5ce01f7\",\"DESCRIPTION\":\"MCH [Entitic mass] by Automated count\",\"VALUE\":31.4,\"UNITS\":\"pg\",\"TYPE\":\"numeric\"},{\"_id\":\"5fb7001207328a2370cd24a1\",\"DATE\":\"2018-01-29T17:45:28.000Z\",\"PATIENT\":\"034e9e3b-2def-4559-bb2a-7850888ae060\",\"ENCOUNTER\":\"1b3d7c95-f4d3-4dfb-83de-8773f5ce01f7\",\"DESCRIPTION\":\"MCHC [Mass/volume] by Automated count\",\"VALUE\":33.6,\"UNITS\":\"g/dL\",\"TYPE\":\"numeric\"},{\"_id\":\"5fb7001207328a2370cd24a3\",\"DATE\":\"2018-01-29T17:45:28.000Z\",\"PATIENT\":\"034e9e3b-2def-4559-bb2a-7850888ae060\",\"ENCOUNTER\":\"1b3d7c95-f4d3-4dfb-83de-8773f5ce01f7\",\"DESCRIPTION\":\"Erythrocyte distribution width [Entitic volume] by Automated count\",\"VALUE\":40.3,\"UNITS\":\"fL\",\"TYPE\":\"numeric\"},{\"_id\":\"5fb7001207328a2370cd24a5\",\"DATE\":\"2018-01-29T17:45:28.000Z\",\"PATIENT\":\"034e9e3b-2def-4559-bb2a-7850888ae060\",\"ENCOUNTER\":\"1b3d7c95-f4d3-4dfb-83de-8773f5ce01f7\",\"DESCRIPTION\":\"Platelets [#/volume] in Blood by Automated count\",\"VALUE\":343.6,\"UNITS\":\"10*3/uL\",\"TYPE\":\"numeric\"},{\"_id\":\"5fb7001207328a2370cd24a6\",\"DATE\":\"2018-01-29T17:45:28.000Z\",\"PATIENT\":\"034e9e3b-2def-4559-bb2a-7850888ae060\",\"ENCOUNTER\":\"1b3d7c95-f4d3-4dfb-83de-8773f5ce01f7\",\"DESCRIPTION\":\"Platelet distribution width [Entitic volume] in Blood by Automated count\",\"VALUE\":432.5,\"UNITS\":\"fL\",\"TYPE\":\"numeric\"},{\"_id\":\"5fb7001207328a2370cd24a8\",\"DATE\":\"2018-01-29T17:45:28.000Z\",\"PATIENT\":\"034e9e3b-2def-4559-bb2a-7850888ae060\",\"ENCOUNTER\":\"1b3d7c95-f4d3-4dfb-83de-8773f5ce01f7\",\"DESCRIPTION\":\"Platelet mean volume [Entitic volume] in Blood by Automated count\",\"VALUE\":11.5,\"UNITS\":\"fL\",\"TYPE\":\"numeric\"},{\"_id\":\"5fb7001207328a2370cd24a9\",\"DATE\":\"2018-01-29T17:45:28.000Z\",\"PATIENT\":\"034e9e3b-2def-4559-bb2a-7850888ae060\",\"ENCOUNTER\":\"1b3d7c95-f4d3-4dfb-83de-8773f5ce01f7\",\"DESCRIPTION\":\"Tobacco smoking status NHIS\",\"UNITS\":\"\",\"TYPE\":\"text\"},{\"_id\":\"5fb7001207328a2370cd24b4\",\"DATE\":\"2010-11-14T17:45:28.000Z\",\"PATIENT\":\"034e9e3b-2def-4559-bb2a-7850888ae060\",\"ENCOUNTER\":\"\",\"DESCRIPTION\":\"QALY\",\"VALUE\":26,\"UNITS\":\"a\",\"TYPE\":\"numeric\"},{\"_id\":\"5fb7001207328a2370cd24b5\",\"DATE\":\"2011-11-14T17:45:28.000Z\",\"PATIENT\":\"034e9e3b-2def-4559-bb2a-7850888ae060\",\"ENCOUNTER\":\"\",\"DESCRIPTION\":\"QALY\",\"VALUE\":27,\"UNITS\":\"a\",\"TYPE\":\"numeric\"},{\"_id\":\"5fb7001207328a2370cd24b7\",\"DATE\":\"2012-11-14T17:45:28.000Z\",\"PATIENT\":\"034e9e3b-2def-4559-bb2a-7850888ae060\",\"ENCOUNTER\":\"\",\"DESCRIPTION\":\"QALY\",\"VALUE\":28,\"UNITS\":\"a\",\"TYPE\":\"numeric\"},{\"_id\":\"5fb7001207328a2370cd24b9\",\"DATE\":\"2013-11-14T17:45:28.000Z\",\"PATIENT\":\"034e9e3b-2def-4559-bb2a-7850888ae060\",\"ENCOUNTER\":\"\",\"DESCRIPTION\":\"QALY\",\"VALUE\":29,\"UNITS\":\"a\",\"TYPE\":\"numeric\"},{\"_id\":\"5fb7001207328a2370cd24bb\",\"DATE\":\"2014-11-14T17:45:28.000Z\",\"PATIENT\":\"034e9e3b-2def-4559-bb2a-7850888ae060\",\"ENCOUNTER\":\"\",\"DESCRIPTION\":\"QALY\",\"VALUE\":30,\"UNITS\":\"a\",\"TYPE\":\"numeric\"},{\"_id\":\"5fb7001207328a2370cd24bd\",\"DATE\":\"2015-11-14T17:45:28.000Z\",\"PATIENT\":\"034e9e3b-2def-4559-bb2a-7850888ae060\",\"ENCOUNTER\":\"\",\"DESCRIPTION\":\"QALY\",\"VALUE\":31,\"UNITS\":\"a\",\"TYPE\":\"numeric\"},{\"_id\":\"5fb7001207328a2370cd24c1\",\"DATE\":\"2016-11-14T17:45:28.000Z\",\"PATIENT\":\"034e9e3b-2def-4559-bb2a-7850888ae060\",\"ENCOUNTER\":\"\",\"DESCRIPTION\":\"QALY\",\"VALUE\":32,\"UNITS\":\"a\",\"TYPE\":\"numeric\"},{\"_id\":\"5fb7001207328a2370cd24c5\",\"DATE\":\"2017-11-14T17:45:28.000Z\",\"PATIENT\":\"034e9e3b-2def-4559-bb2a-7850888ae060\",\"ENCOUNTER\":\"\",\"DESCRIPTION\":\"QALY\",\"VALUE\":33,\"UNITS\":\"a\",\"TYPE\":\"numeric\"},{\"_id\":\"5fb7001207328a2370cd24c8\",\"DATE\":\"2018-11-14T17:45:28.000Z\",\"PATIENT\":\"034e9e3b-2def-4559-bb2a-7850888ae060\",\"ENCOUNTER\":\"\",\"DESCRIPTION\":\"QALY\",\"VALUE\":34,\"UNITS\":\"a\",\"TYPE\":\"numeric\"},{\"_id\":\"5fb7001207328a2370cd24cc\",\"DATE\":\"2019-11-14T17:45:28.000Z\",\"PATIENT\":\"034e9e3b-2def-4559-bb2a-7850888ae060\",\"ENCOUNTER\":\"\",\"DESCRIPTION\":\"QALY\",\"VALUE\":35,\"UNITS\":\"a\",\"TYPE\":\"numeric\"},{\"_id\":\"5fb7001207328a2370cd24da\",\"DATE\":\"2010-11-14T17:45:28.000Z\",\"PATIENT\":\"034e9e3b-2def-4559-bb2a-7850888ae060\",\"ENCOUNTER\":\"\",\"DESCRIPTION\":\"DALY\",\"VALUE\":0,\"UNITS\":\"a\",\"TYPE\":\"numeric\"},{\"_id\":\"5fb7001207328a2370cd24dc\",\"DATE\":\"2011-11-14T17:45:28.000Z\",\"PATIENT\":\"034e9e3b-2def-4559-bb2a-7850888ae060\",\"ENCOUNTER\":\"\",\"DESCRIPTION\":\"DALY\",\"VALUE\":0,\"UNITS\":\"a\",\"TYPE\":\"numeric\"},{\"_id\":\"5fb7001207328a2370cd24df\",\"DATE\":\"2012-11-14T17:45:28.000Z\",\"PATIENT\":\"034e9e3b-2def-4559-bb2a-7850888ae060\",\"ENCOUNTER\":\"\",\"DESCRIPTION\":\"DALY\",\"VALUE\":0,\"UNITS\":\"a\",\"TYPE\":\"numeric\"},{\"_id\":\"5fb7001207328a2370cd24e2\",\"DATE\":\"2013-11-14T17:45:28.000Z\",\"PATIENT\":\"034e9e3b-2def-4559-bb2a-7850888ae060\",\"ENCOUNTER\":\"\",\"DESCRIPTION\":\"DALY\",\"VALUE\":0,\"UNITS\":\"a\",\"TYPE\":\"numeric\"},{\"_id\":\"5fb7001207328a2370cd24e6\",\"DATE\":\"2014-11-14T17:45:28.000Z\",\"PATIENT\":\"034e9e3b-2def-4559-bb2a-7850888ae060\",\"ENCOUNTER\":\"\",\"DESCRIPTION\":\"DALY\",\"VALUE\":0,\"UNITS\":\"a\",\"TYPE\":\"numeric\"},{\"_id\":\"5fb7001207328a2370cd24e8\",\"DATE\":\"2015-11-14T17:45:28.000Z\",\"PATIENT\":\"034e9e3b-2def-4559-bb2a-7850888ae060\",\"ENCOUNTER\":\"\",\"DESCRIPTION\":\"DALY\",\"VALUE\":0,\"UNITS\":\"a\",\"TYPE\":\"numeric\"},{\"_id\":\"5fb7001207328a2370cd24eb\",\"DATE\":\"2016-11-14T17:45:28.000Z\",\"PATIENT\":\"034e9e3b-2def-4559-bb2a-7850888ae060\",\"ENCOUNTER\":\"\",\"DESCRIPTION\":\"DALY\",\"VALUE\":0,\"UNITS\":\"a\",\"TYPE\":\"numeric\"},{\"_id\":\"5fb7001207328a2370cd24ee\",\"DATE\":\"2017-11-14T17:45:28.000Z\",\"PATIENT\":\"034e9e3b-2def-4559-bb2a-7850888ae060\",\"ENCOUNTER\":\"\",\"DESCRIPTION\":\"DALY\",\"VALUE\":0,\"UNITS\":\"a\",\"TYPE\":\"numeric\"},{\"_id\":\"5fb7001207328a2370cd24f0\",\"DATE\":\"2018-11-14T17:45:28.000Z\",\"PATIENT\":\"034e9e3b-2def-4559-bb2a-7850888ae060\",\"ENCOUNTER\":\"\",\"DESCRIPTION\":\"DALY\",\"VALUE\":0,\"UNITS\":\"a\",\"TYPE\":\"numeric\"},{\"_id\":\"5fb7001207328a2370cd24f3\",\"DATE\":\"2019-11-14T17:45:28.000Z\",\"PATIENT\":\"034e9e3b-2def-4559-bb2a-7850888ae060\",\"ENCOUNTER\":\"\",\"DESCRIPTION\":\"DALY\",\"VALUE\":0,\"UNITS\":\"a\",\"TYPE\":\"numeric\"},{\"_id\":\"5fb7001207328a2370cd2506\",\"DATE\":\"2010-11-14T17:45:28.000Z\",\"PATIENT\":\"034e9e3b-2def-4559-bb2a-7850888ae060\",\"ENCOUNTER\":\"\",\"DESCRIPTION\":\"QOLS\",\"VALUE\":1,\"UNITS\":\"{score}\",\"TYPE\":\"numeric\"},{\"_id\":\"5fb7001207328a2370cd250a\",\"DATE\":\"2011-11-14T17:45:28.000Z\",\"PATIENT\":\"034e9e3b-2def-4559-bb2a-7850888ae060\",\"ENCOUNTER\":\"\",\"DESCRIPTION\":\"QOLS\",\"VALUE\":1,\"UNITS\":\"{score}\",\"TYPE\":\"numeric\"},{\"_id\":\"5fb7001207328a2370cd250c\",\"DATE\":\"2012-11-14T17:45:28.000Z\",\"PATIENT\":\"034e9e3b-2def-4559-bb2a-7850888ae060\",\"ENCOUNTER\":\"\",\"DESCRIPTION\":\"QOLS\",\"VALUE\":1,\"UNITS\":\"{score}\",\"TYPE\":\"numeric\"},{\"_id\":\"5fb7001207328a2370cd250d\",\"DATE\":\"2013-11-14T17:45:28.000Z\",\"PATIENT\":\"034e9e3b-2def-4559-bb2a-7850888ae060\",\"ENCOUNTER\":\"\",\"DESCRIPTION\":\"QOLS\",\"VALUE\":1,\"UNITS\":\"{score}\",\"TYPE\":\"numeric\"},{\"_id\":\"5fb7001207328a2370cd250e\",\"DATE\":\"2014-11-14T17:45:28.000Z\",\"PATIENT\":\"034e9e3b-2def-4559-bb2a-7850888ae060\",\"ENCOUNTER\":\"\",\"DESCRIPTION\":\"QOLS\",\"VALUE\":1,\"UNITS\":\"{score}\",\"TYPE\":\"numeric\"},{\"_id\":\"5fb7001207328a2370cd250f\",\"DATE\":\"2015-11-14T17:45:28.000Z\",\"PATIENT\":\"034e9e3b-2def-4559-bb2a-7850888ae060\",\"ENCOUNTER\":\"\",\"DESCRIPTION\":\"QOLS\",\"VALUE\":1,\"UNITS\":\"{score}\",\"TYPE\":\"numeric\"},{\"_id\":\"5fb7001207328a2370cd2511\",\"DATE\":\"2016-11-14T17:45:28.000Z\",\"PATIENT\":\"034e9e3b-2def-4559-bb2a-7850888ae060\",\"ENCOUNTER\":\"\",\"DESCRIPTION\":\"QOLS\",\"VALUE\":1,\"UNITS\":\"{score}\",\"TYPE\":\"numeric\"},{\"_id\":\"5fb7001207328a2370cd2515\",\"DATE\":\"2017-11-14T17:45:28.000Z\",\"PATIENT\":\"034e9e3b-2def-4559-bb2a-7850888ae060\",\"ENCOUNTER\":\"\",\"DESCRIPTION\":\"QOLS\",\"VALUE\":1,\"UNITS\":\"{score}\",\"TYPE\":\"numeric\"},{\"_id\":\"5fb7001207328a2370cd2519\",\"DATE\":\"2018-11-14T17:45:28.000Z\",\"PATIENT\":\"034e9e3b-2def-4559-bb2a-7850888ae060\",\"ENCOUNTER\":\"\",\"DESCRIPTION\":\"QOLS\",\"VALUE\":1,\"UNITS\":\"{score}\",\"TYPE\":\"numeric\"},{\"_id\":\"5fb7001207328a2370cd251c\",\"DATE\":\"2019-11-14T17:45:28.000Z\",\"PATIENT\":\"034e9e3b-2def-4559-bb2a-7850888ae060\",\"ENCOUNTER\":\"\",\"DESCRIPTION\":\"QOLS\",\"VALUE\":1,\"UNITS\":\"{score}\",\"TYPE\":\"numeric\"}]\n"
     ]
    }
   ],
   "source": [
    "print(response.text)"
   ]
  },
  {
   "cell_type": "code",
   "execution_count": 8,
   "metadata": {
    "scrolled": false
   },
   "outputs": [
    {
     "name": "stdout",
     "output_type": "stream",
     "text": [
      "Body Height -\n",
      "Pain severity - 0-10 verbal numeric rating [Score] - Reported -\n",
      "Body Weight -\n",
      "Body Mass Index -\n",
      "Diastolic Blood Pressure -\n",
      "Systolic Blood Pressure -\n",
      "Heart rate -\n",
      "Respiratory rate -\n",
      "Leukocytes [#/volume] in Blood by Automated count -\n",
      "Erythrocytes [#/volume] in Blood by Automated count -\n",
      "Hemoglobin [Mass/volume] in Blood -\n",
      "Hematocrit [Volume Fraction] of Blood by Automated count -\n",
      "MCV [Entitic volume] by Automated count -\n",
      "MCH [Entitic mass] by Automated count -\n",
      "MCHC [Mass/volume] by Automated count -\n",
      "Erythrocyte distribution width [Entitic volume] by Automated count -\n",
      "Platelets [#/volume] in Blood by Automated count -\n",
      "Platelet distribution width [Entitic volume] in Blood by Automated count -\n",
      "Platelet mean volume [Entitic volume] in Blood by Automated count -\n",
      "Tobacco smoking status NHIS -\n",
      "Body Height -\n",
      "Pain severity - 0-10 verbal numeric rating [Score] - Reported -\n",
      "Body Weight -\n",
      "Body Mass Index -\n",
      "Diastolic Blood Pressure -\n",
      "Systolic Blood Pressure -\n",
      "Heart rate -\n",
      "Respiratory rate -\n",
      "Total Cholesterol -\n",
      "Triglycerides -\n",
      "Low Density Lipoprotein Cholesterol -\n",
      "High Density Lipoprotein Cholesterol -\n",
      "Tobacco smoking status NHIS -\n",
      "Body Height -\n",
      "Pain severity - 0-10 verbal numeric rating [Score] - Reported -\n",
      "Body Weight -\n",
      "Body Mass Index -\n",
      "Diastolic Blood Pressure -\n",
      "Systolic Blood Pressure -\n",
      "Heart rate -\n",
      "Respiratory rate -\n",
      "Tobacco smoking status NHIS -\n",
      "Body Height -\n",
      "Pain severity - 0-10 verbal numeric rating [Score] - Reported -\n",
      "Body Weight -\n",
      "Body Mass Index -\n",
      "Diastolic Blood Pressure -\n",
      "Systolic Blood Pressure -\n",
      "Heart rate -\n",
      "Respiratory rate -\n",
      "Total Cholesterol -\n",
      "Triglycerides -\n",
      "Low Density Lipoprotein Cholesterol -\n",
      "High Density Lipoprotein Cholesterol -\n",
      "Leukocytes [#/volume] in Blood by Automated count -\n",
      "Erythrocytes [#/volume] in Blood by Automated count -\n",
      "Hemoglobin [Mass/volume] in Blood -\n",
      "Hematocrit [Volume Fraction] of Blood by Automated count -\n",
      "MCV [Entitic volume] by Automated count -\n",
      "MCH [Entitic mass] by Automated count -\n",
      "MCHC [Mass/volume] by Automated count -\n",
      "Erythrocyte distribution width [Entitic volume] by Automated count -\n",
      "Platelets [#/volume] in Blood by Automated count -\n",
      "Platelet distribution width [Entitic volume] in Blood by Automated count -\n",
      "Platelet mean volume [Entitic volume] in Blood by Automated count -\n",
      "Tobacco smoking status NHIS -\n",
      "QALY -\n",
      "QALY -\n",
      "QALY -\n",
      "QALY -\n",
      "QALY -\n",
      "QALY -\n",
      "QALY -\n",
      "QALY -\n",
      "QALY -\n",
      "QALY -\n",
      "DALY -\n",
      "DALY -\n",
      "DALY -\n",
      "DALY -\n",
      "DALY -\n",
      "DALY -\n",
      "DALY -\n",
      "DALY -\n",
      "DALY -\n",
      "DALY -\n",
      "QOLS -\n",
      "QOLS -\n",
      "QOLS -\n",
      "QOLS -\n",
      "QOLS -\n",
      "QOLS -\n",
      "QOLS -\n",
      "QOLS -\n",
      "QOLS -\n",
      "QOLS -\n"
     ]
    }
   ],
   "source": [
    "data = json.loads(response.text)\n",
    "for i in data:\n",
    "    print(i[\"DESCRIPTION\"],'-')"
   ]
  },
  {
   "cell_type": "code",
   "execution_count": 17,
   "metadata": {
    "scrolled": false
   },
   "outputs": [
    {
     "name": "stdout",
     "output_type": "stream",
     "text": [
      "193.3\n",
      "2\n",
      "87.8\n",
      "23.5\n",
      "82\n",
      "119\n",
      "77\n",
      "14\n",
      "9.5\n",
      "4.8\n",
      "15.1\n",
      "39.9\n",
      "86.2\n",
      "31.4\n",
      "35.1\n",
      "41.3\n",
      "297.9\n",
      "157.9\n",
      "9.6\n",
      "193.3\n",
      "2\n",
      "87.8\n",
      "23.5\n",
      "88\n",
      "134\n",
      "99\n",
      "14\n",
      "170.6\n",
      "112\n",
      "76.8\n",
      "71.4\n",
      "193.3\n",
      "3\n",
      "87.8\n",
      "23.5\n",
      "78\n",
      "115\n",
      "95\n",
      "15\n",
      "193.3\n",
      "1\n",
      "87.8\n",
      "23.5\n",
      "85\n",
      "103\n",
      "66\n",
      "13\n",
      "165.5\n",
      "113.3\n",
      "80.7\n",
      "62.2\n",
      "6.3\n",
      "4.6\n",
      "14.5\n",
      "46.3\n",
      "87.3\n",
      "31.4\n",
      "33.6\n",
      "40.3\n",
      "343.6\n",
      "432.5\n",
      "11.5\n",
      "26\n",
      "27\n",
      "28\n",
      "29\n",
      "30\n",
      "31\n",
      "32\n",
      "33\n",
      "34\n",
      "35\n",
      "0\n",
      "0\n",
      "0\n",
      "0\n",
      "0\n",
      "0\n",
      "0\n",
      "0\n",
      "0\n",
      "0\n",
      "1\n",
      "1\n",
      "1\n",
      "1\n",
      "1\n",
      "1\n",
      "1\n",
      "1\n",
      "1\n",
      "1\n"
     ]
    }
   ],
   "source": [
    "data = json.loads(response.text)\n",
    "counter = 0\n",
    "for i in data:\n",
    "    #counter += 1\n",
    "    #print(counter)\n",
    "    if \"VALUE\" in i :\n",
    "        print(i[\"VALUE\"])"
   ]
  },
  {
   "cell_type": "code",
   "execution_count": null,
   "metadata": {},
   "outputs": [],
   "source": []
  }
 ],
 "metadata": {
  "kernelspec": {
   "display_name": "Python 3",
   "language": "python",
   "name": "python3"
  },
  "language_info": {
   "codemirror_mode": {
    "name": "ipython",
    "version": 3
   },
   "file_extension": ".py",
   "mimetype": "text/x-python",
   "name": "python",
   "nbconvert_exporter": "python",
   "pygments_lexer": "ipython3",
   "version": "3.7.1"
  }
 },
 "nbformat": 4,
 "nbformat_minor": 2
}
