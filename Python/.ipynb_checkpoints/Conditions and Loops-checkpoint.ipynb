{
 "cells": [
  {
   "cell_type": "markdown",
   "metadata": {},
   "source": [
    "Q>\n",
    "Check number\n",
    "\n",
    "Given an integer n, find if n is positive, negative or 0.\n",
    "If n is positive, print \"Positive\"\n",
    "If n is negative, print \"Negative\"\n",
    "And if n is equal to 0, print \"Zero\".\n",
    "\n",
    "Input Format :\n",
    "Integer n\n",
    "\n",
    "Output Format :\n",
    "\"Positive\" or \"Negative\" or \"Zero\" (without double quotes)\n",
    "\n",
    "Constraints :\n",
    "1 <= n <= 100\n",
    "\n",
    "Sample Input 1 :\n",
    "\n",
    "10\n",
    "\n",
    "Sample Output 1 :\n",
    "\n",
    "Positive\n"
   ]
  },
  {
   "cell_type": "code",
   "execution_count": null,
   "metadata": {},
   "outputs": [],
   "source": [
    "# Read input as sepcified in the question\n",
    "# Print output as specified in the question\n",
    "n=int(input())\n",
    "if(n>=0):\n",
    "    if n==0:\n",
    "        print(\"Zero\")\n",
    "    else:\n",
    "        print(\"Positive\")\n",
    "else:\n",
    "    print(\"Negative\")"
   ]
  },
  {
   "cell_type": "markdown",
   "metadata": {},
   "source": [
    "Q>\n",
    "Sum of n numbers\n",
    "\n",
    "Given an integer n, find and print the sum of numbers from 1 to n.\n",
    "Note : Use while loop only.\n",
    "\n",
    "Input Format :\n",
    "\n",
    "Integer n\n",
    "\n",
    "Output Format :\n",
    "\n",
    "Sum\n",
    "\n",
    "Constraints :\n",
    "1 <= n <= 100\n",
    "\n",
    "Sample Input :\n",
    "\n",
    "10\n",
    "\n",
    "Sample Output :\n",
    "\n",
    "55"
   ]
  },
  {
   "cell_type": "code",
   "execution_count": null,
   "metadata": {},
   "outputs": [],
   "source": [
    "# Read input as sepcified in the question\n",
    "# Print output as specified in the question\n",
    "n=int(input())\n",
    "count=1\n",
    "sum=0\n",
    "while count<=n:\n",
    "    sum=sum+count\n",
    "    count=count+1\n",
    "print(sum)\n",
    "    "
   ]
  },
  {
   "cell_type": "markdown",
   "metadata": {},
   "source": [
    "Q>\n",
    "Sum of Even Numbers\n",
    "\n",
    "Given a number N, print sum of all even numbers from 1 to N.\n",
    "\n",
    "Input Format :\n",
    "Integer N\n",
    "\n",
    "Output Format :\n",
    "Required Sum \n",
    "\n",
    "Sample Input 1 :\n",
    " \n",
    " 6\n",
    "\n",
    "Sample Output 1 :\n",
    "\n",
    "12"
   ]
  },
  {
   "cell_type": "code",
   "execution_count": null,
   "metadata": {},
   "outputs": [],
   "source": [
    "## Read input as specified in the question.\n",
    "## Print output as specified in the question.\n",
    "n=int(input())\n",
    "count=1\n",
    "sum=0\n",
    "while count<=n:\n",
    "    if count%2==0:\n",
    "        sum=sum+count\n",
    "    count=count+1\n",
    "print(sum)"
   ]
  },
  {
   "cell_type": "markdown",
   "metadata": {},
   "source": [
    "Q>\n",
    "Fahrenheit to Celsius\n",
    "\n",
    "Given three values - Start Fahrenheit Value (S), End Fahrenheit value (E) and Step Size (W), you need to convert all Fahrenheit values from Start to End at the gap of W, into their corresponding Celsius values and print the table.\n",
    "\n",
    "Input Format :\n",
    "\n",
    "3 integers - S, E and W respectively \n",
    "\n",
    "Output Format :\n",
    "\n",
    "    Fahrenheit to Celsius conversion table. One line for every Fahrenheit and corresponding Celsius value. On Fahrenheit value and its corresponding Celsius value should be separate by tab (\"\\t\")\n",
    "\n",
    "Sample Input :\n",
    "\n",
    "    0 \n",
    "\n",
    "    100 \n",
    "\n",
    "    20\n",
    "\n",
    "Sample Output :\n",
    "\n",
    "    0   -17\n",
    "\n",
    "    20  -6\n",
    "\n",
    "    40  4\n",
    "\n",
    "    60  15\n",
    "\n",
    "    80  26\n",
    "\n",
    "    100 37"
   ]
  },
  {
   "cell_type": "code",
   "execution_count": null,
   "metadata": {},
   "outputs": [],
   "source": [
    "# Read input as sepcified in the question\n",
    "# Print output as specified in the question\n",
    "\n",
    "## Note : For printing multiple values in one line, put them inside print separated by space.\n",
    "## You can follow this syntax for printing values of two variables val1 and val2 separaetd by space -\n",
    "##      print(val1, \" \", val2)\n",
    "\n",
    "val1=int(input())\n",
    "val2=int(input())\n",
    "diff=int(input())\n",
    "while val1<=val2:\n",
    "    Celsius=int((val1-32)*5/9)\n",
    "    print(val1,\" \",Celsius)\n",
    "    val1=val1+diff"
   ]
  },
  {
   "cell_type": "markdown",
   "metadata": {},
   "source": [
    "Calculator\n",
    "\n",
    "Write a program that works as a simple calculator. It reads an integer for choice.\n",
    "    1. If the choice is 1, 2 integers are taken for input and their sum is printed.\n",
    "    2. If the choice is 2, 2 integers are taken for input and their difference is printed.\n",
    "    3. If  the choice is 3, 2 integers are taken for input and their product is printed.\n",
    "    4. If  the choice is 4, 2 integers are taken for input and their quotient is printed.\n",
    "    5. If  the choice is 5, 2 integers are taken for input and their remainder is printed.\n",
    "    6. If the choice is 6, the program exits, \n",
    "\n",
    "For any other choice, print \"Invalid Operation\" and ask for choice again.\n",
    "Note: Each answer in next line.\n",
    "\n",
    "Input format:\n",
    "    Take integers as input, in accordance to the description of the question. \n",
    "\n",
    "Constraints:\n",
    "\n",
    "Time Limit: 1 second\n",
    "\n",
    "Output format:\n",
    "\n",
    "The output lines must be as prescribed in the description of the question.\n",
    "\n",
    "Sample Input:\n",
    "    3\n",
    "    \n",
    "    1\n",
    "    \n",
    "    2\n",
    "    \n",
    "    4\n",
    "    \n",
    "    4\n",
    "    \n",
    "    2\n",
    "    \n",
    "    1\n",
    "    \n",
    "    3\n",
    "    \n",
    "    2\n",
    "    \n",
    "    7\n",
    "    \n",
    "    6\n",
    "Sample Output:\n",
    "    \n",
    "    2\n",
    "    \n",
    "    2\n",
    "    \n",
    "    5\n",
    "\n",
    "Invalid Operation"
   ]
  },
  {
   "cell_type": "code",
   "execution_count": 7,
   "metadata": {},
   "outputs": [
    {
     "name": "stdout",
     "output_type": "stream",
     "text": [
      "1\n",
      "2\n",
      "4\n",
      "6\n",
      "4\n",
      "2\n",
      "1\n",
      "2\n",
      "3\n",
      "2\n",
      "7\n",
      "14\n",
      "6\n"
     ]
    }
   ],
   "source": [
    "x = int(input())\n",
    "while x !=6:\n",
    "    \n",
    "    if x <= 5 and x >=1:\n",
    "        a = int(input())\n",
    "        b = int(input())\n",
    "    if x == 1:\n",
    "        print(a + b)\n",
    "        \n",
    "    if x == 2:\n",
    "        print(a - b)\n",
    "        \n",
    "    if x == 3:\n",
    "        print(a * b)\n",
    "        \n",
    "    if x == 4:\n",
    "        print(a // b)\n",
    "        \n",
    "    if x == 5:\n",
    "        print(a % b)\n",
    "    elif x > 6 or x < 1:\n",
    "        print(\"Invalid Operation\")\n",
    "    \n",
    "    x = int(input())"
   ]
  },
  {
   "cell_type": "markdown",
   "metadata": {},
   "source": [
    "Q>\n",
    "Reverse of a number\n",
    "\n",
    "Write a program to generate the reverse of a given number N. Print the corresponding reverse number.\n",
    "\n",
    "Input format :\n",
    "Integer N\n",
    "\n",
    "Constraints:\n",
    "Time Limit: 1 second\n",
    "\n",
    "    Output format :\n",
    "\n",
    "    \n",
    "    Corresponding reverse number\n",
    "\n",
    "Constraints:\n",
    "\n",
    "    N is always greater than or equal to 0\n",
    "\n",
    "\n",
    "Sample Input 1 :\n",
    "\n",
    "    1234\n",
    "Sample Output 1 :\n",
    "\n",
    "    4321\n",
    "Sample Input 2 :\n",
    "\n",
    "    1980\n",
    "Sample Output 2 :\n",
    "\n",
    "    891"
   ]
  },
  {
   "cell_type": "code",
   "execution_count": 10,
   "metadata": {},
   "outputs": [
    {
     "name": "stdout",
     "output_type": "stream",
     "text": [
      "1234\n",
      "4321\n"
     ]
    }
   ],
   "source": [
    "\n",
    "def reverse(n):\n",
    "    sum=0\n",
    "    while n>0:\n",
    "        Rem=n%10\n",
    "        sum=sum*10+Rem\n",
    "        n=n//10\n",
    "    return sum\n",
    "#Implement Your Code Here\n",
    "\t\n",
    "\n",
    "n=int(input())\n",
    "result = reverse(n)\n",
    "print(result)"
   ]
  },
  {
   "cell_type": "markdown",
   "metadata": {},
   "source": [
    "Q>\n",
    "Palindrome number\n",
    "\n",
    "Write a program to determine if given number is palindrome or not. Print true if it is palindrome, false otherwise.\n",
    "Palindrome are the numbers for which reverse is exactly same as the original one. For eg. 121\n",
    "\n",
    "Sample Input 1 :\n",
    "    121\n",
    "\n",
    "Sample Output 1 :\n",
    "    true\n",
    "\n",
    "Sample Input 2 :\n",
    "    1032\n",
    "\n",
    "Sample Output 2 :\n",
    "false"
   ]
  },
  {
   "cell_type": "code",
   "execution_count": 11,
   "metadata": {},
   "outputs": [
    {
     "name": "stdout",
     "output_type": "stream",
     "text": [
      "121\n",
      "true\n"
     ]
    }
   ],
   "source": [
    "n=int(input())\n",
    "temp=n\n",
    "rev=0\n",
    "while(n>0):\n",
    "    dig=n%10\n",
    "    rev=rev*10+dig\n",
    "    n=n//10\n",
    "if(temp==rev):\n",
    "    print(\"true\")\n",
    "else:\n",
    "    print(\"false\")"
   ]
  },
  {
   "cell_type": "markdown",
   "metadata": {},
   "source": [
    "q>\n",
    "Sum of even & odd\n",
    "\n",
    "Write a program to input an integer N and print the sum of all its even digits and sum of all its odd digits separately.\n",
    "Digits means numbers not the places. That is, if the given integer is \"13245\", even digits are 2 & 4 and odd digits are 1, 3 & 5.\n",
    "\n",
    "Input format :\n",
    " Integer N\n",
    "Output format :\n",
    "\n",
    "Sum_of_Even_Digits Sum_of_Odd_Digits\n",
    "(Print first even sum and then odd sum separated by space)\n",
    "Sample Input :\n",
    "\n",
    "    1234\n",
    "\n",
    "Sample Output :\n",
    "\n",
    "    6 4"
   ]
  },
  {
   "cell_type": "code",
   "execution_count": 12,
   "metadata": {},
   "outputs": [
    {
     "name": "stdout",
     "output_type": "stream",
     "text": [
      "1234\n",
      "6   4\n"
     ]
    }
   ],
   "source": [
    "## Note : For printing multiple values in one line, put them inside print separated by space.\n",
    "## You can follow this syntax for printing values of two variables val1 and val2 separaetd by space -\n",
    "## print(val1, \" \", val2)\n",
    "num=int(input())\n",
    "sum_even=0\n",
    "sum_odd=0\n",
    "while(num>0):\n",
    "    rem=num%10\n",
    "    if(rem%2==0):\n",
    "        sum_even=sum_even+rem\n",
    "    else:\n",
    "        sum_odd=sum_odd+rem\n",
    "    num=num//10\n",
    "print(sum_even,\" \",sum_odd)\n"
   ]
  },
  {
   "cell_type": "markdown",
   "metadata": {},
   "source": [
    "q>\n",
    "Nth Fibonacci number\n",
    "\n",
    "Nth term of fibonacci series F(n) is calculated using following formula -\n",
    "    F(n) = F(n-1) + F(n-2), \n",
    "Provided N you have to find out the Nth Fibonacci Number. Also F(1) = F(2) = 1.\n",
    "\n",
    "Input Format :\n",
    "\n",
    "    Integer n\n",
    "\n",
    "Constraints:\n",
    "\n",
    "    Time Limit: 1 second\n",
    "\n",
    "Output Format :\n",
    "\n",
    "        Nth Fibonacci term i.e. F(n)\n",
    "\n",
    "Sample Input :\n",
    "\n",
    "    4\n",
    "\n",
    "Sample Output :\n",
    "\n",
    "    3 "
   ]
  },
  {
   "cell_type": "code",
   "execution_count": 14,
   "metadata": {},
   "outputs": [
    {
     "name": "stdout",
     "output_type": "stream",
     "text": [
      "4\n",
      "3\n"
     ]
    }
   ],
   "source": [
    "## Read input as specified in the question.\n",
    "## Print output as specified in the question.\n",
    "def fib(n):\n",
    "    if(n==0):\n",
    "        return 0\n",
    "    elif(n==1):\n",
    "        return 1\n",
    "    else:\n",
    "        return fib(n-1)+fib(n-2)\n",
    "n=int(input())\n",
    "print(fib(n))"
   ]
  },
  {
   "cell_type": "code",
   "execution_count": null,
   "metadata": {},
   "outputs": [],
   "source": []
  }
 ],
 "metadata": {
  "kernelspec": {
   "display_name": "Python 3",
   "language": "python",
   "name": "python3"
  },
  "language_info": {
   "codemirror_mode": {
    "name": "ipython",
    "version": 3
   },
   "file_extension": ".py",
   "mimetype": "text/x-python",
   "name": "python",
   "nbconvert_exporter": "python",
   "pygments_lexer": "ipython3",
   "version": "3.7.1"
  }
 },
 "nbformat": 4,
 "nbformat_minor": 2
}
