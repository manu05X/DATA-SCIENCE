{
 "cells": [
  {
   "cell_type": "markdown",
   "metadata": {},
   "source": [
    "Q>\n",
    "Find X raised to power N\n",
    "Send Feedback\n",
    "You are given two integers: X and N. You have to calculate X raised to power N and print it.\n",
    "Input format:\n",
    "The first line of input contains an integer X (1 <= X <= 100)\n",
    "The second line of input contains an integer N (1 <= N <= 10) \n",
    "Constraints:\n",
    "Time Limit: 1 second\n",
    "Output format:\n",
    "The first and only line of output contains the result.  \n",
    "\n",
    "Sample Input:\n",
    "\n",
    "10\n",
    "\n",
    "4\n",
    "\n",
    "Sample Output:\n",
    "10000"
   ]
  },
  {
   "cell_type": "code",
   "execution_count": 1,
   "metadata": {},
   "outputs": [
    {
     "name": "stdout",
     "output_type": "stream",
     "text": [
      "10\n",
      "4\n",
      "10000\n"
     ]
    }
   ],
   "source": [
    "# Write your code here\n",
    "a=int(input())\n",
    "b=int(input())\n",
    "Expo=a**b\n",
    "print(Expo)"
   ]
  },
  {
   "cell_type": "markdown",
   "metadata": {},
   "source": [
    "Q>\n",
    "Find average Marks\n",
    "Send Feedback\n",
    "Write a program to input marks of three tests of a student (all integers). Then calculate and print the average of all test marks.\n",
    "Input format :\n",
    "3 Test marks (in different lines)\n",
    "Output format :\n",
    "Average \n",
    "\n",
    "Sample Input 1 :\n",
    "\n",
    "3 \n",
    "\n",
    "4 \n",
    "\n",
    "6\n",
    "\n",
    "Sample Output 1 :\n",
    "\n",
    "4.333333333333333"
   ]
  },
  {
   "cell_type": "code",
   "execution_count": 2,
   "metadata": {},
   "outputs": [
    {
     "name": "stdout",
     "output_type": "stream",
     "text": [
      "3\n",
      "4\n",
      "6\n",
      "4.333333333333333\n"
     ]
    }
   ],
   "source": [
    "# Read input as sepcified in the question\n",
    "# Print output as specified in the question\n",
    "a=int(input())\n",
    "b=int(input())\n",
    "c=int(input())\n",
    "Avg=(a+b+c)/3\n",
    "print(Avg)\n"
   ]
  },
  {
   "cell_type": "markdown",
   "metadata": {},
   "source": [
    "Q>\n",
    "Arithmetic Progression\n",
    "Send Feedback\n",
    "You are given first three entries of an arithmetic progression. You have to calculate the common difference and print it.\n",
    "Input format:\n",
    "The first line of input contains an integer a (1 <= a <= 100)\n",
    "The second line of input contains an integer b (1 <= b <= 100) \n",
    "The third line of input contains an integer c (1 <= c <= 100) \n",
    "Constraints:\n",
    "Time Limit: 1 second\n",
    "Output format:\n",
    "The first and only line of output contains the result.  \n",
    "\n",
    "Sample Input:\n",
    "\n",
    "1\n",
    "\n",
    "3\n",
    "\n",
    "5\n",
    "\n",
    "Sample Output:\n",
    "\n",
    "2"
   ]
  },
  {
   "cell_type": "code",
   "execution_count": 4,
   "metadata": {},
   "outputs": [
    {
     "name": "stdout",
     "output_type": "stream",
     "text": [
      "1\n",
      "3\n",
      "5\n",
      "2\n"
     ]
    }
   ],
   "source": [
    "# Write your code here\n",
    "a=int(input())\n",
    "b=int(input())\n",
    "c=int(input())\n",
    "CD=(b-a)\n",
    "print(CD)"
   ]
  },
  {
   "cell_type": "markdown",
   "metadata": {},
   "source": [
    "Q>\n",
    "\n",
    "Rectangular Area\n",
    "\n",
    "You are given a rectangle in a plane. The corner coordinates of this rectangle is provided to you. You have to print the amount of area of the plane covered by this rectangles.\n",
    "The end coordinates are provided as four integral values: x1, y1, x2, y2. It is given that x1 < x2 and y1 < y2.\n",
    "\n",
    "Input format:\n",
    "\n",
    "The first line of input contains an integer x1 (1 <= x1 <= 10)\n",
    "The second line of input contains an integer y1 (1 <= y1 <= 10) \n",
    "The third line of input contains an integer x2 (1 <= x2 <= 10)\n",
    "The fourth line of input contains an integer y2 (1 <= y2 <= 10) \n",
    "\n",
    "Constraints:\n",
    "Time Limit: 1 second\n",
    "\n",
    "Output format:\n",
    "The first and only line of output contains the result.  \n",
    "\n",
    "Sample Input:\n",
    "\n",
    "1\n",
    "\n",
    "1\n",
    "\n",
    "3\n",
    "\n",
    "3\n",
    "\n",
    "Sample Output:\n",
    "\n",
    "4"
   ]
  },
  {
   "cell_type": "code",
   "execution_count": 5,
   "metadata": {},
   "outputs": [
    {
     "name": "stdout",
     "output_type": "stream",
     "text": [
      "1\n",
      "1\n",
      "3\n",
      "3\n",
      "4\n"
     ]
    }
   ],
   "source": [
    "# Write your code here\n",
    "x1=int(input())\n",
    "y1=int(input())\n",
    "x2=int(input())\n",
    "y2=int(input())\n",
    "l=(y2-y1)\n",
    "b=(x2-x1)\n",
    "Area=l*b\n",
    "print(Area)"
   ]
  },
  {
   "cell_type": "code",
   "execution_count": null,
   "metadata": {},
   "outputs": [],
   "source": []
  }
 ],
 "metadata": {
  "kernelspec": {
   "display_name": "Python 3",
   "language": "python",
   "name": "python3"
  },
  "language_info": {
   "codemirror_mode": {
    "name": "ipython",
    "version": 3
   },
   "file_extension": ".py",
   "mimetype": "text/x-python",
   "name": "python",
   "nbconvert_exporter": "python",
   "pygments_lexer": "ipython3",
   "version": "3.7.1"
  }
 },
 "nbformat": 4,
 "nbformat_minor": 2
}
