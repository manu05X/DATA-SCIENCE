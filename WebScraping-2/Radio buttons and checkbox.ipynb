{
 "cells": [
  {
   "cell_type": "markdown",
   "metadata": {},
   "source": [
    "#https://www.guru99.com/checkbox-and-radio-button-webdriver.html\n",
    "* Locate radio btn\n",
    "* Find the value over which we want to select\n",
    "* Click over that\n",
    "* only one value is selected"
   ]
  },
  {
   "cell_type": "code",
   "execution_count": 1,
   "metadata": {},
   "outputs": [],
   "source": [
    "from selenium import webdriver"
   ]
  },
  {
   "cell_type": "code",
   "execution_count": 2,
   "metadata": {},
   "outputs": [
    {
     "data": {
      "text/plain": [
       "<selenium.webdriver.chrome.webdriver.WebDriver (session=\"dc6b902d738bc0adb1080e58c2526a20\")>"
      ]
     },
     "execution_count": 2,
     "metadata": {},
     "output_type": "execute_result"
    }
   ],
   "source": [
    "driver = webdriver.Chrome(executable_path = r'C:\\Users\\Manish\\DriverChrome\\chromedriver') #creating a driver sesion\n",
    "driver"
   ]
  },
  {
   "cell_type": "code",
   "execution_count": 3,
   "metadata": {},
   "outputs": [],
   "source": [
    "#https://www.toolsqa.com/automation-practice-form/\n",
    "#visit the required site\n",
    "driver.get('https://www.toolsqa.com/automation-practice-form/')"
   ]
  },
  {
   "cell_type": "code",
   "execution_count": 10,
   "metadata": {},
   "outputs": [
    {
     "name": "stdout",
     "output_type": "stream",
     "text": [
      "<input id=\"exp-0\" name=\"exp\" type=\"radio\" value=\"1\">\n"
     ]
    }
   ],
   "source": [
    "#only one btn of Year Of Exprience\n",
    "btn = driver.find_element_by_name('exp')\n",
    "print(btn.get_attribute('outerHTML'))"
   ]
  },
  {
   "cell_type": "code",
   "execution_count": 11,
   "metadata": {},
   "outputs": [
    {
     "data": {
      "text/plain": [
       "[<selenium.webdriver.remote.webelement.WebElement (session=\"6afb35936d731559902cc4ca8fb75cfc\", element=\"dbd837f8-b934-4f2c-a46a-f945408c0b60\")>,\n",
       " <selenium.webdriver.remote.webelement.WebElement (session=\"6afb35936d731559902cc4ca8fb75cfc\", element=\"30593fbc-1ac2-46e5-806c-b6bd9006b4d1\")>,\n",
       " <selenium.webdriver.remote.webelement.WebElement (session=\"6afb35936d731559902cc4ca8fb75cfc\", element=\"49eb9c43-af8a-4890-b9d2-b3133617407a\")>,\n",
       " <selenium.webdriver.remote.webelement.WebElement (session=\"6afb35936d731559902cc4ca8fb75cfc\", element=\"8b28c3b8-3d9e-4726-a9f2-4f56af8ce845\")>,\n",
       " <selenium.webdriver.remote.webelement.WebElement (session=\"6afb35936d731559902cc4ca8fb75cfc\", element=\"6184dc76-1c9f-493e-a4ff-6f328bcc8e39\")>,\n",
       " <selenium.webdriver.remote.webelement.WebElement (session=\"6afb35936d731559902cc4ca8fb75cfc\", element=\"7ed5d43f-7773-4593-bcd3-d8f32c34c391\")>,\n",
       " <selenium.webdriver.remote.webelement.WebElement (session=\"6afb35936d731559902cc4ca8fb75cfc\", element=\"e7822065-9090-4414-9806-1badd4626e5c\")>]"
      ]
     },
     "execution_count": 11,
     "metadata": {},
     "output_type": "execute_result"
    }
   ],
   "source": [
    "# for getting all btns of Year Of Exprience\n",
    "driver = webdriver.Chrome(executable_path = r'C:\\Users\\Manish\\DriverChrome\\chromedriver') #creating a driver sesion\n",
    "driver.get('https://www.toolsqa.com/automation-practice-form/')\n",
    "btn = driver.find_elements_by_name('exp')\n",
    "btn"
   ]
  },
  {
   "cell_type": "code",
   "execution_count": 15,
   "metadata": {},
   "outputs": [],
   "source": [
    "driver = webdriver.Chrome(executable_path = r'C:\\Users\\Manish\\DriverChrome\\chromedriver') #creating a driver sesion\n",
    "driver.get('https://www.toolsqa.com/automation-practice-form/')\n",
    "btn = driver.find_elements_by_name('exp')"
   ]
  },
  {
   "cell_type": "code",
   "execution_count": 17,
   "metadata": {},
   "outputs": [],
   "source": [
    "btn[2].click() # for selecting 3rd btn"
   ]
  },
  {
   "cell_type": "code",
   "execution_count": 18,
   "metadata": {},
   "outputs": [
    {
     "name": "stdout",
     "output_type": "stream",
     "text": [
      "True\n",
      "False\n"
     ]
    }
   ],
   "source": [
    "print(btn[2].is_selected())\n",
    "print(btn[0].is_selected())"
   ]
  },
  {
   "cell_type": "code",
   "execution_count": 19,
   "metadata": {},
   "outputs": [],
   "source": [
    "#update the selection for selecting 5th btn\n",
    "btn[4].click()"
   ]
  },
  {
   "cell_type": "markdown",
   "metadata": {},
   "source": [
    "# CheckBox\n",
    "* Multiple value coud be selected simultenously\n",
    "* If we click again in checkboxes it will be deselected\n",
    "\n",
    "* Locate CheckBox\n",
    "* Find the value over which we want to select\n",
    "* Click over that"
   ]
  },
  {
   "cell_type": "code",
   "execution_count": 23,
   "metadata": {},
   "outputs": [
    {
     "data": {
      "text/plain": [
       "[<selenium.webdriver.remote.webelement.WebElement (session=\"03560b2c46d08457f584383433897469\", element=\"b8cfd244-8e6e-4200-8497-97c090681664\")>,\n",
       " <selenium.webdriver.remote.webelement.WebElement (session=\"03560b2c46d08457f584383433897469\", element=\"b0a792f0-56d2-4bf1-998e-db59ed77c3da\")>]"
      ]
     },
     "execution_count": 23,
     "metadata": {},
     "output_type": "execute_result"
    }
   ],
   "source": [
    "driver = webdriver.Chrome(executable_path = r'C:\\Users\\Manish\\DriverChrome\\chromedriver') #creating a driver sesion\n",
    "driver.get('https://www.toolsqa.com/automation-practice-form/')\n",
    "checkboxes = driver.find_elements_by_name('profession')\n",
    "checkboxes  #get the list of all the checkboxes"
   ]
  },
  {
   "cell_type": "code",
   "execution_count": 25,
   "metadata": {},
   "outputs": [],
   "source": [
    "#we don't know which checkbox is Automation Tester that we want to click therefor use loop\n",
    "for i in checkboxes:\n",
    "    if i.get_attribute('value') == 'Automation Tester':\n",
    "        i.click()"
   ]
  },
  {
   "cell_type": "code",
   "execution_count": null,
   "metadata": {},
   "outputs": [],
   "source": []
  }
 ],
 "metadata": {
  "kernelspec": {
   "display_name": "Python 3",
   "language": "python",
   "name": "python3"
  },
  "language_info": {
   "codemirror_mode": {
    "name": "ipython",
    "version": 3
   },
   "file_extension": ".py",
   "mimetype": "text/x-python",
   "name": "python",
   "nbconvert_exporter": "python",
   "pygments_lexer": "ipython3",
   "version": "3.7.1"
  }
 },
 "nbformat": 4,
 "nbformat_minor": 2
}
