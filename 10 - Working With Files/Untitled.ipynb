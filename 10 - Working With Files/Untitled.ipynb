{
 "cells": [
  {
   "cell_type": "markdown",
   "metadata": {},
   "source": [
    "###### Print 100 Bytes\n",
    "Q>\n",
    "Given file \"Sample.txt\"\n",
    "\n",
    "Open the file\n",
    "\n",
    "Read the first 100 bytes of file and print them.\n",
    "\n",
    "\n",
    "* Ans\n",
    "\n",
    "###### Open and read data file as specified in the question\n",
    "###### Print the required output in given format\n",
    "\n",
    "x=open('Sample.txt')\n",
    "\n",
    "y=x.read(100)\n",
    "\n",
    "print(y)"
   ]
  },
  {
   "cell_type": "markdown",
   "metadata": {},
   "source": [
    "###### Q>\n",
    "\n",
    "Read the first 5 lines from file and print them (in separate lines)."
   ]
  },
  {
   "cell_type": "markdown",
   "metadata": {},
   "source": [
    "###### ans:\n",
    "\n",
    "x=open('Sample.txt')\n",
    "\n",
    "for i in range(5):\n",
    "    \n",
    "    print(x.readline())"
   ]
  },
  {
   "cell_type": "code",
   "execution_count": null,
   "metadata": {},
   "outputs": [],
   "source": []
  }
 ],
 "metadata": {
  "kernelspec": {
   "display_name": "Python 3",
   "language": "python",
   "name": "python3"
  },
  "language_info": {
   "codemirror_mode": {
    "name": "ipython",
    "version": 3
   },
   "file_extension": ".py",
   "mimetype": "text/x-python",
   "name": "python",
   "nbconvert_exporter": "python",
   "pygments_lexer": "ipython3",
   "version": "3.7.1"
  }
 },
 "nbformat": 4,
 "nbformat_minor": 2
}
