{
 "cells": [
  {
   "cell_type": "code",
   "execution_count": 10,
   "metadata": {
    "scrolled": true
   },
   "outputs": [
    {
     "name": "stdout",
     "output_type": "stream",
     "text": [
      "200\n",
      "https://codingninjas.in/api/v3/courses\n",
      "<class 'requests.structures.CaseInsensitiveDict'>\n",
      "{'Date': 'Mon, 13 Jul 2020 03:48:16 GMT', 'Content-Type': 'application/json', 'Transfer-Encoding': 'chunked', 'Connection': 'keep-alive', 'Server': 'nginx/1.4.6 (Ubuntu)', 'X-Frame-Options': 'SAMEORIGIN', 'X-XSS-Protection': '1; mode=block', 'X-Content-Type-Options': 'nosniff', 'Access-Control-Allow-Origin': '*', 'Access-Control-Allow-Methods': 'POST, GET, PUT, DELETE, OPTIONS', 'Access-Control-Allow-Headers': 'Access-Control-Allow-Headers, Origin,Accept, X-Requested-With, Content-Type, Access-Control-Request-Method, Access-Control-Request-Headers, Authorization', 'Access-Control-Max-Age': '1728000', 'ETag': 'W/\"d4b0723bc1223d7ee6bb553d541d0f26\"', 'Cache-Control': 'max-age=0, private, must-revalidate', 'X-Request-Id': 'afb26ff4-29bb-4bfc-9f20-e462801c81d0', 'X-Runtime': '0.011395', 'Strict-Transport-Security': 'max-age=31536000; includeSubDomains;'}\n"
     ]
    }
   ],
   "source": [
    "import requests\n",
    "response = requests.get(\"https://codingninjas.in/api/v3/courses\")\n",
    "print(response.status_code)\n",
    "# print(response.encoding)\n",
    "# print(response.text)\n",
    "print(response.url)\n",
    "print(type(response.headers))\n",
    "print(response.headers)"
   ]
  },
  {
   "cell_type": "code",
   "execution_count": 15,
   "metadata": {},
   "outputs": [
    {
     "name": "stdout",
     "output_type": "stream",
     "text": [
      "Mon, 13 Jul 2020 03:54:28 GMT\n",
      "nginx/1.4.6 (Ubuntu)\n",
      "application/json\n"
     ]
    }
   ],
   "source": [
    "import requests\n",
    "response = requests.get(\"https://codingninjas.in/api/v3/courses\")\n",
    "header_info = response.headers\n",
    "print(header_info['Date'])\n",
    "print(header_info['Server'])\n",
    "print(header_info['Content-Type'])"
   ]
  },
  {
   "cell_type": "markdown",
   "metadata": {},
   "source": [
    "### Q Content type\n",
    "\n",
    "Print the content-type received after making a get request to url = https://codingninjas.in/api/v3/events\n",
    "\n",
    "Note : content-type can be found in header information of response object."
   ]
  },
  {
   "cell_type": "code",
   "execution_count": 16,
   "metadata": {},
   "outputs": [
    {
     "name": "stdout",
     "output_type": "stream",
     "text": [
      "application/json\n"
     ]
    }
   ],
   "source": [
    "## Print the required output in given format\n",
    "import requests\n",
    "respons = requests.get(\"https://codingninjas.in/api/v3/events\")\n",
    "#print(respons.headers)\n",
    "header_info= respons.headers\n",
    "print(header_info['Content-type'])"
   ]
  },
  {
   "cell_type": "code",
   "execution_count": 19,
   "metadata": {},
   "outputs": [
    {
     "name": "stdout",
     "output_type": "stream",
     "text": [
      "{'Student': 'Manish'}\n",
      "<class 'dict'>\n",
      "Manish\n"
     ]
    }
   ],
   "source": [
    "import json\n",
    "json_data  ='{\"Student\" : \"Manish\"}' #json key and value exampl\n",
    "python_data = json.loads(json_data) #converting json to python\n",
    "print(python_data)\n",
    "print(type(python_data))\n",
    "print(python_data['Student']) # printing or acessing key's value of json "
   ]
  },
  {
   "cell_type": "code",
   "execution_count": 23,
   "metadata": {},
   "outputs": [
    {
     "name": "stdout",
     "output_type": "stream",
     "text": [
      "101\n",
      "<class 'int'>\n"
     ]
    }
   ],
   "source": [
    "json_data  ='{\"Roll_Number\" : 101}'\n",
    "python_data = json.loads(json_data) #converting json to python\n",
    "print(python_data['Roll_Number'])# printing or acessing key's value of json \n",
    "print(type(python_data['Roll_Number']))"
   ]
  },
  {
   "cell_type": "code",
   "execution_count": 31,
   "metadata": {},
   "outputs": [
    {
     "name": "stdout",
     "output_type": "stream",
     "text": [
      "Manish\n",
      "102\n",
      "3\n",
      "{'Name': 'Manish', 'roll_no': 102, 'Class': 6}\n"
     ]
    }
   ],
   "source": [
    "json_data  ='{\"Student\" : {\"Name\" : \"Manish\", \"roll_no\" : 102, \"Class\" : 6}}'\n",
    "python_data = json.loads(json_data)\n",
    "\n",
    "Student_details = python_data[\"Student\"]\n",
    "print(Student_details['Name'])\n",
    "print(Student_details['roll_no'])\n",
    "print(len(Student_details))\n",
    "print(Student_details)"
   ]
  },
  {
   "cell_type": "code",
   "execution_count": null,
   "metadata": {},
   "outputs": [],
   "source": []
  }
 ],
 "metadata": {
  "kernelspec": {
   "display_name": "Python 3",
   "language": "python",
   "name": "python3"
  },
  "language_info": {
   "codemirror_mode": {
    "name": "ipython",
    "version": 3
   },
   "file_extension": ".py",
   "mimetype": "text/x-python",
   "name": "python",
   "nbconvert_exporter": "python",
   "pygments_lexer": "ipython3",
   "version": "3.7.1"
  }
 },
 "nbformat": 4,
 "nbformat_minor": 2
}
